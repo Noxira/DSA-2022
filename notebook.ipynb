{
 "cells": [
  {
   "cell_type": "markdown",
   "source": "## Initialization",
   "metadata": {
    "cell_id": "4533aeaac10e467cb926381e74cbbf94",
    "tags": [],
    "deepnote_cell_type": "markdown",
    "deepnote_cell_height": 70
   }
  },
  {
   "cell_type": "code",
   "source": "import pandas as pd\nimport numpy as np\npd.plotting.register_matplotlib_converters()\nimport matplotlib.pyplot as plt\n%matplotlib inline\nimport seaborn as sns\nimport fnmatch\nimport statsmodels.api as sm\nimport statsmodels.formula.api as smf\nfrom patsy import dmatrices",
   "metadata": {
    "tags": [],
    "cell_id": "f51acb92-24a0-4b51-a58c-0847219f93da",
    "deepnote_to_be_reexecuted": false,
    "source_hash": "ca519a81",
    "execution_start": 1661038176562,
    "execution_millis": 3646,
    "deepnote_cell_type": "code",
    "deepnote_cell_height": 238
   },
   "outputs": [],
   "execution_count": null
  },
  {
   "cell_type": "markdown",
   "source": "## Import Datasets",
   "metadata": {
    "is_collapsed": false,
    "cell_id": "36fc87d1d3d0432d97e9cdbbf2c75c43",
    "tags": [],
    "formattedRanges": [],
    "deepnote_cell_type": "text-cell-h2"
   }
  },
  {
   "cell_type": "code",
   "source": "petaBencana = pd.read_csv(\"./dataset/PetaBencanaDataset.csv\")\n# kemiskinan_jabar = pd.read_csv(\"./dataset/2020-2021_KemiskinanJabar.csv\")\n# inflasi_bulanan_raw = pd.read_csv('./dataset/inflasi_raw.csv')\nkemiskinan_jabar_2010_2020 = pd.read_csv('./dataset/2010-2020_KemiskinanJabar.csv')\nkemiskinan_jabar_2020_2021 = pd.read_csv('./dataset/2020-2021_KemiskinanJabar.csv')\nkemiskinan_jabar_2002_2020 = pd.read_csv('./dataset/2002-2020_KemiskinanJabar.csv')\nip_jabar = pd.read_csv(\"./dataset/2010-2019_IndeksPendidikanJabar.csv\")\nip_jabar2021 = pd.read_csv('./dataset/2020-2021_IndeksPendidikan.csv')\nkepadatan_jabar = pd.read_csv(\"./dataset/2013-2021_KepadatanPendudukJabar.csv\")\npengangguran_jabar = pd.read_csv(\"./dataset/2013-2020_PengangguranTerbukaJabar.csv\")\npengangguran21 = pd.read_csv('./dataset/2021_PengangguranTerbuka.csv')\nluas_jabar = pd.read_csv('./dataset/luasWilayahJabar.csv')\ncovidjabar = pd.read_csv('./dataset/CovidJabar.csv')",
   "metadata": {
    "cell_id": "9d8d4b1179a144fc8627e1027eae22ae",
    "tags": [],
    "deepnote_to_be_reexecuted": false,
    "source_hash": "2a3d433f",
    "execution_start": 1661038180212,
    "execution_millis": 198,
    "deepnote_cell_type": "code",
    "deepnote_cell_height": 292
   },
   "outputs": [],
   "execution_count": null
  },
  {
   "cell_type": "markdown",
   "source": "## EDA & Pre-Processing",
   "metadata": {
    "is_collapsed": false,
    "cell_id": "8af8447335de4cc791a08765ba47837a",
    "tags": [],
    "formattedRanges": [],
    "deepnote_cell_type": "text-cell-h2"
   }
  },
  {
   "cell_type": "markdown",
   "source": "### Peta Bencana Dataset",
   "metadata": {
    "cell_id": "1f4ed65034564493b222996d910ed698",
    "tags": [],
    "deepnote_cell_type": "markdown",
    "deepnote_cell_height": 62
   }
  },
  {
   "cell_type": "code",
   "source": "petaBencana.info()",
   "metadata": {
    "cell_id": "980c52cd1d904c43950a0aa11643549c",
    "tags": [],
    "deepnote_to_be_reexecuted": false,
    "source_hash": "f6429386",
    "execution_start": 1661038180418,
    "execution_millis": 485,
    "is_code_hidden": true,
    "is_output_hidden": true,
    "deepnote_cell_type": "code",
    "deepnote_cell_height": 105.59375
   },
   "outputs": [
    {
     "name": "stdout",
     "text": "<class 'pandas.core.frame.DataFrame'>\nRangeIndex: 4235 entries, 0 to 4234\nData columns (total 22 columns):\n #   Column         Non-Null Count  Dtype  \n---  ------         --------------  -----  \n 0   pkey           4235 non-null   int64  \n 1   date           4235 non-null   object \n 2   time           4235 non-null   object \n 3   source         4235 non-null   object \n 4   status         4235 non-null   object \n 5   url            3570 non-null   object \n 6   image_url      3334 non-null   object \n 7   disaster_type  4235 non-null   object \n 8   report_dat     3455 non-null   object \n 9   tags           4235 non-null   object \n 10  title          188 non-null    object \n 11  text           3830 non-null   object \n 12  ID_Desa        4227 non-null   float64\n 13  ID_Kec         4227 non-null   float64\n 14  ID_Kab         4227 non-null   float64\n 15  ID_Prov        4227 non-null   float64\n 16  Desa           4227 non-null   object \n 17  Kecamatan      4227 non-null   object \n 18  Kabupaten      4228 non-null   object \n 19  Provinsi       4228 non-null   object \n 20  long           4235 non-null   float64\n 21  lat            4235 non-null   float64\ndtypes: float64(6), int64(1), object(15)\nmemory usage: 728.0+ KB\n",
     "output_type": "stream"
    }
   ],
   "execution_count": null
  },
  {
   "cell_type": "code",
   "source": "petaBencana.head()",
   "metadata": {
    "cell_id": "a8f0125c684042408982e9aaeb43489d",
    "tags": [],
    "deepnote_to_be_reexecuted": false,
    "source_hash": "4f28c3f8",
    "execution_start": 1661038180454,
    "execution_millis": 452,
    "is_code_hidden": true,
    "is_output_hidden": true,
    "deepnote_cell_type": "code",
    "deepnote_cell_height": 105.59375
   },
   "outputs": [
    {
     "output_type": "execute_result",
     "execution_count": 4,
     "data": {
      "application/vnd.deepnote.dataframe.v3+json": {
       "column_count": 22,
       "row_count": 5,
       "columns": [
        {
         "name": "pkey",
         "dtype": "int64",
         "stats": {
          "unique_count": 5,
          "nan_count": 0,
          "min": "94941",
          "max": "95064",
          "histogram": [
           {
            "bin_start": 94941,
            "bin_end": 94953.3,
            "count": 1
           },
           {
            "bin_start": 94953.3,
            "bin_end": 94965.6,
            "count": 0
           },
           {
            "bin_start": 94965.6,
            "bin_end": 94977.9,
            "count": 0
           },
           {
            "bin_start": 94977.9,
            "bin_end": 94990.2,
            "count": 0
           },
           {
            "bin_start": 94990.2,
            "bin_end": 95002.5,
            "count": 0
           },
           {
            "bin_start": 95002.5,
            "bin_end": 95014.8,
            "count": 0
           },
           {
            "bin_start": 95014.8,
            "bin_end": 95027.1,
            "count": 0
           },
           {
            "bin_start": 95027.1,
            "bin_end": 95039.4,
            "count": 0
           },
           {
            "bin_start": 95039.4,
            "bin_end": 95051.7,
            "count": 0
           },
           {
            "bin_start": 95051.7,
            "bin_end": 95064,
            "count": 4
           }
          ]
         }
        },
        {
         "name": "date",
         "dtype": "object",
         "stats": {
          "unique_count": 1,
          "nan_count": 0,
          "categories": [
           {
            "name": "01/01/2020",
            "count": 5
           }
          ]
         }
        },
        {
         "name": "time",
         "dtype": "object",
         "stats": {
          "unique_count": 5,
          "nan_count": 0,
          "categories": [
           {
            "name": "00:03:02",
            "count": 1
           },
           {
            "name": "00:43:02",
            "count": 1
           },
           {
            "name": "3 others",
            "count": 3
           }
          ]
         }
        },
        {
         "name": "source",
         "dtype": "object",
         "stats": {
          "unique_count": 1,
          "nan_count": 0,
          "categories": [
           {
            "name": "grasp",
            "count": 5
           }
          ]
         }
        },
        {
         "name": "status",
         "dtype": "object",
         "stats": {
          "unique_count": 1,
          "nan_count": 0,
          "categories": [
           {
            "name": "confirmed",
            "count": 5
           }
          ]
         }
        },
        {
         "name": "url",
         "dtype": "object",
         "stats": {
          "unique_count": 5,
          "nan_count": 0,
          "categories": [
           {
            "name": "2042596d-b551-4ef2-803d-1ee964cf2278",
            "count": 1
           },
           {
            "name": "5a0ad45f-7020-43b7-882f-672487ebc6d8",
            "count": 1
           },
           {
            "name": "3 others",
            "count": 3
           }
          ]
         }
        },
        {
         "name": "image_url",
         "dtype": "object",
         "stats": {
          "unique_count": 4,
          "nan_count": 1,
          "categories": [
           {
            "name": "https://images.petabencana.id/2042596d-b551-4ef2-803d-1ee964cf2278.jpg",
            "count": 1
           },
           {
            "name": "3 others",
            "count": 3
           },
           {
            "name": "Missing",
            "count": 1
           }
          ]
         }
        },
        {
         "name": "disaster_type",
         "dtype": "object",
         "stats": {
          "unique_count": 1,
          "nan_count": 0,
          "categories": [
           {
            "name": "flood",
            "count": 5
           }
          ]
         }
        },
        {
         "name": "report_dat",
         "dtype": "object",
         "stats": {
          "unique_count": 5,
          "nan_count": 0,
          "categories": [
           {
            "name": "{ \"report_type\": \"flood\", \"flood_depth\": 30 }",
            "count": 1
           },
           {
            "name": "{ \"points\": 1, \"flood_depth\": 80, \"report_type\": \"flood\" }",
            "count": 1
           },
           {
            "name": "3 others",
            "count": 3
           }
          ]
         }
        },
        {
         "name": "tags",
         "dtype": "object",
         "stats": {
          "unique_count": 4,
          "nan_count": 0,
          "categories": [
           {
            "name": "{ \"district_id\": null, \"local_area_id\": null, \"instance_region_code\": \"ID-JK\" }",
            "count": 2
           },
           {
            "name": "{ \"district_id\": \"3174\", \"local_area_id\": \"125\", \"instance_region_code\": \"ID-JK\" }",
            "count": 1
           },
           {
            "name": "2 others",
            "count": 2
           }
          ]
         }
        },
        {
         "name": "title",
         "dtype": "object",
         "stats": {
          "unique_count": 0,
          "nan_count": 5,
          "categories": [
           {
            "name": "Missing",
            "count": 5
           }
          ]
         }
        },
        {
         "name": "text",
         "dtype": "object",
         "stats": {
          "unique_count": 4,
          "nan_count": 1,
          "categories": [
           {
            "name": "Banjir di daerah taman ratu dan sekitarnya. Paling parah dari tahun2 sebelumnya",
            "count": 1
           },
           {
            "name": "3 others",
            "count": 3
           },
           {
            "name": "Missing",
            "count": 1
           }
          ]
         }
        },
        {
         "name": "ID_Desa",
         "dtype": "float64",
         "stats": {
          "unique_count": 5,
          "nan_count": 0,
          "min": "3172060004.0",
          "max": "3275061004.0",
          "histogram": [
           {
            "bin_start": 3172060004,
            "bin_end": 3182360104,
            "count": 3
           },
           {
            "bin_start": 3182360104,
            "bin_end": 3192660204,
            "count": 0
           },
           {
            "bin_start": 3192660204,
            "bin_end": 3202960304,
            "count": 0
           },
           {
            "bin_start": 3202960304,
            "bin_end": 3213260404,
            "count": 0
           },
           {
            "bin_start": 3213260404,
            "bin_end": 3223560504,
            "count": 1
           },
           {
            "bin_start": 3223560504,
            "bin_end": 3233860604,
            "count": 0
           },
           {
            "bin_start": 3233860604,
            "bin_end": 3244160704,
            "count": 0
           },
           {
            "bin_start": 3244160704,
            "bin_end": 3254460804,
            "count": 0
           },
           {
            "bin_start": 3254460804,
            "bin_end": 3264760904,
            "count": 0
           },
           {
            "bin_start": 3264760904,
            "bin_end": 3275061004,
            "count": 1
           }
          ]
         }
        },
        {
         "name": "ID_Kec",
         "dtype": "float64",
         "stats": {
          "unique_count": 5,
          "nan_count": 0,
          "min": "3172060.0",
          "max": "3275061.0",
          "histogram": [
           {
            "bin_start": 3172060,
            "bin_end": 3182360.1,
            "count": 3
           },
           {
            "bin_start": 3182360.1,
            "bin_end": 3192660.2,
            "count": 0
           },
           {
            "bin_start": 3192660.2,
            "bin_end": 3202960.3,
            "count": 0
           },
           {
            "bin_start": 3202960.3,
            "bin_end": 3213260.4,
            "count": 0
           },
           {
            "bin_start": 3213260.4,
            "bin_end": 3223560.5,
            "count": 1
           },
           {
            "bin_start": 3223560.5,
            "bin_end": 3233860.6,
            "count": 0
           },
           {
            "bin_start": 3233860.6,
            "bin_end": 3244160.7,
            "count": 0
           },
           {
            "bin_start": 3244160.7,
            "bin_end": 3254460.8,
            "count": 0
           },
           {
            "bin_start": 3254460.8,
            "bin_end": 3264760.9,
            "count": 0
           },
           {
            "bin_start": 3264760.9,
            "bin_end": 3275061,
            "count": 1
           }
          ]
         }
        },
        {
         "name": "ID_Kab",
         "dtype": "float64",
         "stats": {
          "unique_count": 5,
          "nan_count": 0,
          "min": "3172.0",
          "max": "3275.0",
          "histogram": [
           {
            "bin_start": 3172,
            "bin_end": 3182.3,
            "count": 3
           },
           {
            "bin_start": 3182.3,
            "bin_end": 3192.6,
            "count": 0
           },
           {
            "bin_start": 3192.6,
            "bin_end": 3202.9,
            "count": 0
           },
           {
            "bin_start": 3202.9,
            "bin_end": 3213.2,
            "count": 0
           },
           {
            "bin_start": 3213.2,
            "bin_end": 3223.5,
            "count": 1
           },
           {
            "bin_start": 3223.5,
            "bin_end": 3233.8,
            "count": 0
           },
           {
            "bin_start": 3233.8,
            "bin_end": 3244.1,
            "count": 0
           },
           {
            "bin_start": 3244.1,
            "bin_end": 3254.4,
            "count": 0
           },
           {
            "bin_start": 3254.4,
            "bin_end": 3264.7,
            "count": 0
           },
           {
            "bin_start": 3264.7,
            "bin_end": 3275,
            "count": 1
           }
          ]
         }
        },
        {
         "name": "ID_Prov",
         "dtype": "float64",
         "stats": {
          "unique_count": 2,
          "nan_count": 0,
          "min": "31.0",
          "max": "32.0",
          "histogram": [
           {
            "bin_start": 31,
            "bin_end": 31.1,
            "count": 3
           },
           {
            "bin_start": 31.1,
            "bin_end": 31.2,
            "count": 0
           },
           {
            "bin_start": 31.2,
            "bin_end": 31.3,
            "count": 0
           },
           {
            "bin_start": 31.3,
            "bin_end": 31.4,
            "count": 0
           },
           {
            "bin_start": 31.4,
            "bin_end": 31.5,
            "count": 0
           },
           {
            "bin_start": 31.5,
            "bin_end": 31.6,
            "count": 0
           },
           {
            "bin_start": 31.6,
            "bin_end": 31.7,
            "count": 0
           },
           {
            "bin_start": 31.7,
            "bin_end": 31.8,
            "count": 0
           },
           {
            "bin_start": 31.8,
            "bin_end": 31.9,
            "count": 0
           },
           {
            "bin_start": 31.9,
            "bin_end": 32,
            "count": 2
           }
          ]
         }
        },
        {
         "name": "Desa",
         "dtype": "object",
         "stats": {
          "unique_count": 5,
          "nan_count": 0,
          "categories": [
           {
            "name": "Duri Kepa",
            "count": 1
           },
           {
            "name": "Pejuang",
            "count": 1
           },
           {
            "name": "3 others",
            "count": 3
           }
          ]
         }
        },
        {
         "name": "Kecamatan",
         "dtype": "object",
         "stats": {
          "unique_count": 5,
          "nan_count": 0,
          "categories": [
           {
            "name": "Kebon Jeruk",
            "count": 1
           },
           {
            "name": "Medan Satria",
            "count": 1
           },
           {
            "name": "3 others",
            "count": 3
           }
          ]
         }
        },
        {
         "name": "Kabupaten",
         "dtype": "object",
         "stats": {
          "unique_count": 4,
          "nan_count": 0,
          "categories": [
           {
            "name": "Bekasi",
            "count": 2
           },
           {
            "name": "Jakarta Barat",
            "count": 1
           },
           {
            "name": "2 others",
            "count": 2
           }
          ]
         }
        },
        {
         "name": "Provinsi",
         "dtype": "object",
         "stats": {
          "unique_count": 2,
          "nan_count": 0,
          "categories": [
           {
            "name": "Daerah Khusus Ibukota Jakarta",
            "count": 3
           },
           {
            "name": "Jawa Barat",
            "count": 2
           }
          ]
         }
        },
        {
         "name": "long",
         "dtype": "float64",
         "stats": {
          "unique_count": 5,
          "nan_count": 0,
          "min": "106.76866",
          "max": "107.16189",
          "histogram": [
           {
            "bin_start": 106.76866,
            "bin_end": 106.807983,
            "count": 1
           },
           {
            "bin_start": 106.807983,
            "bin_end": 106.847306,
            "count": 0
           },
           {
            "bin_start": 106.847306,
            "bin_end": 106.886629,
            "count": 1
           },
           {
            "bin_start": 106.886629,
            "bin_end": 106.925952,
            "count": 1
           },
           {
            "bin_start": 106.925952,
            "bin_end": 106.96527499999999,
            "count": 0
           },
           {
            "bin_start": 106.96527499999999,
            "bin_end": 107.004598,
            "count": 1
           },
           {
            "bin_start": 107.004598,
            "bin_end": 107.043921,
            "count": 0
           },
           {
            "bin_start": 107.043921,
            "bin_end": 107.083244,
            "count": 0
           },
           {
            "bin_start": 107.083244,
            "bin_end": 107.122567,
            "count": 0
           },
           {
            "bin_start": 107.122567,
            "bin_end": 107.16189,
            "count": 1
           }
          ]
         }
        },
        {
         "name": "lat",
         "dtype": "float64",
         "stats": {
          "unique_count": 5,
          "nan_count": 0,
          "min": "-6.3017",
          "max": "-6.16859",
          "histogram": [
           {
            "bin_start": -6.3017,
            "bin_end": -6.2883890000000005,
            "count": 1
           },
           {
            "bin_start": -6.2883890000000005,
            "bin_end": -6.275078000000001,
            "count": 0
           },
           {
            "bin_start": -6.275078000000001,
            "bin_end": -6.261767,
            "count": 0
           },
           {
            "bin_start": -6.261767,
            "bin_end": -6.248456,
            "count": 0
           },
           {
            "bin_start": -6.248456,
            "bin_end": -6.235145,
            "count": 0
           },
           {
            "bin_start": -6.235145,
            "bin_end": -6.221834,
            "count": 1
           },
           {
            "bin_start": -6.221834,
            "bin_end": -6.2085230000000005,
            "count": 0
           },
           {
            "bin_start": -6.2085230000000005,
            "bin_end": -6.195212,
            "count": 0
           },
           {
            "bin_start": -6.195212,
            "bin_end": -6.181901,
            "count": 0
           },
           {
            "bin_start": -6.181901,
            "bin_end": -6.16859,
            "count": 3
           }
          ]
         }
        },
        {
         "name": "_deepnote_index_column",
         "dtype": "int64"
        }
       ],
       "rows": [
        {
         "pkey": 94941,
         "date": "01/01/2020",
         "time": "00:03:02",
         "source": "grasp",
         "status": "confirmed",
         "url": "2042596d-b551-4ef2-803d-1ee964cf2278",
         "image_url": "https://images.petabencana.id/2042596d-b551-4ef2-803d-1ee964cf2278.jpg",
         "disaster_type": "flood",
         "report_dat": "{ \"report_type\": \"flood\", \"flood_depth\": 30 }",
         "tags": "{ \"district_id\": \"3174\", \"local_area_id\": \"125\", \"instance_region_code\": \"ID-JK\" }",
         "title": "nan",
         "text": "Banjir di daerah taman ratu dan sekitarnya. Paling parah dari tahun2 sebelumnya",
         "ID_Desa": 3174020005,
         "ID_Kec": 3174020,
         "ID_Kab": 3174,
         "ID_Prov": 31,
         "Desa": "Duri Kepa",
         "Kecamatan": "Kebon Jeruk",
         "Kabupaten": "Jakarta Barat",
         "Provinsi": "Daerah Khusus Ibukota Jakarta",
         "long": 106.76866,
         "lat": -6.16978,
         "_deepnote_index_column": 0
        },
        {
         "pkey": 95061,
         "date": "01/01/2020",
         "time": "00:43:02",
         "source": "grasp",
         "status": "confirmed",
         "url": "5a0ad45f-7020-43b7-882f-672487ebc6d8",
         "image_url": "https://images.petabencana.id/5a0ad45f-7020-43b7-882f-672487ebc6d8.jpg",
         "disaster_type": "flood",
         "report_dat": "{ \"points\": 1, \"flood_depth\": 80, \"report_type\": \"flood\" }",
         "tags": "{ \"district_id\": null, \"local_area_id\": null, \"instance_region_code\": \"ID-JK\" }",
         "title": "nan",
         "text": "Jl. Kemuning Indah\nKota Harapan Indah.\nBekasi",
         "ID_Desa": 3275061004,
         "ID_Kec": 3275061,
         "ID_Kab": 3275,
         "ID_Prov": 32,
         "Desa": "Pejuang",
         "Kecamatan": "Medan Satria",
         "Kabupaten": "Bekasi",
         "Provinsi": "Jawa Barat",
         "long": 106.9787,
         "lat": -6.17944,
         "_deepnote_index_column": 1
        },
        {
         "pkey": 95062,
         "date": "01/01/2020",
         "time": "01:14:53",
         "source": "grasp",
         "status": "confirmed",
         "url": "e065b40d-2084-48d6-b42f-1f98cb33e4cc",
         "image_url": "nan",
         "disaster_type": "flood",
         "report_dat": "{ \"points\": 1, \"flood_depth\": 51, \"report_type\": \"flood\" }",
         "tags": "{ \"district_id\": \"3172\", \"local_area_id\": \"1789\", \"instance_region_code\": \"ID-JK\" }",
         "title": "nan",
         "text": "Banjir selutut orang dewasa di jalan ros merah 2 cipinang indah",
         "ID_Desa": 3172060004,
         "ID_Kec": 3172060,
         "ID_Kab": 3172,
         "ID_Prov": 31,
         "Desa": "Cipinang Muara",
         "Kecamatan": "Jatinegara",
         "Kabupaten": "Jakarta Timur",
         "Provinsi": "Daerah Khusus Ibukota Jakarta",
         "long": 106.891,
         "lat": -6.23449,
         "_deepnote_index_column": 2
        },
        {
         "pkey": 95063,
         "date": "01/01/2020",
         "time": "01:15:08",
         "source": "grasp",
         "status": "confirmed",
         "url": "7cb26903-b1c8-4be7-8b81-7014c8a83fbd",
         "image_url": "https://images.petabencana.id/7cb26903-b1c8-4be7-8b81-7014c8a83fbd.jpg",
         "disaster_type": "flood",
         "report_dat": "{ \"points\": 2, \"flood_depth\": 100, \"report_type\": \"flood\" }",
         "tags": "{ \"district_id\": null, \"local_area_id\": null, \"instance_region_code\": \"ID-JK\" }",
         "title": "nan",
         "text": "Banjir di daerah kedasih dan sekitarnya, karena hujan dari semalam belum berhenti, sudah memasuki rumah dari jam 7 pagi tadi",
         "ID_Desa": 3216061004,
         "ID_Kec": 3216061,
         "ID_Kab": 3216,
         "ID_Prov": 32,
         "Desa": "Mekarmukti",
         "Kecamatan": "Cikarang Utara",
         "Kabupaten": "Bekasi",
         "Provinsi": "Jawa Barat",
         "long": 107.16189,
         "lat": -6.3017,
         "_deepnote_index_column": 3
        },
        {
         "pkey": 95064,
         "date": "01/01/2020",
         "time": "01:18:03",
         "source": "grasp",
         "status": "confirmed",
         "url": "570d2cb8-d5b6-404f-86ef-8a2a0d27f391",
         "image_url": "https://images.petabencana.id/570d2cb8-d5b6-404f-86ef-8a2a0d27f391.jpg",
         "disaster_type": "flood",
         "report_dat": "{ \"points\": 1, \"flood_depth\": 15, \"report_type\": \"flood\" }",
         "tags": "{ \"district_id\": \"3173\", \"local_area_id\": \"193\", \"instance_region_code\": \"ID-JK\" }",
         "title": "nan",
         "text": "nan",
         "ID_Desa": 3173060002,
         "ID_Kec": 3173060,
         "ID_Kab": 3173,
         "ID_Prov": 31,
         "Desa": "Cempaka Baru",
         "Kecamatan": "Kemayoran",
         "Kabupaten": "Jakarta Pusat",
         "Provinsi": "Daerah Khusus Ibukota Jakarta",
         "long": 106.86092,
         "lat": -6.16859,
         "_deepnote_index_column": 4
        }
       ]
      },
      "text/plain": "    pkey        date      time source     status  \\\n0  94941  01/01/2020  00:03:02  grasp  confirmed   \n1  95061  01/01/2020  00:43:02  grasp  confirmed   \n2  95062  01/01/2020  01:14:53  grasp  confirmed   \n3  95063  01/01/2020  01:15:08  grasp  confirmed   \n4  95064  01/01/2020  01:18:03  grasp  confirmed   \n\n                                    url  \\\n0  2042596d-b551-4ef2-803d-1ee964cf2278   \n1  5a0ad45f-7020-43b7-882f-672487ebc6d8   \n2  e065b40d-2084-48d6-b42f-1f98cb33e4cc   \n3  7cb26903-b1c8-4be7-8b81-7014c8a83fbd   \n4  570d2cb8-d5b6-404f-86ef-8a2a0d27f391   \n\n                                           image_url disaster_type  \\\n0  https://images.petabencana.id/2042596d-b551-4e...         flood   \n1  https://images.petabencana.id/5a0ad45f-7020-43...         flood   \n2                                                NaN         flood   \n3  https://images.petabencana.id/7cb26903-b1c8-4b...         flood   \n4  https://images.petabencana.id/570d2cb8-d5b6-40...         flood   \n\n                                          report_dat  \\\n0      { \"report_type\": \"flood\", \"flood_depth\": 30 }   \n1  { \"points\": 1, \"flood_depth\": 80, \"report_type...   \n2  { \"points\": 1, \"flood_depth\": 51, \"report_type...   \n3  { \"points\": 2, \"flood_depth\": 100, \"report_typ...   \n4  { \"points\": 1, \"flood_depth\": 15, \"report_type...   \n\n                                                tags  ...       ID_Desa  \\\n0  { \"district_id\": \"3174\", \"local_area_id\": \"125...  ...  3.174020e+09   \n1  { \"district_id\": null, \"local_area_id\": null, ...  ...  3.275061e+09   \n2  { \"district_id\": \"3172\", \"local_area_id\": \"178...  ...  3.172060e+09   \n3  { \"district_id\": null, \"local_area_id\": null, ...  ...  3.216061e+09   \n4  { \"district_id\": \"3173\", \"local_area_id\": \"193...  ...  3.173060e+09   \n\n      ID_Kec  ID_Kab  ID_Prov            Desa       Kecamatan      Kabupaten  \\\n0  3174020.0  3174.0     31.0       Duri Kepa     Kebon Jeruk  Jakarta Barat   \n1  3275061.0  3275.0     32.0         Pejuang    Medan Satria         Bekasi   \n2  3172060.0  3172.0     31.0  Cipinang Muara      Jatinegara  Jakarta Timur   \n3  3216061.0  3216.0     32.0      Mekarmukti  Cikarang Utara         Bekasi   \n4  3173060.0  3173.0     31.0    Cempaka Baru       Kemayoran  Jakarta Pusat   \n\n                        Provinsi       long      lat  \n0  Daerah Khusus Ibukota Jakarta  106.76866 -6.16978  \n1                     Jawa Barat  106.97870 -6.17944  \n2  Daerah Khusus Ibukota Jakarta  106.89100 -6.23449  \n3                     Jawa Barat  107.16189 -6.30170  \n4  Daerah Khusus Ibukota Jakarta  106.86092 -6.16859  \n\n[5 rows x 22 columns]",
      "text/html": "<div>\n<style scoped>\n    .dataframe tbody tr th:only-of-type {\n        vertical-align: middle;\n    }\n\n    .dataframe tbody tr th {\n        vertical-align: top;\n    }\n\n    .dataframe thead th {\n        text-align: right;\n    }\n</style>\n<table border=\"1\" class=\"dataframe\">\n  <thead>\n    <tr style=\"text-align: right;\">\n      <th></th>\n      <th>pkey</th>\n      <th>date</th>\n      <th>time</th>\n      <th>source</th>\n      <th>status</th>\n      <th>url</th>\n      <th>image_url</th>\n      <th>disaster_type</th>\n      <th>report_dat</th>\n      <th>tags</th>\n      <th>...</th>\n      <th>ID_Desa</th>\n      <th>ID_Kec</th>\n      <th>ID_Kab</th>\n      <th>ID_Prov</th>\n      <th>Desa</th>\n      <th>Kecamatan</th>\n      <th>Kabupaten</th>\n      <th>Provinsi</th>\n      <th>long</th>\n      <th>lat</th>\n    </tr>\n  </thead>\n  <tbody>\n    <tr>\n      <th>0</th>\n      <td>94941</td>\n      <td>01/01/2020</td>\n      <td>00:03:02</td>\n      <td>grasp</td>\n      <td>confirmed</td>\n      <td>2042596d-b551-4ef2-803d-1ee964cf2278</td>\n      <td>https://images.petabencana.id/2042596d-b551-4e...</td>\n      <td>flood</td>\n      <td>{ \"report_type\": \"flood\", \"flood_depth\": 30 }</td>\n      <td>{ \"district_id\": \"3174\", \"local_area_id\": \"125...</td>\n      <td>...</td>\n      <td>3.174020e+09</td>\n      <td>3174020.0</td>\n      <td>3174.0</td>\n      <td>31.0</td>\n      <td>Duri Kepa</td>\n      <td>Kebon Jeruk</td>\n      <td>Jakarta Barat</td>\n      <td>Daerah Khusus Ibukota Jakarta</td>\n      <td>106.76866</td>\n      <td>-6.16978</td>\n    </tr>\n    <tr>\n      <th>1</th>\n      <td>95061</td>\n      <td>01/01/2020</td>\n      <td>00:43:02</td>\n      <td>grasp</td>\n      <td>confirmed</td>\n      <td>5a0ad45f-7020-43b7-882f-672487ebc6d8</td>\n      <td>https://images.petabencana.id/5a0ad45f-7020-43...</td>\n      <td>flood</td>\n      <td>{ \"points\": 1, \"flood_depth\": 80, \"report_type...</td>\n      <td>{ \"district_id\": null, \"local_area_id\": null, ...</td>\n      <td>...</td>\n      <td>3.275061e+09</td>\n      <td>3275061.0</td>\n      <td>3275.0</td>\n      <td>32.0</td>\n      <td>Pejuang</td>\n      <td>Medan Satria</td>\n      <td>Bekasi</td>\n      <td>Jawa Barat</td>\n      <td>106.97870</td>\n      <td>-6.17944</td>\n    </tr>\n    <tr>\n      <th>2</th>\n      <td>95062</td>\n      <td>01/01/2020</td>\n      <td>01:14:53</td>\n      <td>grasp</td>\n      <td>confirmed</td>\n      <td>e065b40d-2084-48d6-b42f-1f98cb33e4cc</td>\n      <td>NaN</td>\n      <td>flood</td>\n      <td>{ \"points\": 1, \"flood_depth\": 51, \"report_type...</td>\n      <td>{ \"district_id\": \"3172\", \"local_area_id\": \"178...</td>\n      <td>...</td>\n      <td>3.172060e+09</td>\n      <td>3172060.0</td>\n      <td>3172.0</td>\n      <td>31.0</td>\n      <td>Cipinang Muara</td>\n      <td>Jatinegara</td>\n      <td>Jakarta Timur</td>\n      <td>Daerah Khusus Ibukota Jakarta</td>\n      <td>106.89100</td>\n      <td>-6.23449</td>\n    </tr>\n    <tr>\n      <th>3</th>\n      <td>95063</td>\n      <td>01/01/2020</td>\n      <td>01:15:08</td>\n      <td>grasp</td>\n      <td>confirmed</td>\n      <td>7cb26903-b1c8-4be7-8b81-7014c8a83fbd</td>\n      <td>https://images.petabencana.id/7cb26903-b1c8-4b...</td>\n      <td>flood</td>\n      <td>{ \"points\": 2, \"flood_depth\": 100, \"report_typ...</td>\n      <td>{ \"district_id\": null, \"local_area_id\": null, ...</td>\n      <td>...</td>\n      <td>3.216061e+09</td>\n      <td>3216061.0</td>\n      <td>3216.0</td>\n      <td>32.0</td>\n      <td>Mekarmukti</td>\n      <td>Cikarang Utara</td>\n      <td>Bekasi</td>\n      <td>Jawa Barat</td>\n      <td>107.16189</td>\n      <td>-6.30170</td>\n    </tr>\n    <tr>\n      <th>4</th>\n      <td>95064</td>\n      <td>01/01/2020</td>\n      <td>01:18:03</td>\n      <td>grasp</td>\n      <td>confirmed</td>\n      <td>570d2cb8-d5b6-404f-86ef-8a2a0d27f391</td>\n      <td>https://images.petabencana.id/570d2cb8-d5b6-40...</td>\n      <td>flood</td>\n      <td>{ \"points\": 1, \"flood_depth\": 15, \"report_type...</td>\n      <td>{ \"district_id\": \"3173\", \"local_area_id\": \"193...</td>\n      <td>...</td>\n      <td>3.173060e+09</td>\n      <td>3173060.0</td>\n      <td>3173.0</td>\n      <td>31.0</td>\n      <td>Cempaka Baru</td>\n      <td>Kemayoran</td>\n      <td>Jakarta Pusat</td>\n      <td>Daerah Khusus Ibukota Jakarta</td>\n      <td>106.86092</td>\n      <td>-6.16859</td>\n    </tr>\n  </tbody>\n</table>\n<p>5 rows × 22 columns</p>\n</div>"
     },
     "metadata": {}
    }
   ],
   "execution_count": null
  },
  {
   "cell_type": "code",
   "source": "percentage_missing_val = ((petaBencana.isnull().sum()/len(petaBencana))*100)\npercentage_missing_val[percentage_missing_val>0]",
   "metadata": {
    "cell_id": "273e20fa06d94df4a4003185e9a0377c",
    "tags": [],
    "deepnote_to_be_reexecuted": false,
    "source_hash": "d584b6bd",
    "execution_start": 1661038180598,
    "execution_millis": 309,
    "is_code_hidden": true,
    "is_output_hidden": true,
    "deepnote_cell_type": "code",
    "deepnote_cell_height": 105.59375
   },
   "outputs": [
    {
     "output_type": "execute_result",
     "execution_count": 5,
     "data": {
      "text/plain": "url           15.702479\nimage_url     21.275089\nreport_dat    18.417946\ntitle         95.560803\ntext           9.563164\nID_Desa        0.188902\nID_Kec         0.188902\nID_Kab         0.188902\nID_Prov        0.188902\nDesa           0.188902\nKecamatan      0.188902\nKabupaten      0.165289\nProvinsi       0.165289\ndtype: float64"
     },
     "metadata": {}
    }
   ],
   "execution_count": null
  },
  {
   "cell_type": "markdown",
   "source": "Didapatkan dataset peta bencana masih memiliki row null. Dengan komposisi row null terbesar di kolom \"url",
   "metadata": {
    "cell_id": "30a0e7cee8294bd9800b0756867910ea",
    "tags": [],
    "deepnote_cell_type": "markdown",
    "deepnote_cell_height": 52.390625
   }
  },
  {
   "cell_type": "markdown",
   "source": "### Kemiskinan Jabar Dataset",
   "metadata": {
    "cell_id": "b8030f6ec4a44e1a81d909f4615a35e0",
    "tags": [],
    "deepnote_cell_type": "markdown",
    "deepnote_cell_height": 62
   }
  },
  {
   "cell_type": "code",
   "source": "kemiskinan_jabar_2020_2021.info()",
   "metadata": {
    "cell_id": "0bd5145601fe4009b6398aec88ff49a5",
    "tags": [],
    "deepnote_to_be_reexecuted": false,
    "source_hash": "602992ed",
    "execution_start": 1661038180651,
    "execution_millis": 257,
    "is_code_hidden": true,
    "is_output_hidden": true,
    "deepnote_cell_type": "code",
    "deepnote_cell_height": 105.59375
   },
   "outputs": [
    {
     "name": "stdout",
     "text": "<class 'pandas.core.frame.DataFrame'>\nRangeIndex: 56 entries, 0 to 55\nData columns (total 5 columns):\n #   Column         Non-Null Count  Dtype  \n---  ------         --------------  -----  \n 0   Nama Wilayah   56 non-null     object \n 1   Persen Miskin  56 non-null     float64\n 2   Jumlah Miskin  56 non-null     float64\n 3   IKM            56 non-null     float64\n 4   Tahun          56 non-null     int64  \ndtypes: float64(3), int64(1), object(1)\nmemory usage: 2.3+ KB\n",
     "output_type": "stream"
    }
   ],
   "execution_count": null
  },
  {
   "cell_type": "code",
   "source": "kemiskinan_jabar_2020_2021.shape",
   "metadata": {
    "cell_id": "d8f8ca4173af4185913aca0f539e26a1",
    "tags": [],
    "deepnote_to_be_reexecuted": false,
    "source_hash": "daf44154",
    "execution_start": 1661038180679,
    "execution_millis": 230,
    "is_code_hidden": true,
    "is_output_hidden": true,
    "deepnote_cell_type": "code",
    "deepnote_cell_height": 105.59375
   },
   "outputs": [
    {
     "output_type": "execute_result",
     "execution_count": 7,
     "data": {
      "text/plain": "(56, 5)"
     },
     "metadata": {}
    }
   ],
   "execution_count": null
  },
  {
   "cell_type": "code",
   "source": "kemiskinan_jabar_2020_2021.head()",
   "metadata": {
    "cell_id": "9fd16608ed934c709977e21b7cbdcf7f",
    "tags": [],
    "deepnote_to_be_reexecuted": false,
    "source_hash": "51fb36fd",
    "execution_start": 1661038180711,
    "execution_millis": 199,
    "is_code_hidden": true,
    "is_output_hidden": true,
    "deepnote_cell_type": "code",
    "deepnote_cell_height": 105.59375
   },
   "outputs": [
    {
     "output_type": "execute_result",
     "execution_count": 8,
     "data": {
      "application/vnd.deepnote.dataframe.v3+json": {
       "column_count": 5,
       "row_count": 5,
       "columns": [
        {
         "name": "Nama Wilayah",
         "dtype": "object",
         "stats": {
          "unique_count": 5,
          "nan_count": 0,
          "categories": [
           {
            "name": "JAWA BARAT",
            "count": 1
           },
           {
            "name": "Bogor",
            "count": 1
           },
           {
            "name": "3 others",
            "count": 3
           }
          ]
         }
        },
        {
         "name": "Persen Miskin",
         "dtype": "float64",
         "stats": {
          "unique_count": 5,
          "nan_count": 0,
          "min": "6.91",
          "max": "10.36",
          "histogram": [
           {
            "bin_start": 6.91,
            "bin_end": 7.255,
            "count": 2
           },
           {
            "bin_start": 7.255,
            "bin_end": 7.6,
            "count": 0
           },
           {
            "bin_start": 7.6,
            "bin_end": 7.945,
            "count": 2
           },
           {
            "bin_start": 7.945,
            "bin_end": 8.29,
            "count": 0
           },
           {
            "bin_start": 8.29,
            "bin_end": 8.635,
            "count": 0
           },
           {
            "bin_start": 8.635,
            "bin_end": 8.98,
            "count": 0
           },
           {
            "bin_start": 8.98,
            "bin_end": 9.325,
            "count": 0
           },
           {
            "bin_start": 9.325,
            "bin_end": 9.67,
            "count": 0
           },
           {
            "bin_start": 9.67,
            "bin_end": 10.014999999999999,
            "count": 0
           },
           {
            "bin_start": 10.014999999999999,
            "bin_end": 10.36,
            "count": 1
           }
          ]
         }
        },
        {
         "name": "Jumlah Miskin",
         "dtype": "float64",
         "stats": {
          "unique_count": 5,
          "nan_count": 0,
          "min": "175.1",
          "max": "3920.23",
          "histogram": [
           {
            "bin_start": 175.1,
            "bin_end": 549.613,
            "count": 4
           },
           {
            "bin_start": 549.613,
            "bin_end": 924.1260000000001,
            "count": 0
           },
           {
            "bin_start": 924.1260000000001,
            "bin_end": 1298.6390000000001,
            "count": 0
           },
           {
            "bin_start": 1298.6390000000001,
            "bin_end": 1673.152,
            "count": 0
           },
           {
            "bin_start": 1673.152,
            "bin_end": 2047.665,
            "count": 0
           },
           {
            "bin_start": 2047.665,
            "bin_end": 2422.1780000000003,
            "count": 0
           },
           {
            "bin_start": 2422.1780000000003,
            "bin_end": 2796.6910000000003,
            "count": 0
           },
           {
            "bin_start": 2796.6910000000003,
            "bin_end": 3171.204,
            "count": 0
           },
           {
            "bin_start": 3171.204,
            "bin_end": 3545.717,
            "count": 0
           },
           {
            "bin_start": 3545.717,
            "bin_end": 3920.23,
            "count": 1
           }
          ]
         }
        },
        {
         "name": "IKM",
         "dtype": "float64",
         "stats": {
          "unique_count": 5,
          "nan_count": 0,
          "min": "0.8",
          "max": "1.38",
          "histogram": [
           {
            "bin_start": 0.8,
            "bin_end": 0.858,
            "count": 2
           },
           {
            "bin_start": 0.858,
            "bin_end": 0.916,
            "count": 0
           },
           {
            "bin_start": 0.916,
            "bin_end": 0.974,
            "count": 1
           },
           {
            "bin_start": 0.974,
            "bin_end": 1.032,
            "count": 0
           },
           {
            "bin_start": 1.032,
            "bin_end": 1.0899999999999999,
            "count": 0
           },
           {
            "bin_start": 1.0899999999999999,
            "bin_end": 1.148,
            "count": 1
           },
           {
            "bin_start": 1.148,
            "bin_end": 1.206,
            "count": 0
           },
           {
            "bin_start": 1.206,
            "bin_end": 1.2639999999999998,
            "count": 0
           },
           {
            "bin_start": 1.2639999999999998,
            "bin_end": 1.3219999999999998,
            "count": 0
           },
           {
            "bin_start": 1.3219999999999998,
            "bin_end": 1.38,
            "count": 1
           }
          ]
         }
        },
        {
         "name": "Tahun",
         "dtype": "int64",
         "stats": {
          "unique_count": 1,
          "nan_count": 0,
          "min": "2020",
          "max": "2020",
          "histogram": [
           {
            "bin_start": 2019.5,
            "bin_end": 2019.6,
            "count": 0
           },
           {
            "bin_start": 2019.6,
            "bin_end": 2019.7,
            "count": 0
           },
           {
            "bin_start": 2019.7,
            "bin_end": 2019.8,
            "count": 0
           },
           {
            "bin_start": 2019.8,
            "bin_end": 2019.9,
            "count": 0
           },
           {
            "bin_start": 2019.9,
            "bin_end": 2020,
            "count": 0
           },
           {
            "bin_start": 2020,
            "bin_end": 2020.1,
            "count": 5
           },
           {
            "bin_start": 2020.1,
            "bin_end": 2020.2,
            "count": 0
           },
           {
            "bin_start": 2020.2,
            "bin_end": 2020.3,
            "count": 0
           },
           {
            "bin_start": 2020.3,
            "bin_end": 2020.4,
            "count": 0
           },
           {
            "bin_start": 2020.4,
            "bin_end": 2020.5,
            "count": 0
           }
          ]
         }
        },
        {
         "name": "_deepnote_index_column",
         "dtype": "int64"
        }
       ],
       "rows": [
        {
         "Nama Wilayah": "JAWA BARAT",
         "Persen Miskin": 7.88,
         "Jumlah Miskin": 3920.23,
         "IKM": 1.13,
         "Tahun": 2020,
         "_deepnote_index_column": 0
        },
        {
         "Nama Wilayah": "Bogor",
         "Persen Miskin": 7.69,
         "Jumlah Miskin": 465.67,
         "IKM": 0.83,
         "Tahun": 2020,
         "_deepnote_index_column": 1
        },
        {
         "Nama Wilayah": "Sukabumi",
         "Persen Miskin": 7.09,
         "Jumlah Miskin": 175.1,
         "IKM": 0.8,
         "Tahun": 2020,
         "_deepnote_index_column": 2
        },
        {
         "Nama Wilayah": "Cianjur",
         "Persen Miskin": 10.36,
         "Jumlah Miskin": 234.47,
         "IKM": 1.38,
         "Tahun": 2020,
         "_deepnote_index_column": 3
        },
        {
         "Nama Wilayah": "Bandung",
         "Persen Miskin": 6.91,
         "Jumlah Miskin": 263.6,
         "IKM": 0.92,
         "Tahun": 2020,
         "_deepnote_index_column": 4
        }
       ]
      },
      "text/plain": "  Nama Wilayah  Persen Miskin  Jumlah Miskin   IKM  Tahun\n0   JAWA BARAT           7.88        3920.23  1.13   2020\n1        Bogor           7.69         465.67  0.83   2020\n2     Sukabumi           7.09         175.10  0.80   2020\n3      Cianjur          10.36         234.47  1.38   2020\n4      Bandung           6.91         263.60  0.92   2020",
      "text/html": "<div>\n<style scoped>\n    .dataframe tbody tr th:only-of-type {\n        vertical-align: middle;\n    }\n\n    .dataframe tbody tr th {\n        vertical-align: top;\n    }\n\n    .dataframe thead th {\n        text-align: right;\n    }\n</style>\n<table border=\"1\" class=\"dataframe\">\n  <thead>\n    <tr style=\"text-align: right;\">\n      <th></th>\n      <th>Nama Wilayah</th>\n      <th>Persen Miskin</th>\n      <th>Jumlah Miskin</th>\n      <th>IKM</th>\n      <th>Tahun</th>\n    </tr>\n  </thead>\n  <tbody>\n    <tr>\n      <th>0</th>\n      <td>JAWA BARAT</td>\n      <td>7.88</td>\n      <td>3920.23</td>\n      <td>1.13</td>\n      <td>2020</td>\n    </tr>\n    <tr>\n      <th>1</th>\n      <td>Bogor</td>\n      <td>7.69</td>\n      <td>465.67</td>\n      <td>0.83</td>\n      <td>2020</td>\n    </tr>\n    <tr>\n      <th>2</th>\n      <td>Sukabumi</td>\n      <td>7.09</td>\n      <td>175.10</td>\n      <td>0.80</td>\n      <td>2020</td>\n    </tr>\n    <tr>\n      <th>3</th>\n      <td>Cianjur</td>\n      <td>10.36</td>\n      <td>234.47</td>\n      <td>1.38</td>\n      <td>2020</td>\n    </tr>\n    <tr>\n      <th>4</th>\n      <td>Bandung</td>\n      <td>6.91</td>\n      <td>263.60</td>\n      <td>0.92</td>\n      <td>2020</td>\n    </tr>\n  </tbody>\n</table>\n</div>"
     },
     "metadata": {}
    }
   ],
   "execution_count": null
  },
  {
   "cell_type": "code",
   "source": "kemiskinan_jabar_2020_2021.describe()",
   "metadata": {
    "cell_id": "7c8f5e171bf647748e6bc11458c12c46",
    "tags": [],
    "deepnote_to_be_reexecuted": false,
    "source_hash": "e81c2501",
    "execution_start": 1661038180764,
    "execution_millis": 151,
    "is_output_hidden": true,
    "is_code_hidden": true,
    "deepnote_cell_type": "code",
    "deepnote_cell_height": 105.59375
   },
   "outputs": [
    {
     "output_type": "execute_result",
     "execution_count": 9,
     "data": {
      "application/vnd.deepnote.dataframe.v3+json": {
       "column_count": 4,
       "row_count": 8,
       "columns": [
        {
         "name": "Persen Miskin",
         "dtype": "float64",
         "stats": {
          "unique_count": 8,
          "nan_count": 0,
          "min": "2.45",
          "max": "56.0",
          "histogram": [
           {
            "bin_start": 2.45,
            "bin_end": 7.805,
            "count": 3
           },
           {
            "bin_start": 7.805,
            "bin_end": 13.16,
            "count": 4
           },
           {
            "bin_start": 13.16,
            "bin_end": 18.514999999999997,
            "count": 0
           },
           {
            "bin_start": 18.514999999999997,
            "bin_end": 23.869999999999997,
            "count": 0
           },
           {
            "bin_start": 23.869999999999997,
            "bin_end": 29.224999999999998,
            "count": 0
           },
           {
            "bin_start": 29.224999999999998,
            "bin_end": 34.58,
            "count": 0
           },
           {
            "bin_start": 34.58,
            "bin_end": 39.935,
            "count": 0
           },
           {
            "bin_start": 39.935,
            "bin_end": 45.29,
            "count": 0
           },
           {
            "bin_start": 45.29,
            "bin_end": 50.644999999999996,
            "count": 0
           },
           {
            "bin_start": 50.644999999999996,
            "bin_end": 56,
            "count": 1
           }
          ]
         }
        },
        {
         "name": "Jumlah Miskin",
         "dtype": "float64",
         "stats": {
          "unique_count": 8,
          "nan_count": 0,
          "min": "11.16",
          "max": "4195.34",
          "histogram": [
           {
            "bin_start": 11.16,
            "bin_end": 429.57800000000003,
            "count": 6
           },
           {
            "bin_start": 429.57800000000003,
            "bin_end": 847.996,
            "count": 1
           },
           {
            "bin_start": 847.996,
            "bin_end": 1266.414,
            "count": 0
           },
           {
            "bin_start": 1266.414,
            "bin_end": 1684.832,
            "count": 0
           },
           {
            "bin_start": 1684.832,
            "bin_end": 2103.25,
            "count": 0
           },
           {
            "bin_start": 2103.25,
            "bin_end": 2521.6679999999997,
            "count": 0
           },
           {
            "bin_start": 2521.6679999999997,
            "bin_end": 2940.086,
            "count": 0
           },
           {
            "bin_start": 2940.086,
            "bin_end": 3358.504,
            "count": 0
           },
           {
            "bin_start": 3358.504,
            "bin_end": 3776.922,
            "count": 0
           },
           {
            "bin_start": 3776.922,
            "bin_end": 4195.34,
            "count": 1
           }
          ]
         }
        },
        {
         "name": "IKM",
         "dtype": "float64",
         "stats": {
          "unique_count": 8,
          "nan_count": 0,
          "min": "0.29",
          "max": "56.0",
          "histogram": [
           {
            "bin_start": 0.29,
            "bin_end": 5.861,
            "count": 7
           },
           {
            "bin_start": 5.861,
            "bin_end": 11.431999999999999,
            "count": 0
           },
           {
            "bin_start": 11.431999999999999,
            "bin_end": 17.003,
            "count": 0
           },
           {
            "bin_start": 17.003,
            "bin_end": 22.573999999999998,
            "count": 0
           },
           {
            "bin_start": 22.573999999999998,
            "bin_end": 28.144999999999996,
            "count": 0
           },
           {
            "bin_start": 28.144999999999996,
            "bin_end": 33.716,
            "count": 0
           },
           {
            "bin_start": 33.716,
            "bin_end": 39.287,
            "count": 0
           },
           {
            "bin_start": 39.287,
            "bin_end": 44.858,
            "count": 0
           },
           {
            "bin_start": 44.858,
            "bin_end": 50.428999999999995,
            "count": 0
           },
           {
            "bin_start": 50.428999999999995,
            "bin_end": 56,
            "count": 1
           }
          ]
         }
        },
        {
         "name": "Tahun",
         "dtype": "float64",
         "stats": {
          "unique_count": 5,
          "nan_count": 0,
          "min": "0.504524979109513",
          "max": "2021.0",
          "histogram": [
           {
            "bin_start": 0.504524979109513,
            "bin_end": 202.55407248119857,
            "count": 2
           },
           {
            "bin_start": 202.55407248119857,
            "bin_end": 404.6036199832877,
            "count": 0
           },
           {
            "bin_start": 404.6036199832877,
            "bin_end": 606.6531674853767,
            "count": 0
           },
           {
            "bin_start": 606.6531674853767,
            "bin_end": 808.7027149874658,
            "count": 0
           },
           {
            "bin_start": 808.7027149874658,
            "bin_end": 1010.7522624895549,
            "count": 0
           },
           {
            "bin_start": 1010.7522624895549,
            "bin_end": 1212.8018099916437,
            "count": 0
           },
           {
            "bin_start": 1212.8018099916437,
            "bin_end": 1414.8513574937328,
            "count": 0
           },
           {
            "bin_start": 1414.8513574937328,
            "bin_end": 1616.900904995822,
            "count": 0
           },
           {
            "bin_start": 1616.900904995822,
            "bin_end": 1818.950452497911,
            "count": 0
           },
           {
            "bin_start": 1818.950452497911,
            "bin_end": 2021,
            "count": 6
           }
          ]
         }
        },
        {
         "name": "_deepnote_index_column",
         "dtype": "object"
        }
       ],
       "rows": [
        {
         "Persen Miskin": 56,
         "Jumlah Miskin": 56,
         "IKM": 56,
         "Tahun": 56,
         "_deepnote_index_column": "count"
        },
        {
         "Persen Miskin": 8.677321428571428,
         "Jumlah Miskin": 289.84214285714285,
         "IKM": 1.3064285714285713,
         "Tahun": 2020.5,
         "_deepnote_index_column": "mean"
        },
        {
         "Persen Miskin": 2.7877755818582663,
         "Jumlah Miskin": 738.988828021628,
         "IKM": 0.5350018812929661,
         "Tahun": 0.504524979109513,
         "_deepnote_index_column": "std"
        },
        {
         "Persen Miskin": 2.45,
         "Jumlah Miskin": 11.16,
         "IKM": 0.29,
         "Tahun": 2020,
         "_deepnote_index_column": "min"
        },
        {
         "Persen Miskin": 7.105,
         "Jumlah Miskin": 80.15,
         "IKM": 0.9175,
         "Tahun": 2020,
         "_deepnote_index_column": "25%"
        },
        {
         "Persen Miskin": 8.615,
         "Jumlah Miskin": 143.735,
         "IKM": 1.275,
         "Tahun": 2020.5,
         "_deepnote_index_column": "50%"
        },
        {
         "Persen Miskin": 10.665000000000001,
         "Jumlah Miskin": 213.1625,
         "IKM": 1.635,
         "Tahun": 2021,
         "_deepnote_index_column": "75%"
        },
        {
         "Persen Miskin": 13.13,
         "Jumlah Miskin": 4195.34,
         "IKM": 2.46,
         "Tahun": 2021,
         "_deepnote_index_column": "max"
        }
       ]
      },
      "text/plain": "       Persen Miskin  Jumlah Miskin        IKM        Tahun\ncount      56.000000      56.000000  56.000000    56.000000\nmean        8.677321     289.842143   1.306429  2020.500000\nstd         2.787776     738.988828   0.535002     0.504525\nmin         2.450000      11.160000   0.290000  2020.000000\n25%         7.105000      80.150000   0.917500  2020.000000\n50%         8.615000     143.735000   1.275000  2020.500000\n75%        10.665000     213.162500   1.635000  2021.000000\nmax        13.130000    4195.340000   2.460000  2021.000000",
      "text/html": "<div>\n<style scoped>\n    .dataframe tbody tr th:only-of-type {\n        vertical-align: middle;\n    }\n\n    .dataframe tbody tr th {\n        vertical-align: top;\n    }\n\n    .dataframe thead th {\n        text-align: right;\n    }\n</style>\n<table border=\"1\" class=\"dataframe\">\n  <thead>\n    <tr style=\"text-align: right;\">\n      <th></th>\n      <th>Persen Miskin</th>\n      <th>Jumlah Miskin</th>\n      <th>IKM</th>\n      <th>Tahun</th>\n    </tr>\n  </thead>\n  <tbody>\n    <tr>\n      <th>count</th>\n      <td>56.000000</td>\n      <td>56.000000</td>\n      <td>56.000000</td>\n      <td>56.000000</td>\n    </tr>\n    <tr>\n      <th>mean</th>\n      <td>8.677321</td>\n      <td>289.842143</td>\n      <td>1.306429</td>\n      <td>2020.500000</td>\n    </tr>\n    <tr>\n      <th>std</th>\n      <td>2.787776</td>\n      <td>738.988828</td>\n      <td>0.535002</td>\n      <td>0.504525</td>\n    </tr>\n    <tr>\n      <th>min</th>\n      <td>2.450000</td>\n      <td>11.160000</td>\n      <td>0.290000</td>\n      <td>2020.000000</td>\n    </tr>\n    <tr>\n      <th>25%</th>\n      <td>7.105000</td>\n      <td>80.150000</td>\n      <td>0.917500</td>\n      <td>2020.000000</td>\n    </tr>\n    <tr>\n      <th>50%</th>\n      <td>8.615000</td>\n      <td>143.735000</td>\n      <td>1.275000</td>\n      <td>2020.500000</td>\n    </tr>\n    <tr>\n      <th>75%</th>\n      <td>10.665000</td>\n      <td>213.162500</td>\n      <td>1.635000</td>\n      <td>2021.000000</td>\n    </tr>\n    <tr>\n      <th>max</th>\n      <td>13.130000</td>\n      <td>4195.340000</td>\n      <td>2.460000</td>\n      <td>2021.000000</td>\n    </tr>\n  </tbody>\n</table>\n</div>"
     },
     "metadata": {}
    }
   ],
   "execution_count": null
  },
  {
   "cell_type": "code",
   "source": "kemiskinan_jabar_2010_2020.head()",
   "metadata": {
    "cell_id": "a6b1d2190132441c92dfe7f523771140",
    "tags": [],
    "is_code_hidden": true,
    "deepnote_to_be_reexecuted": false,
    "source_hash": "d11fc6f7",
    "execution_start": 1661038180825,
    "execution_millis": 123,
    "is_output_hidden": true,
    "deepnote_cell_type": "code",
    "deepnote_cell_height": 105.59375
   },
   "outputs": [
    {
     "output_type": "execute_result",
     "execution_count": 10,
     "data": {
      "application/vnd.deepnote.dataframe.v3+json": {
       "column_count": 8,
       "row_count": 5,
       "columns": [
        {
         "name": "id",
         "dtype": "int64",
         "stats": {
          "unique_count": 5,
          "nan_count": 0,
          "min": "1",
          "max": "5",
          "histogram": [
           {
            "bin_start": 1,
            "bin_end": 1.4,
            "count": 1
           },
           {
            "bin_start": 1.4,
            "bin_end": 1.8,
            "count": 0
           },
           {
            "bin_start": 1.8,
            "bin_end": 2.2,
            "count": 1
           },
           {
            "bin_start": 2.2,
            "bin_end": 2.6,
            "count": 0
           },
           {
            "bin_start": 2.6,
            "bin_end": 3,
            "count": 0
           },
           {
            "bin_start": 3,
            "bin_end": 3.4000000000000004,
            "count": 1
           },
           {
            "bin_start": 3.4000000000000004,
            "bin_end": 3.8000000000000003,
            "count": 0
           },
           {
            "bin_start": 3.8000000000000003,
            "bin_end": 4.2,
            "count": 1
           },
           {
            "bin_start": 4.2,
            "bin_end": 4.6,
            "count": 0
           },
           {
            "bin_start": 4.6,
            "bin_end": 5,
            "count": 1
           }
          ]
         }
        },
        {
         "name": "kode_provinsi",
         "dtype": "int64",
         "stats": {
          "unique_count": 1,
          "nan_count": 0,
          "min": "32",
          "max": "32",
          "histogram": [
           {
            "bin_start": 31.5,
            "bin_end": 31.6,
            "count": 0
           },
           {
            "bin_start": 31.6,
            "bin_end": 31.7,
            "count": 0
           },
           {
            "bin_start": 31.7,
            "bin_end": 31.8,
            "count": 0
           },
           {
            "bin_start": 31.8,
            "bin_end": 31.9,
            "count": 0
           },
           {
            "bin_start": 31.9,
            "bin_end": 32,
            "count": 0
           },
           {
            "bin_start": 32,
            "bin_end": 32.1,
            "count": 5
           },
           {
            "bin_start": 32.1,
            "bin_end": 32.2,
            "count": 0
           },
           {
            "bin_start": 32.2,
            "bin_end": 32.3,
            "count": 0
           },
           {
            "bin_start": 32.3,
            "bin_end": 32.4,
            "count": 0
           },
           {
            "bin_start": 32.4,
            "bin_end": 32.5,
            "count": 0
           }
          ]
         }
        },
        {
         "name": "nama_provinsi",
         "dtype": "object",
         "stats": {
          "unique_count": 1,
          "nan_count": 0,
          "categories": [
           {
            "name": "JAWA BARAT",
            "count": 5
           }
          ]
         }
        },
        {
         "name": "kode_kabupaten_kota",
         "dtype": "int64",
         "stats": {
          "unique_count": 5,
          "nan_count": 0,
          "min": "3201",
          "max": "3205",
          "histogram": [
           {
            "bin_start": 3201,
            "bin_end": 3201.4,
            "count": 1
           },
           {
            "bin_start": 3201.4,
            "bin_end": 3201.8,
            "count": 0
           },
           {
            "bin_start": 3201.8,
            "bin_end": 3202.2,
            "count": 1
           },
           {
            "bin_start": 3202.2,
            "bin_end": 3202.6,
            "count": 0
           },
           {
            "bin_start": 3202.6,
            "bin_end": 3203,
            "count": 0
           },
           {
            "bin_start": 3203,
            "bin_end": 3203.4,
            "count": 1
           },
           {
            "bin_start": 3203.4,
            "bin_end": 3203.8,
            "count": 0
           },
           {
            "bin_start": 3203.8,
            "bin_end": 3204.2,
            "count": 1
           },
           {
            "bin_start": 3204.2,
            "bin_end": 3204.6,
            "count": 0
           },
           {
            "bin_start": 3204.6,
            "bin_end": 3205,
            "count": 1
           }
          ]
         }
        },
        {
         "name": "nama_kabupaten_kota",
         "dtype": "object",
         "stats": {
          "unique_count": 5,
          "nan_count": 0,
          "categories": [
           {
            "name": "KABUPATEN BOGOR",
            "count": 1
           },
           {
            "name": "KABUPATEN SUKABUMI",
            "count": 1
           },
           {
            "name": "3 others",
            "count": 3
           }
          ]
         }
        },
        {
         "name": "persentase_penduduk",
         "dtype": "float64",
         "stats": {
          "unique_count": 5,
          "nan_count": 0,
          "min": "9.3",
          "max": "14.32",
          "histogram": [
           {
            "bin_start": 9.3,
            "bin_end": 9.802000000000001,
            "count": 1
           },
           {
            "bin_start": 9.802000000000001,
            "bin_end": 10.304,
            "count": 1
           },
           {
            "bin_start": 10.304,
            "bin_end": 10.806000000000001,
            "count": 1
           },
           {
            "bin_start": 10.806000000000001,
            "bin_end": 11.308,
            "count": 0
           },
           {
            "bin_start": 11.308,
            "bin_end": 11.81,
            "count": 0
           },
           {
            "bin_start": 11.81,
            "bin_end": 12.312000000000001,
            "count": 0
           },
           {
            "bin_start": 12.312000000000001,
            "bin_end": 12.814,
            "count": 0
           },
           {
            "bin_start": 12.814,
            "bin_end": 13.316,
            "count": 0
           },
           {
            "bin_start": 13.316,
            "bin_end": 13.818000000000001,
            "count": 0
           },
           {
            "bin_start": 13.818000000000001,
            "bin_end": 14.32,
            "count": 2
           }
          ]
         }
        },
        {
         "name": "satuan",
         "dtype": "object",
         "stats": {
          "unique_count": 1,
          "nan_count": 0,
          "categories": [
           {
            "name": "PERSEN",
            "count": 5
           }
          ]
         }
        },
        {
         "name": "tahun",
         "dtype": "int64",
         "stats": {
          "unique_count": 1,
          "nan_count": 0,
          "min": "2010",
          "max": "2010",
          "histogram": [
           {
            "bin_start": 2009.5,
            "bin_end": 2009.6,
            "count": 0
           },
           {
            "bin_start": 2009.6,
            "bin_end": 2009.7,
            "count": 0
           },
           {
            "bin_start": 2009.7,
            "bin_end": 2009.8,
            "count": 0
           },
           {
            "bin_start": 2009.8,
            "bin_end": 2009.9,
            "count": 0
           },
           {
            "bin_start": 2009.9,
            "bin_end": 2010,
            "count": 0
           },
           {
            "bin_start": 2010,
            "bin_end": 2010.1,
            "count": 5
           },
           {
            "bin_start": 2010.1,
            "bin_end": 2010.2,
            "count": 0
           },
           {
            "bin_start": 2010.2,
            "bin_end": 2010.3,
            "count": 0
           },
           {
            "bin_start": 2010.3,
            "bin_end": 2010.4,
            "count": 0
           },
           {
            "bin_start": 2010.4,
            "bin_end": 2010.5,
            "count": 0
           }
          ]
         }
        },
        {
         "name": "_deepnote_index_column",
         "dtype": "int64"
        }
       ],
       "rows": [
        {
         "id": 1,
         "kode_provinsi": 32,
         "nama_provinsi": "JAWA BARAT",
         "kode_kabupaten_kota": 3201,
         "nama_kabupaten_kota": "KABUPATEN BOGOR",
         "persentase_penduduk": 9.97,
         "satuan": "PERSEN",
         "tahun": 2010,
         "_deepnote_index_column": 0
        },
        {
         "id": 2,
         "kode_provinsi": 32,
         "nama_provinsi": "JAWA BARAT",
         "kode_kabupaten_kota": 3202,
         "nama_kabupaten_kota": "KABUPATEN SUKABUMI",
         "persentase_penduduk": 10.65,
         "satuan": "PERSEN",
         "tahun": 2010,
         "_deepnote_index_column": 1
        },
        {
         "id": 3,
         "kode_provinsi": 32,
         "nama_provinsi": "JAWA BARAT",
         "kode_kabupaten_kota": 3203,
         "nama_kabupaten_kota": "KABUPATEN CIANJUR",
         "persentase_penduduk": 14.32,
         "satuan": "PERSEN",
         "tahun": 2010,
         "_deepnote_index_column": 2
        },
        {
         "id": 4,
         "kode_provinsi": 32,
         "nama_provinsi": "JAWA BARAT",
         "kode_kabupaten_kota": 3204,
         "nama_kabupaten_kota": "KABUPATEN BANDUNG",
         "persentase_penduduk": 9.3,
         "satuan": "PERSEN",
         "tahun": 2010,
         "_deepnote_index_column": 3
        },
        {
         "id": 5,
         "kode_provinsi": 32,
         "nama_provinsi": "JAWA BARAT",
         "kode_kabupaten_kota": 3205,
         "nama_kabupaten_kota": "KABUPATEN GARUT",
         "persentase_penduduk": 13.94,
         "satuan": "PERSEN",
         "tahun": 2010,
         "_deepnote_index_column": 4
        }
       ]
      },
      "text/plain": "   id  kode_provinsi nama_provinsi  kode_kabupaten_kota nama_kabupaten_kota  \\\n0   1             32    JAWA BARAT                 3201     KABUPATEN BOGOR   \n1   2             32    JAWA BARAT                 3202  KABUPATEN SUKABUMI   \n2   3             32    JAWA BARAT                 3203   KABUPATEN CIANJUR   \n3   4             32    JAWA BARAT                 3204   KABUPATEN BANDUNG   \n4   5             32    JAWA BARAT                 3205     KABUPATEN GARUT   \n\n   persentase_penduduk  satuan  tahun  \n0                 9.97  PERSEN   2010  \n1                10.65  PERSEN   2010  \n2                14.32  PERSEN   2010  \n3                 9.30  PERSEN   2010  \n4                13.94  PERSEN   2010  ",
      "text/html": "<div>\n<style scoped>\n    .dataframe tbody tr th:only-of-type {\n        vertical-align: middle;\n    }\n\n    .dataframe tbody tr th {\n        vertical-align: top;\n    }\n\n    .dataframe thead th {\n        text-align: right;\n    }\n</style>\n<table border=\"1\" class=\"dataframe\">\n  <thead>\n    <tr style=\"text-align: right;\">\n      <th></th>\n      <th>id</th>\n      <th>kode_provinsi</th>\n      <th>nama_provinsi</th>\n      <th>kode_kabupaten_kota</th>\n      <th>nama_kabupaten_kota</th>\n      <th>persentase_penduduk</th>\n      <th>satuan</th>\n      <th>tahun</th>\n    </tr>\n  </thead>\n  <tbody>\n    <tr>\n      <th>0</th>\n      <td>1</td>\n      <td>32</td>\n      <td>JAWA BARAT</td>\n      <td>3201</td>\n      <td>KABUPATEN BOGOR</td>\n      <td>9.97</td>\n      <td>PERSEN</td>\n      <td>2010</td>\n    </tr>\n    <tr>\n      <th>1</th>\n      <td>2</td>\n      <td>32</td>\n      <td>JAWA BARAT</td>\n      <td>3202</td>\n      <td>KABUPATEN SUKABUMI</td>\n      <td>10.65</td>\n      <td>PERSEN</td>\n      <td>2010</td>\n    </tr>\n    <tr>\n      <th>2</th>\n      <td>3</td>\n      <td>32</td>\n      <td>JAWA BARAT</td>\n      <td>3203</td>\n      <td>KABUPATEN CIANJUR</td>\n      <td>14.32</td>\n      <td>PERSEN</td>\n      <td>2010</td>\n    </tr>\n    <tr>\n      <th>3</th>\n      <td>4</td>\n      <td>32</td>\n      <td>JAWA BARAT</td>\n      <td>3204</td>\n      <td>KABUPATEN BANDUNG</td>\n      <td>9.30</td>\n      <td>PERSEN</td>\n      <td>2010</td>\n    </tr>\n    <tr>\n      <th>4</th>\n      <td>5</td>\n      <td>32</td>\n      <td>JAWA BARAT</td>\n      <td>3205</td>\n      <td>KABUPATEN GARUT</td>\n      <td>13.94</td>\n      <td>PERSEN</td>\n      <td>2010</td>\n    </tr>\n  </tbody>\n</table>\n</div>"
     },
     "metadata": {}
    }
   ],
   "execution_count": null
  },
  {
   "cell_type": "code",
   "source": "kemiskinan_jabar_2010_2020.info()",
   "metadata": {
    "cell_id": "77db3646cb6242b9ac430e5d0b1c0403",
    "tags": [],
    "is_code_hidden": true,
    "deepnote_to_be_reexecuted": false,
    "source_hash": "22438e8a",
    "execution_start": 1661038180955,
    "execution_millis": 39,
    "is_output_hidden": true,
    "deepnote_cell_type": "code",
    "deepnote_cell_height": 105.59375
   },
   "outputs": [
    {
     "name": "stdout",
     "text": "<class 'pandas.core.frame.DataFrame'>\nRangeIndex: 292 entries, 0 to 291\nData columns (total 8 columns):\n #   Column               Non-Null Count  Dtype  \n---  ------               --------------  -----  \n 0   id                   292 non-null    int64  \n 1   kode_provinsi        292 non-null    int64  \n 2   nama_provinsi        292 non-null    object \n 3   kode_kabupaten_kota  292 non-null    int64  \n 4   nama_kabupaten_kota  292 non-null    object \n 5   persentase_penduduk  292 non-null    float64\n 6   satuan               292 non-null    object \n 7   tahun                292 non-null    int64  \ndtypes: float64(1), int64(4), object(3)\nmemory usage: 18.4+ KB\n",
     "output_type": "stream"
    }
   ],
   "execution_count": null
  },
  {
   "cell_type": "code",
   "source": "kemiskinan_jabar_2010_2020.shape",
   "metadata": {
    "cell_id": "ee7ed9c9c1b642f5b8482d517b4f3cd7",
    "tags": [],
    "is_code_hidden": true,
    "deepnote_to_be_reexecuted": false,
    "source_hash": "c932e626",
    "execution_start": 1661038181009,
    "execution_millis": 26,
    "is_output_hidden": true,
    "deepnote_cell_type": "code",
    "deepnote_cell_height": 105.59375
   },
   "outputs": [
    {
     "output_type": "execute_result",
     "execution_count": 12,
     "data": {
      "text/plain": "(292, 8)"
     },
     "metadata": {}
    }
   ],
   "execution_count": null
  },
  {
   "cell_type": "code",
   "source": "kemiskinan_jabar_2010_2020.describe()",
   "metadata": {
    "cell_id": "1c89f2747ecf4fbf938aad4cd6130a44",
    "tags": [],
    "is_code_hidden": true,
    "deepnote_to_be_reexecuted": false,
    "source_hash": "e44d0427",
    "execution_start": 1661038181049,
    "execution_millis": 76,
    "is_output_hidden": true,
    "deepnote_cell_type": "code",
    "deepnote_cell_height": 105.59375
   },
   "outputs": [
    {
     "output_type": "execute_result",
     "execution_count": 13,
     "data": {
      "application/vnd.deepnote.dataframe.v3+json": {
       "column_count": 5,
       "row_count": 8,
       "columns": [
        {
         "name": "id",
         "dtype": "float64",
         "stats": {
          "unique_count": 6,
          "nan_count": 0,
          "min": "1.0",
          "max": "292.0",
          "histogram": [
           {
            "bin_start": 1,
            "bin_end": 30.1,
            "count": 1
           },
           {
            "bin_start": 30.1,
            "bin_end": 59.2,
            "count": 0
           },
           {
            "bin_start": 59.2,
            "bin_end": 88.30000000000001,
            "count": 2
           },
           {
            "bin_start": 88.30000000000001,
            "bin_end": 117.4,
            "count": 0
           },
           {
            "bin_start": 117.4,
            "bin_end": 146.5,
            "count": 0
           },
           {
            "bin_start": 146.5,
            "bin_end": 175.60000000000002,
            "count": 2
           },
           {
            "bin_start": 175.60000000000002,
            "bin_end": 204.70000000000002,
            "count": 0
           },
           {
            "bin_start": 204.70000000000002,
            "bin_end": 233.8,
            "count": 1
           },
           {
            "bin_start": 233.8,
            "bin_end": 262.90000000000003,
            "count": 0
           },
           {
            "bin_start": 262.90000000000003,
            "bin_end": 292,
            "count": 2
           }
          ]
         }
        },
        {
         "name": "kode_provinsi",
         "dtype": "float64",
         "stats": {
          "unique_count": 3,
          "nan_count": 0,
          "min": "0.0",
          "max": "292.0",
          "histogram": [
           {
            "bin_start": 0,
            "bin_end": 29.2,
            "count": 1
           },
           {
            "bin_start": 29.2,
            "bin_end": 58.4,
            "count": 6
           },
           {
            "bin_start": 58.4,
            "bin_end": 87.6,
            "count": 0
           },
           {
            "bin_start": 87.6,
            "bin_end": 116.8,
            "count": 0
           },
           {
            "bin_start": 116.8,
            "bin_end": 146,
            "count": 0
           },
           {
            "bin_start": 146,
            "bin_end": 175.2,
            "count": 0
           },
           {
            "bin_start": 175.2,
            "bin_end": 204.4,
            "count": 0
           },
           {
            "bin_start": 204.4,
            "bin_end": 233.6,
            "count": 0
           },
           {
            "bin_start": 233.6,
            "bin_end": 262.8,
            "count": 0
           },
           {
            "bin_start": 262.8,
            "bin_end": 292,
            "count": 1
           }
          ]
         }
        },
        {
         "name": "kode_kabupaten_kota",
         "dtype": "float64",
         "stats": {
          "unique_count": 8,
          "nan_count": 0,
          "min": "31.472558843778756",
          "max": "3279.0",
          "histogram": [
           {
            "bin_start": 31.472558843778756,
            "bin_end": 356.2253029594009,
            "count": 2
           },
           {
            "bin_start": 356.2253029594009,
            "bin_end": 680.978047075023,
            "count": 0
           },
           {
            "bin_start": 680.978047075023,
            "bin_end": 1005.7307911906452,
            "count": 0
           },
           {
            "bin_start": 1005.7307911906452,
            "bin_end": 1330.4835353062672,
            "count": 0
           },
           {
            "bin_start": 1330.4835353062672,
            "bin_end": 1655.2362794218893,
            "count": 0
           },
           {
            "bin_start": 1655.2362794218893,
            "bin_end": 1979.9890235375115,
            "count": 0
           },
           {
            "bin_start": 1979.9890235375115,
            "bin_end": 2304.7417676531336,
            "count": 0
           },
           {
            "bin_start": 2304.7417676531336,
            "bin_end": 2629.4945117687557,
            "count": 0
           },
           {
            "bin_start": 2629.4945117687557,
            "bin_end": 2954.247255884378,
            "count": 0
           },
           {
            "bin_start": 2954.247255884378,
            "bin_end": 3279,
            "count": 6
           }
          ]
         }
        },
        {
         "name": "persentase_penduduk",
         "dtype": "float64",
         "stats": {
          "unique_count": 8,
          "nan_count": 0,
          "min": "2.07",
          "max": "292.0",
          "histogram": [
           {
            "bin_start": 2.07,
            "bin_end": 31.063000000000002,
            "count": 7
           },
           {
            "bin_start": 31.063000000000002,
            "bin_end": 60.056000000000004,
            "count": 0
           },
           {
            "bin_start": 60.056000000000004,
            "bin_end": 89.049,
            "count": 0
           },
           {
            "bin_start": 89.049,
            "bin_end": 118.042,
            "count": 0
           },
           {
            "bin_start": 118.042,
            "bin_end": 147.035,
            "count": 0
           },
           {
            "bin_start": 147.035,
            "bin_end": 176.02800000000002,
            "count": 0
           },
           {
            "bin_start": 176.02800000000002,
            "bin_end": 205.02100000000002,
            "count": 0
           },
           {
            "bin_start": 205.02100000000002,
            "bin_end": 234.014,
            "count": 0
           },
           {
            "bin_start": 234.014,
            "bin_end": 263.007,
            "count": 0
           },
           {
            "bin_start": 263.007,
            "bin_end": 292,
            "count": 1
           }
          ]
         }
        },
        {
         "name": "tahun",
         "dtype": "float64",
         "stats": {
          "unique_count": 8,
          "nan_count": 0,
          "min": "3.1645748844830663",
          "max": "2020.0",
          "histogram": [
           {
            "bin_start": 3.1645748844830663,
            "bin_end": 204.84811739603478,
            "count": 1
           },
           {
            "bin_start": 204.84811739603478,
            "bin_end": 406.53165990758646,
            "count": 1
           },
           {
            "bin_start": 406.53165990758646,
            "bin_end": 608.2152024191382,
            "count": 0
           },
           {
            "bin_start": 608.2152024191382,
            "bin_end": 809.8987449306899,
            "count": 0
           },
           {
            "bin_start": 809.8987449306899,
            "bin_end": 1011.5822874422415,
            "count": 0
           },
           {
            "bin_start": 1011.5822874422415,
            "bin_end": 1213.2658299537934,
            "count": 0
           },
           {
            "bin_start": 1213.2658299537934,
            "bin_end": 1414.949372465345,
            "count": 0
           },
           {
            "bin_start": 1414.949372465345,
            "bin_end": 1616.6329149768967,
            "count": 0
           },
           {
            "bin_start": 1616.6329149768967,
            "bin_end": 1818.3164574884483,
            "count": 0
           },
           {
            "bin_start": 1818.3164574884483,
            "bin_end": 2020,
            "count": 6
           }
          ]
         }
        },
        {
         "name": "_deepnote_index_column",
         "dtype": "object"
        }
       ],
       "rows": [
        {
         "id": 292,
         "kode_provinsi": 292,
         "kode_kabupaten_kota": 292,
         "persentase_penduduk": 292,
         "tahun": 292,
         "_deepnote_index_column": "count"
        },
        {
         "id": 146.5,
         "kode_provinsi": 32,
         "kode_kabupaten_kota": 3231.5616438356165,
         "persentase_penduduk": 9.505513698630137,
         "tahun": 2015.0513698630136,
         "_deepnote_index_column": "mean"
        },
        {
         "id": 84.43735350345051,
         "kode_provinsi": 0,
         "kode_kabupaten_kota": 31.472558843778756,
         "persentase_penduduk": 3.5118456504612983,
         "tahun": 3.1645748844830663,
         "_deepnote_index_column": "std"
        },
        {
         "id": 1,
         "kode_provinsi": 32,
         "kode_kabupaten_kota": 3201,
         "persentase_penduduk": 2.07,
         "tahun": 2010,
         "_deepnote_index_column": "min"
        },
        {
         "id": 73.75,
         "kode_provinsi": 32,
         "kode_kabupaten_kota": 3207,
         "persentase_penduduk": 7.1175,
         "tahun": 2012,
         "_deepnote_index_column": "25%"
        },
        {
         "id": 146.5,
         "kode_provinsi": 32,
         "kode_kabupaten_kota": 3214,
         "persentase_penduduk": 9.345,
         "tahun": 2015,
         "_deepnote_index_column": "50%"
        },
        {
         "id": 219.25,
         "kode_provinsi": 32,
         "kode_kabupaten_kota": 3273,
         "persentase_penduduk": 11.9925,
         "tahun": 2018,
         "_deepnote_index_column": "75%"
        },
        {
         "id": 292,
         "kode_provinsi": 32,
         "kode_kabupaten_kota": 3279,
         "persentase_penduduk": 20.71,
         "tahun": 2020,
         "_deepnote_index_column": "max"
        }
       ]
      },
      "text/plain": "               id  kode_provinsi  kode_kabupaten_kota  persentase_penduduk  \\\ncount  292.000000          292.0           292.000000           292.000000   \nmean   146.500000           32.0          3231.561644             9.505514   \nstd     84.437354            0.0            31.472559             3.511846   \nmin      1.000000           32.0          3201.000000             2.070000   \n25%     73.750000           32.0          3207.000000             7.117500   \n50%    146.500000           32.0          3214.000000             9.345000   \n75%    219.250000           32.0          3273.000000            11.992500   \nmax    292.000000           32.0          3279.000000            20.710000   \n\n             tahun  \ncount   292.000000  \nmean   2015.051370  \nstd       3.164575  \nmin    2010.000000  \n25%    2012.000000  \n50%    2015.000000  \n75%    2018.000000  \nmax    2020.000000  ",
      "text/html": "<div>\n<style scoped>\n    .dataframe tbody tr th:only-of-type {\n        vertical-align: middle;\n    }\n\n    .dataframe tbody tr th {\n        vertical-align: top;\n    }\n\n    .dataframe thead th {\n        text-align: right;\n    }\n</style>\n<table border=\"1\" class=\"dataframe\">\n  <thead>\n    <tr style=\"text-align: right;\">\n      <th></th>\n      <th>id</th>\n      <th>kode_provinsi</th>\n      <th>kode_kabupaten_kota</th>\n      <th>persentase_penduduk</th>\n      <th>tahun</th>\n    </tr>\n  </thead>\n  <tbody>\n    <tr>\n      <th>count</th>\n      <td>292.000000</td>\n      <td>292.0</td>\n      <td>292.000000</td>\n      <td>292.000000</td>\n      <td>292.000000</td>\n    </tr>\n    <tr>\n      <th>mean</th>\n      <td>146.500000</td>\n      <td>32.0</td>\n      <td>3231.561644</td>\n      <td>9.505514</td>\n      <td>2015.051370</td>\n    </tr>\n    <tr>\n      <th>std</th>\n      <td>84.437354</td>\n      <td>0.0</td>\n      <td>31.472559</td>\n      <td>3.511846</td>\n      <td>3.164575</td>\n    </tr>\n    <tr>\n      <th>min</th>\n      <td>1.000000</td>\n      <td>32.0</td>\n      <td>3201.000000</td>\n      <td>2.070000</td>\n      <td>2010.000000</td>\n    </tr>\n    <tr>\n      <th>25%</th>\n      <td>73.750000</td>\n      <td>32.0</td>\n      <td>3207.000000</td>\n      <td>7.117500</td>\n      <td>2012.000000</td>\n    </tr>\n    <tr>\n      <th>50%</th>\n      <td>146.500000</td>\n      <td>32.0</td>\n      <td>3214.000000</td>\n      <td>9.345000</td>\n      <td>2015.000000</td>\n    </tr>\n    <tr>\n      <th>75%</th>\n      <td>219.250000</td>\n      <td>32.0</td>\n      <td>3273.000000</td>\n      <td>11.992500</td>\n      <td>2018.000000</td>\n    </tr>\n    <tr>\n      <th>max</th>\n      <td>292.000000</td>\n      <td>32.0</td>\n      <td>3279.000000</td>\n      <td>20.710000</td>\n      <td>2020.000000</td>\n    </tr>\n  </tbody>\n</table>\n</div>"
     },
     "metadata": {}
    }
   ],
   "execution_count": null
  },
  {
   "cell_type": "code",
   "source": "kemiskinan_jabar_2002_2020.info()",
   "metadata": {
    "cell_id": "dee8e4aedc61465487a39b3b78d883e2",
    "tags": [],
    "is_code_hidden": true,
    "deepnote_to_be_reexecuted": false,
    "source_hash": "a52dbb60",
    "execution_start": 1661038181125,
    "execution_millis": 38,
    "is_output_hidden": true,
    "deepnote_cell_type": "code",
    "deepnote_cell_height": 105.59375
   },
   "outputs": [
    {
     "name": "stdout",
     "text": "<class 'pandas.core.frame.DataFrame'>\nRangeIndex: 513 entries, 0 to 512\nData columns (total 8 columns):\n #   Column                  Non-Null Count  Dtype  \n---  ------                  --------------  -----  \n 0   id                      513 non-null    int64  \n 1   kode_provinsi           513 non-null    int64  \n 2   nama_provinsi           513 non-null    object \n 3   kode_kabupaten_kota     513 non-null    int64  \n 4   nama_kabupaten_kota     513 non-null    object \n 5   jumlah_penduduk_miskin  513 non-null    float64\n 6   satuan                  513 non-null    object \n 7   tahun                   513 non-null    int64  \ndtypes: float64(1), int64(4), object(3)\nmemory usage: 32.2+ KB\n",
     "output_type": "stream"
    }
   ],
   "execution_count": null
  },
  {
   "cell_type": "code",
   "source": "kemiskinan_jabar_2002_2020.shape",
   "metadata": {
    "cell_id": "a89242492e064afcb0dea66b9198ac82",
    "tags": [],
    "is_code_hidden": true,
    "deepnote_to_be_reexecuted": false,
    "source_hash": "5f1f4eaa",
    "execution_start": 1661038181159,
    "execution_millis": 23,
    "is_output_hidden": true,
    "deepnote_cell_type": "code",
    "deepnote_cell_height": 105.59375
   },
   "outputs": [
    {
     "output_type": "execute_result",
     "execution_count": 15,
     "data": {
      "text/plain": "(513, 8)"
     },
     "metadata": {}
    }
   ],
   "execution_count": null
  },
  {
   "cell_type": "code",
   "source": "kemiskinan_jabar_2002_2020.head()",
   "metadata": {
    "cell_id": "0b82b1b2bb9649499aa48197a93a058a",
    "tags": [],
    "is_code_hidden": true,
    "deepnote_to_be_reexecuted": false,
    "source_hash": "51b2f582",
    "execution_start": 1661038181186,
    "execution_millis": 41,
    "is_output_hidden": true,
    "deepnote_cell_type": "code",
    "deepnote_cell_height": 105.59375
   },
   "outputs": [
    {
     "output_type": "execute_result",
     "execution_count": 16,
     "data": {
      "application/vnd.deepnote.dataframe.v3+json": {
       "column_count": 8,
       "row_count": 5,
       "columns": [
        {
         "name": "id",
         "dtype": "int64",
         "stats": {
          "unique_count": 5,
          "nan_count": 0,
          "min": "1",
          "max": "5",
          "histogram": [
           {
            "bin_start": 1,
            "bin_end": 1.4,
            "count": 1
           },
           {
            "bin_start": 1.4,
            "bin_end": 1.8,
            "count": 0
           },
           {
            "bin_start": 1.8,
            "bin_end": 2.2,
            "count": 1
           },
           {
            "bin_start": 2.2,
            "bin_end": 2.6,
            "count": 0
           },
           {
            "bin_start": 2.6,
            "bin_end": 3,
            "count": 0
           },
           {
            "bin_start": 3,
            "bin_end": 3.4000000000000004,
            "count": 1
           },
           {
            "bin_start": 3.4000000000000004,
            "bin_end": 3.8000000000000003,
            "count": 0
           },
           {
            "bin_start": 3.8000000000000003,
            "bin_end": 4.2,
            "count": 1
           },
           {
            "bin_start": 4.2,
            "bin_end": 4.6,
            "count": 0
           },
           {
            "bin_start": 4.6,
            "bin_end": 5,
            "count": 1
           }
          ]
         }
        },
        {
         "name": "kode_provinsi",
         "dtype": "int64",
         "stats": {
          "unique_count": 1,
          "nan_count": 0,
          "min": "32",
          "max": "32",
          "histogram": [
           {
            "bin_start": 31.5,
            "bin_end": 31.6,
            "count": 0
           },
           {
            "bin_start": 31.6,
            "bin_end": 31.7,
            "count": 0
           },
           {
            "bin_start": 31.7,
            "bin_end": 31.8,
            "count": 0
           },
           {
            "bin_start": 31.8,
            "bin_end": 31.9,
            "count": 0
           },
           {
            "bin_start": 31.9,
            "bin_end": 32,
            "count": 0
           },
           {
            "bin_start": 32,
            "bin_end": 32.1,
            "count": 5
           },
           {
            "bin_start": 32.1,
            "bin_end": 32.2,
            "count": 0
           },
           {
            "bin_start": 32.2,
            "bin_end": 32.3,
            "count": 0
           },
           {
            "bin_start": 32.3,
            "bin_end": 32.4,
            "count": 0
           },
           {
            "bin_start": 32.4,
            "bin_end": 32.5,
            "count": 0
           }
          ]
         }
        },
        {
         "name": "nama_provinsi",
         "dtype": "object",
         "stats": {
          "unique_count": 1,
          "nan_count": 0,
          "categories": [
           {
            "name": "JAWA BARAT",
            "count": 5
           }
          ]
         }
        },
        {
         "name": "kode_kabupaten_kota",
         "dtype": "int64",
         "stats": {
          "unique_count": 5,
          "nan_count": 0,
          "min": "3201",
          "max": "3205",
          "histogram": [
           {
            "bin_start": 3201,
            "bin_end": 3201.4,
            "count": 1
           },
           {
            "bin_start": 3201.4,
            "bin_end": 3201.8,
            "count": 0
           },
           {
            "bin_start": 3201.8,
            "bin_end": 3202.2,
            "count": 1
           },
           {
            "bin_start": 3202.2,
            "bin_end": 3202.6,
            "count": 0
           },
           {
            "bin_start": 3202.6,
            "bin_end": 3203,
            "count": 0
           },
           {
            "bin_start": 3203,
            "bin_end": 3203.4,
            "count": 1
           },
           {
            "bin_start": 3203.4,
            "bin_end": 3203.8,
            "count": 0
           },
           {
            "bin_start": 3203.8,
            "bin_end": 3204.2,
            "count": 1
           },
           {
            "bin_start": 3204.2,
            "bin_end": 3204.6,
            "count": 0
           },
           {
            "bin_start": 3204.6,
            "bin_end": 3205,
            "count": 1
           }
          ]
         }
        },
        {
         "name": "nama_kabupaten_kota",
         "dtype": "object",
         "stats": {
          "unique_count": 5,
          "nan_count": 0,
          "categories": [
           {
            "name": "KABUPATEN BOGOR",
            "count": 1
           },
           {
            "name": "KABUPATEN SUKABUMI",
            "count": 1
           },
           {
            "name": "3 others",
            "count": 3
           }
          ]
         }
        },
        {
         "name": "jumlah_penduduk_miskin",
         "dtype": "float64",
         "stats": {
          "unique_count": 5,
          "nan_count": 0,
          "min": "323.7",
          "max": "543.3",
          "histogram": [
           {
            "bin_start": 323.7,
            "bin_end": 345.65999999999997,
            "count": 1
           },
           {
            "bin_start": 345.65999999999997,
            "bin_end": 367.62,
            "count": 1
           },
           {
            "bin_start": 367.62,
            "bin_end": 389.58,
            "count": 1
           },
           {
            "bin_start": 389.58,
            "bin_end": 411.53999999999996,
            "count": 0
           },
           {
            "bin_start": 411.53999999999996,
            "bin_end": 433.5,
            "count": 0
           },
           {
            "bin_start": 433.5,
            "bin_end": 455.46,
            "count": 1
           },
           {
            "bin_start": 455.46,
            "bin_end": 477.41999999999996,
            "count": 0
           },
           {
            "bin_start": 477.41999999999996,
            "bin_end": 499.38,
            "count": 0
           },
           {
            "bin_start": 499.38,
            "bin_end": 521.3399999999999,
            "count": 0
           },
           {
            "bin_start": 521.3399999999999,
            "bin_end": 543.3,
            "count": 1
           }
          ]
         }
        },
        {
         "name": "satuan",
         "dtype": "object",
         "stats": {
          "unique_count": 1,
          "nan_count": 0,
          "categories": [
           {
            "name": "RIBU JIWA",
            "count": 5
           }
          ]
         }
        },
        {
         "name": "tahun",
         "dtype": "int64",
         "stats": {
          "unique_count": 1,
          "nan_count": 0,
          "min": "2002",
          "max": "2002",
          "histogram": [
           {
            "bin_start": 2001.5,
            "bin_end": 2001.6,
            "count": 0
           },
           {
            "bin_start": 2001.6,
            "bin_end": 2001.7,
            "count": 0
           },
           {
            "bin_start": 2001.7,
            "bin_end": 2001.8,
            "count": 0
           },
           {
            "bin_start": 2001.8,
            "bin_end": 2001.9,
            "count": 0
           },
           {
            "bin_start": 2001.9,
            "bin_end": 2002,
            "count": 0
           },
           {
            "bin_start": 2002,
            "bin_end": 2002.1,
            "count": 5
           },
           {
            "bin_start": 2002.1,
            "bin_end": 2002.2,
            "count": 0
           },
           {
            "bin_start": 2002.2,
            "bin_end": 2002.3,
            "count": 0
           },
           {
            "bin_start": 2002.3,
            "bin_end": 2002.4,
            "count": 0
           },
           {
            "bin_start": 2002.4,
            "bin_end": 2002.5,
            "count": 0
           }
          ]
         }
        },
        {
         "name": "_deepnote_index_column",
         "dtype": "int64"
        }
       ],
       "rows": [
        {
         "id": 1,
         "kode_provinsi": 32,
         "nama_provinsi": "JAWA BARAT",
         "kode_kabupaten_kota": 3201,
         "nama_kabupaten_kota": "KABUPATEN BOGOR",
         "jumlah_penduduk_miskin": 451.3,
         "satuan": "RIBU JIWA",
         "tahun": 2002,
         "_deepnote_index_column": 0
        },
        {
         "id": 2,
         "kode_provinsi": 32,
         "nama_provinsi": "JAWA BARAT",
         "kode_kabupaten_kota": 3202,
         "nama_kabupaten_kota": "KABUPATEN SUKABUMI",
         "jumlah_penduduk_miskin": 362.2,
         "satuan": "RIBU JIWA",
         "tahun": 2002,
         "_deepnote_index_column": 1
        },
        {
         "id": 3,
         "kode_provinsi": 32,
         "nama_provinsi": "JAWA BARAT",
         "kode_kabupaten_kota": 3203,
         "nama_kabupaten_kota": "KABUPATEN CIANJUR",
         "jumlah_penduduk_miskin": 368.6,
         "satuan": "RIBU JIWA",
         "tahun": 2002,
         "_deepnote_index_column": 2
        },
        {
         "id": 4,
         "kode_provinsi": 32,
         "nama_provinsi": "JAWA BARAT",
         "kode_kabupaten_kota": 3204,
         "nama_kabupaten_kota": "KABUPATEN BANDUNG",
         "jumlah_penduduk_miskin": 543.3,
         "satuan": "RIBU JIWA",
         "tahun": 2002,
         "_deepnote_index_column": 3
        },
        {
         "id": 5,
         "kode_provinsi": 32,
         "nama_provinsi": "JAWA BARAT",
         "kode_kabupaten_kota": 3205,
         "nama_kabupaten_kota": "KABUPATEN GARUT",
         "jumlah_penduduk_miskin": 323.7,
         "satuan": "RIBU JIWA",
         "tahun": 2002,
         "_deepnote_index_column": 4
        }
       ]
      },
      "text/plain": "   id  kode_provinsi nama_provinsi  kode_kabupaten_kota nama_kabupaten_kota  \\\n0   1             32    JAWA BARAT                 3201     KABUPATEN BOGOR   \n1   2             32    JAWA BARAT                 3202  KABUPATEN SUKABUMI   \n2   3             32    JAWA BARAT                 3203   KABUPATEN CIANJUR   \n3   4             32    JAWA BARAT                 3204   KABUPATEN BANDUNG   \n4   5             32    JAWA BARAT                 3205     KABUPATEN GARUT   \n\n   jumlah_penduduk_miskin     satuan  tahun  \n0                   451.3  RIBU JIWA   2002  \n1                   362.2  RIBU JIWA   2002  \n2                   368.6  RIBU JIWA   2002  \n3                   543.3  RIBU JIWA   2002  \n4                   323.7  RIBU JIWA   2002  ",
      "text/html": "<div>\n<style scoped>\n    .dataframe tbody tr th:only-of-type {\n        vertical-align: middle;\n    }\n\n    .dataframe tbody tr th {\n        vertical-align: top;\n    }\n\n    .dataframe thead th {\n        text-align: right;\n    }\n</style>\n<table border=\"1\" class=\"dataframe\">\n  <thead>\n    <tr style=\"text-align: right;\">\n      <th></th>\n      <th>id</th>\n      <th>kode_provinsi</th>\n      <th>nama_provinsi</th>\n      <th>kode_kabupaten_kota</th>\n      <th>nama_kabupaten_kota</th>\n      <th>jumlah_penduduk_miskin</th>\n      <th>satuan</th>\n      <th>tahun</th>\n    </tr>\n  </thead>\n  <tbody>\n    <tr>\n      <th>0</th>\n      <td>1</td>\n      <td>32</td>\n      <td>JAWA BARAT</td>\n      <td>3201</td>\n      <td>KABUPATEN BOGOR</td>\n      <td>451.3</td>\n      <td>RIBU JIWA</td>\n      <td>2002</td>\n    </tr>\n    <tr>\n      <th>1</th>\n      <td>2</td>\n      <td>32</td>\n      <td>JAWA BARAT</td>\n      <td>3202</td>\n      <td>KABUPATEN SUKABUMI</td>\n      <td>362.2</td>\n      <td>RIBU JIWA</td>\n      <td>2002</td>\n    </tr>\n    <tr>\n      <th>2</th>\n      <td>3</td>\n      <td>32</td>\n      <td>JAWA BARAT</td>\n      <td>3203</td>\n      <td>KABUPATEN CIANJUR</td>\n      <td>368.6</td>\n      <td>RIBU JIWA</td>\n      <td>2002</td>\n    </tr>\n    <tr>\n      <th>3</th>\n      <td>4</td>\n      <td>32</td>\n      <td>JAWA BARAT</td>\n      <td>3204</td>\n      <td>KABUPATEN BANDUNG</td>\n      <td>543.3</td>\n      <td>RIBU JIWA</td>\n      <td>2002</td>\n    </tr>\n    <tr>\n      <th>4</th>\n      <td>5</td>\n      <td>32</td>\n      <td>JAWA BARAT</td>\n      <td>3205</td>\n      <td>KABUPATEN GARUT</td>\n      <td>323.7</td>\n      <td>RIBU JIWA</td>\n      <td>2002</td>\n    </tr>\n  </tbody>\n</table>\n</div>"
     },
     "metadata": {}
    }
   ],
   "execution_count": null
  },
  {
   "cell_type": "code",
   "source": "kemiskinan_jabar_2002_2020.describe()",
   "metadata": {
    "cell_id": "d8dcbdfa1a8e40e58786c7659a5fc423",
    "tags": [],
    "is_code_hidden": true,
    "deepnote_to_be_reexecuted": false,
    "source_hash": "a787cc4c",
    "execution_start": 1661038181244,
    "execution_millis": 68,
    "is_output_hidden": true,
    "deepnote_cell_type": "code",
    "deepnote_cell_height": 105.59375
   },
   "outputs": [
    {
     "output_type": "execute_result",
     "execution_count": 17,
     "data": {
      "application/vnd.deepnote.dataframe.v3+json": {
       "column_count": 5,
       "row_count": 8,
       "columns": [
        {
         "name": "id",
         "dtype": "float64",
         "stats": {
          "unique_count": 6,
          "nan_count": 0,
          "min": "1.0",
          "max": "513.0",
          "histogram": [
           {
            "bin_start": 1,
            "bin_end": 52.2,
            "count": 1
           },
           {
            "bin_start": 52.2,
            "bin_end": 103.4,
            "count": 0
           },
           {
            "bin_start": 103.4,
            "bin_end": 154.60000000000002,
            "count": 2
           },
           {
            "bin_start": 154.60000000000002,
            "bin_end": 205.8,
            "count": 0
           },
           {
            "bin_start": 205.8,
            "bin_end": 257,
            "count": 0
           },
           {
            "bin_start": 257,
            "bin_end": 308.20000000000005,
            "count": 2
           },
           {
            "bin_start": 308.20000000000005,
            "bin_end": 359.40000000000003,
            "count": 0
           },
           {
            "bin_start": 359.40000000000003,
            "bin_end": 410.6,
            "count": 1
           },
           {
            "bin_start": 410.6,
            "bin_end": 461.8,
            "count": 0
           },
           {
            "bin_start": 461.8,
            "bin_end": 513,
            "count": 2
           }
          ]
         }
        },
        {
         "name": "kode_provinsi",
         "dtype": "float64",
         "stats": {
          "unique_count": 3,
          "nan_count": 0,
          "min": "0.0",
          "max": "513.0",
          "histogram": [
           {
            "bin_start": 0,
            "bin_end": 51.3,
            "count": 7
           },
           {
            "bin_start": 51.3,
            "bin_end": 102.6,
            "count": 0
           },
           {
            "bin_start": 102.6,
            "bin_end": 153.89999999999998,
            "count": 0
           },
           {
            "bin_start": 153.89999999999998,
            "bin_end": 205.2,
            "count": 0
           },
           {
            "bin_start": 205.2,
            "bin_end": 256.5,
            "count": 0
           },
           {
            "bin_start": 256.5,
            "bin_end": 307.79999999999995,
            "count": 0
           },
           {
            "bin_start": 307.79999999999995,
            "bin_end": 359.09999999999997,
            "count": 0
           },
           {
            "bin_start": 359.09999999999997,
            "bin_end": 410.4,
            "count": 0
           },
           {
            "bin_start": 410.4,
            "bin_end": 461.7,
            "count": 0
           },
           {
            "bin_start": 461.7,
            "bin_end": 513,
            "count": 1
           }
          ]
         }
        },
        {
         "name": "kode_kabupaten_kota",
         "dtype": "float64",
         "stats": {
          "unique_count": 8,
          "nan_count": 0,
          "min": "31.232307491602345",
          "max": "3279.0",
          "histogram": [
           {
            "bin_start": 31.232307491602345,
            "bin_end": 356.00907674244206,
            "count": 1
           },
           {
            "bin_start": 356.00907674244206,
            "bin_end": 680.7858459932818,
            "count": 1
           },
           {
            "bin_start": 680.7858459932818,
            "bin_end": 1005.5626152441215,
            "count": 0
           },
           {
            "bin_start": 1005.5626152441215,
            "bin_end": 1330.3393844949612,
            "count": 0
           },
           {
            "bin_start": 1330.3393844949612,
            "bin_end": 1655.1161537458008,
            "count": 0
           },
           {
            "bin_start": 1655.1161537458008,
            "bin_end": 1979.8929229966407,
            "count": 0
           },
           {
            "bin_start": 1979.8929229966407,
            "bin_end": 2304.6696922474807,
            "count": 0
           },
           {
            "bin_start": 2304.6696922474807,
            "bin_end": 2629.4464614983203,
            "count": 0
           },
           {
            "bin_start": 2629.4464614983203,
            "bin_end": 2954.22323074916,
            "count": 0
           },
           {
            "bin_start": 2954.22323074916,
            "bin_end": 3279,
            "count": 6
           }
          ]
         }
        },
        {
         "name": "jumlah_penduduk_miskin",
         "dtype": "float64",
         "stats": {
          "unique_count": 8,
          "nan_count": 0,
          "min": "0.0",
          "max": "619.0",
          "histogram": [
           {
            "bin_start": 0,
            "bin_end": 61.9,
            "count": 1
           },
           {
            "bin_start": 61.9,
            "bin_end": 123.8,
            "count": 1
           },
           {
            "bin_start": 123.8,
            "bin_end": 185.7,
            "count": 3
           },
           {
            "bin_start": 185.7,
            "bin_end": 247.6,
            "count": 0
           },
           {
            "bin_start": 247.6,
            "bin_end": 309.5,
            "count": 1
           },
           {
            "bin_start": 309.5,
            "bin_end": 371.4,
            "count": 0
           },
           {
            "bin_start": 371.4,
            "bin_end": 433.3,
            "count": 0
           },
           {
            "bin_start": 433.3,
            "bin_end": 495.2,
            "count": 0
           },
           {
            "bin_start": 495.2,
            "bin_end": 557.1,
            "count": 1
           },
           {
            "bin_start": 557.1,
            "bin_end": 619,
            "count": 1
           }
          ]
         }
        },
        {
         "name": "tahun",
         "dtype": "float64",
         "stats": {
          "unique_count": 7,
          "nan_count": 0,
          "min": "5.4825718189550425",
          "max": "2020.0",
          "histogram": [
           {
            "bin_start": 5.4825718189550425,
            "bin_end": 206.93431463705954,
            "count": 1
           },
           {
            "bin_start": 206.93431463705954,
            "bin_end": 408.386057455164,
            "count": 0
           },
           {
            "bin_start": 408.386057455164,
            "bin_end": 609.8378002732685,
            "count": 1
           },
           {
            "bin_start": 609.8378002732685,
            "bin_end": 811.289543091373,
            "count": 0
           },
           {
            "bin_start": 811.289543091373,
            "bin_end": 1012.7412859094776,
            "count": 0
           },
           {
            "bin_start": 1012.7412859094776,
            "bin_end": 1214.1930287275818,
            "count": 0
           },
           {
            "bin_start": 1214.1930287275818,
            "bin_end": 1415.6447715456864,
            "count": 0
           },
           {
            "bin_start": 1415.6447715456864,
            "bin_end": 1617.096514363791,
            "count": 0
           },
           {
            "bin_start": 1617.096514363791,
            "bin_end": 1818.5482571818955,
            "count": 0
           },
           {
            "bin_start": 1818.5482571818955,
            "bin_end": 2020,
            "count": 6
           }
          ]
         }
        },
        {
         "name": "_deepnote_index_column",
         "dtype": "object"
        }
       ],
       "rows": [
        {
         "id": 513,
         "kode_provinsi": 513,
         "kode_kabupaten_kota": 513,
         "jumlah_penduduk_miskin": 513,
         "tahun": 513,
         "_deepnote_index_column": "count"
        },
        {
         "id": 257,
         "kode_provinsi": 32,
         "kode_kabupaten_kota": 3231.3333333333335,
         "jumlah_penduduk_miskin": 169.74001949317739,
         "tahun": 2011,
         "_deepnote_index_column": "mean"
        },
        {
         "id": 148.23461134296537,
         "kode_provinsi": 0,
         "kode_kabupaten_kota": 31.232307491602345,
         "jumlah_penduduk_miskin": 126.79116689477497,
         "tahun": 5.4825718189550425,
         "_deepnote_index_column": "std"
        },
        {
         "id": 1,
         "kode_provinsi": 32,
         "kode_kabupaten_kota": 3201,
         "jumlah_penduduk_miskin": 0,
         "tahun": 2002,
         "_deepnote_index_column": "min"
        },
        {
         "id": 129,
         "kode_provinsi": 32,
         "kode_kabupaten_kota": 3207,
         "jumlah_penduduk_miskin": 65.2,
         "tahun": 2006,
         "_deepnote_index_column": "25%"
        },
        {
         "id": 257,
         "kode_provinsi": 32,
         "kode_kabupaten_kota": 3214,
         "jumlah_penduduk_miskin": 147.2,
         "tahun": 2011,
         "_deepnote_index_column": "50%"
        },
        {
         "id": 385,
         "kode_provinsi": 32,
         "kode_kabupaten_kota": 3273,
         "jumlah_penduduk_miskin": 247.94,
         "tahun": 2016,
         "_deepnote_index_column": "75%"
        },
        {
         "id": 513,
         "kode_provinsi": 32,
         "kode_kabupaten_kota": 3279,
         "jumlah_penduduk_miskin": 619,
         "tahun": 2020,
         "_deepnote_index_column": "max"
        }
       ]
      },
      "text/plain": "               id  kode_provinsi  kode_kabupaten_kota  jumlah_penduduk_miskin  \\\ncount  513.000000          513.0           513.000000              513.000000   \nmean   257.000000           32.0          3231.333333              169.740019   \nstd    148.234611            0.0            31.232307              126.791167   \nmin      1.000000           32.0          3201.000000                0.000000   \n25%    129.000000           32.0          3207.000000               65.200000   \n50%    257.000000           32.0          3214.000000              147.200000   \n75%    385.000000           32.0          3273.000000              247.940000   \nmax    513.000000           32.0          3279.000000              619.000000   \n\n             tahun  \ncount   513.000000  \nmean   2011.000000  \nstd       5.482572  \nmin    2002.000000  \n25%    2006.000000  \n50%    2011.000000  \n75%    2016.000000  \nmax    2020.000000  ",
      "text/html": "<div>\n<style scoped>\n    .dataframe tbody tr th:only-of-type {\n        vertical-align: middle;\n    }\n\n    .dataframe tbody tr th {\n        vertical-align: top;\n    }\n\n    .dataframe thead th {\n        text-align: right;\n    }\n</style>\n<table border=\"1\" class=\"dataframe\">\n  <thead>\n    <tr style=\"text-align: right;\">\n      <th></th>\n      <th>id</th>\n      <th>kode_provinsi</th>\n      <th>kode_kabupaten_kota</th>\n      <th>jumlah_penduduk_miskin</th>\n      <th>tahun</th>\n    </tr>\n  </thead>\n  <tbody>\n    <tr>\n      <th>count</th>\n      <td>513.000000</td>\n      <td>513.0</td>\n      <td>513.000000</td>\n      <td>513.000000</td>\n      <td>513.000000</td>\n    </tr>\n    <tr>\n      <th>mean</th>\n      <td>257.000000</td>\n      <td>32.0</td>\n      <td>3231.333333</td>\n      <td>169.740019</td>\n      <td>2011.000000</td>\n    </tr>\n    <tr>\n      <th>std</th>\n      <td>148.234611</td>\n      <td>0.0</td>\n      <td>31.232307</td>\n      <td>126.791167</td>\n      <td>5.482572</td>\n    </tr>\n    <tr>\n      <th>min</th>\n      <td>1.000000</td>\n      <td>32.0</td>\n      <td>3201.000000</td>\n      <td>0.000000</td>\n      <td>2002.000000</td>\n    </tr>\n    <tr>\n      <th>25%</th>\n      <td>129.000000</td>\n      <td>32.0</td>\n      <td>3207.000000</td>\n      <td>65.200000</td>\n      <td>2006.000000</td>\n    </tr>\n    <tr>\n      <th>50%</th>\n      <td>257.000000</td>\n      <td>32.0</td>\n      <td>3214.000000</td>\n      <td>147.200000</td>\n      <td>2011.000000</td>\n    </tr>\n    <tr>\n      <th>75%</th>\n      <td>385.000000</td>\n      <td>32.0</td>\n      <td>3273.000000</td>\n      <td>247.940000</td>\n      <td>2016.000000</td>\n    </tr>\n    <tr>\n      <th>max</th>\n      <td>513.000000</td>\n      <td>32.0</td>\n      <td>3279.000000</td>\n      <td>619.000000</td>\n      <td>2020.000000</td>\n    </tr>\n  </tbody>\n</table>\n</div>"
     },
     "metadata": {}
    }
   ],
   "execution_count": null
  },
  {
   "cell_type": "markdown",
   "source": "### Indeks Pendidikan ",
   "metadata": {
    "cell_id": "bbfd3d402fb24d369ea0a2c0a532ac63",
    "tags": [],
    "deepnote_cell_type": "markdown",
    "deepnote_cell_height": 62
   }
  },
  {
   "cell_type": "code",
   "source": "ip_jabar.head()",
   "metadata": {
    "cell_id": "0ee184f83c3e48bd972a5f3d40b86871",
    "tags": [],
    "deepnote_to_be_reexecuted": false,
    "source_hash": "bb20dc07",
    "execution_start": 1661038181315,
    "execution_millis": 56,
    "is_output_hidden": true,
    "is_code_hidden": true,
    "deepnote_cell_type": "code",
    "deepnote_cell_height": 105.59375
   },
   "outputs": [
    {
     "output_type": "execute_result",
     "execution_count": 18,
     "data": {
      "application/vnd.deepnote.dataframe.v3+json": {
       "column_count": 8,
       "row_count": 5,
       "columns": [
        {
         "name": "id",
         "dtype": "int64",
         "stats": {
          "unique_count": 5,
          "nan_count": 0,
          "min": "1",
          "max": "5",
          "histogram": [
           {
            "bin_start": 1,
            "bin_end": 1.4,
            "count": 1
           },
           {
            "bin_start": 1.4,
            "bin_end": 1.8,
            "count": 0
           },
           {
            "bin_start": 1.8,
            "bin_end": 2.2,
            "count": 1
           },
           {
            "bin_start": 2.2,
            "bin_end": 2.6,
            "count": 0
           },
           {
            "bin_start": 2.6,
            "bin_end": 3,
            "count": 0
           },
           {
            "bin_start": 3,
            "bin_end": 3.4000000000000004,
            "count": 1
           },
           {
            "bin_start": 3.4000000000000004,
            "bin_end": 3.8000000000000003,
            "count": 0
           },
           {
            "bin_start": 3.8000000000000003,
            "bin_end": 4.2,
            "count": 1
           },
           {
            "bin_start": 4.2,
            "bin_end": 4.6,
            "count": 0
           },
           {
            "bin_start": 4.6,
            "bin_end": 5,
            "count": 1
           }
          ]
         }
        },
        {
         "name": "kode_provinsi",
         "dtype": "int64",
         "stats": {
          "unique_count": 1,
          "nan_count": 0,
          "min": "32",
          "max": "32",
          "histogram": [
           {
            "bin_start": 31.5,
            "bin_end": 31.6,
            "count": 0
           },
           {
            "bin_start": 31.6,
            "bin_end": 31.7,
            "count": 0
           },
           {
            "bin_start": 31.7,
            "bin_end": 31.8,
            "count": 0
           },
           {
            "bin_start": 31.8,
            "bin_end": 31.9,
            "count": 0
           },
           {
            "bin_start": 31.9,
            "bin_end": 32,
            "count": 0
           },
           {
            "bin_start": 32,
            "bin_end": 32.1,
            "count": 5
           },
           {
            "bin_start": 32.1,
            "bin_end": 32.2,
            "count": 0
           },
           {
            "bin_start": 32.2,
            "bin_end": 32.3,
            "count": 0
           },
           {
            "bin_start": 32.3,
            "bin_end": 32.4,
            "count": 0
           },
           {
            "bin_start": 32.4,
            "bin_end": 32.5,
            "count": 0
           }
          ]
         }
        },
        {
         "name": "nama_provinsi",
         "dtype": "object",
         "stats": {
          "unique_count": 1,
          "nan_count": 0,
          "categories": [
           {
            "name": "JAWA BARAT",
            "count": 5
           }
          ]
         }
        },
        {
         "name": "kode_kabupaten_kota",
         "dtype": "int64",
         "stats": {
          "unique_count": 5,
          "nan_count": 0,
          "min": "3201",
          "max": "3205",
          "histogram": [
           {
            "bin_start": 3201,
            "bin_end": 3201.4,
            "count": 1
           },
           {
            "bin_start": 3201.4,
            "bin_end": 3201.8,
            "count": 0
           },
           {
            "bin_start": 3201.8,
            "bin_end": 3202.2,
            "count": 1
           },
           {
            "bin_start": 3202.2,
            "bin_end": 3202.6,
            "count": 0
           },
           {
            "bin_start": 3202.6,
            "bin_end": 3203,
            "count": 0
           },
           {
            "bin_start": 3203,
            "bin_end": 3203.4,
            "count": 1
           },
           {
            "bin_start": 3203.4,
            "bin_end": 3203.8,
            "count": 0
           },
           {
            "bin_start": 3203.8,
            "bin_end": 3204.2,
            "count": 1
           },
           {
            "bin_start": 3204.2,
            "bin_end": 3204.6,
            "count": 0
           },
           {
            "bin_start": 3204.6,
            "bin_end": 3205,
            "count": 1
           }
          ]
         }
        },
        {
         "name": "nama_kabupaten_kota",
         "dtype": "object",
         "stats": {
          "unique_count": 5,
          "nan_count": 0,
          "categories": [
           {
            "name": "KABUPATEN BOGOR",
            "count": 1
           },
           {
            "name": "KABUPATEN SUKABUMI",
            "count": 1
           },
           {
            "name": "3 others",
            "count": 3
           }
          ]
         }
        },
        {
         "name": "indeks_pendidikan",
         "dtype": "float64",
         "stats": {
          "unique_count": 5,
          "nan_count": 0,
          "min": "47.3",
          "max": "56.65",
          "histogram": [
           {
            "bin_start": 47.3,
            "bin_end": 48.235,
            "count": 2
           },
           {
            "bin_start": 48.235,
            "bin_end": 49.169999999999995,
            "count": 0
           },
           {
            "bin_start": 49.169999999999995,
            "bin_end": 50.105,
            "count": 0
           },
           {
            "bin_start": 50.105,
            "bin_end": 51.04,
            "count": 1
           },
           {
            "bin_start": 51.04,
            "bin_end": 51.974999999999994,
            "count": 1
           },
           {
            "bin_start": 51.974999999999994,
            "bin_end": 52.91,
            "count": 0
           },
           {
            "bin_start": 52.91,
            "bin_end": 53.845,
            "count": 0
           },
           {
            "bin_start": 53.845,
            "bin_end": 54.78,
            "count": 0
           },
           {
            "bin_start": 54.78,
            "bin_end": 55.714999999999996,
            "count": 0
           },
           {
            "bin_start": 55.714999999999996,
            "bin_end": 56.65,
            "count": 1
           }
          ]
         }
        },
        {
         "name": "satuan",
         "dtype": "object",
         "stats": {
          "unique_count": 1,
          "nan_count": 0,
          "categories": [
           {
            "name": "POIN",
            "count": 5
           }
          ]
         }
        },
        {
         "name": "tahun",
         "dtype": "int64",
         "stats": {
          "unique_count": 1,
          "nan_count": 0,
          "min": "2010",
          "max": "2010",
          "histogram": [
           {
            "bin_start": 2009.5,
            "bin_end": 2009.6,
            "count": 0
           },
           {
            "bin_start": 2009.6,
            "bin_end": 2009.7,
            "count": 0
           },
           {
            "bin_start": 2009.7,
            "bin_end": 2009.8,
            "count": 0
           },
           {
            "bin_start": 2009.8,
            "bin_end": 2009.9,
            "count": 0
           },
           {
            "bin_start": 2009.9,
            "bin_end": 2010,
            "count": 0
           },
           {
            "bin_start": 2010,
            "bin_end": 2010.1,
            "count": 5
           },
           {
            "bin_start": 2010.1,
            "bin_end": 2010.2,
            "count": 0
           },
           {
            "bin_start": 2010.2,
            "bin_end": 2010.3,
            "count": 0
           },
           {
            "bin_start": 2010.3,
            "bin_end": 2010.4,
            "count": 0
           },
           {
            "bin_start": 2010.4,
            "bin_end": 2010.5,
            "count": 0
           }
          ]
         }
        },
        {
         "name": "_deepnote_index_column",
         "dtype": "int64"
        }
       ],
       "rows": [
        {
         "id": 1,
         "kode_provinsi": 32,
         "nama_provinsi": "JAWA BARAT",
         "kode_kabupaten_kota": 3201,
         "nama_kabupaten_kota": "KABUPATEN BOGOR",
         "indeks_pendidikan": 51.55,
         "satuan": "POIN",
         "tahun": 2010,
         "_deepnote_index_column": 0
        },
        {
         "id": 2,
         "kode_provinsi": 32,
         "nama_provinsi": "JAWA BARAT",
         "kode_kabupaten_kota": 3202,
         "nama_kabupaten_kota": "KABUPATEN SUKABUMI",
         "indeks_pendidikan": 47.39,
         "satuan": "POIN",
         "tahun": 2010,
         "_deepnote_index_column": 1
        },
        {
         "id": 3,
         "kode_provinsi": 32,
         "nama_provinsi": "JAWA BARAT",
         "kode_kabupaten_kota": 3203,
         "nama_kabupaten_kota": "KABUPATEN CIANJUR",
         "indeks_pendidikan": 47.3,
         "satuan": "POIN",
         "tahun": 2010,
         "_deepnote_index_column": 2
        },
        {
         "id": 4,
         "kode_provinsi": 32,
         "nama_provinsi": "JAWA BARAT",
         "kode_kabupaten_kota": 3204,
         "nama_kabupaten_kota": "KABUPATEN BANDUNG",
         "indeks_pendidikan": 56.65,
         "satuan": "POIN",
         "tahun": 2010,
         "_deepnote_index_column": 3
        },
        {
         "id": 5,
         "kode_provinsi": 32,
         "nama_provinsi": "JAWA BARAT",
         "kode_kabupaten_kota": 3205,
         "nama_kabupaten_kota": "KABUPATEN GARUT",
         "indeks_pendidikan": 51.03,
         "satuan": "POIN",
         "tahun": 2010,
         "_deepnote_index_column": 4
        }
       ]
      },
      "text/plain": "   id  kode_provinsi nama_provinsi  kode_kabupaten_kota nama_kabupaten_kota  \\\n0   1             32    JAWA BARAT                 3201     KABUPATEN BOGOR   \n1   2             32    JAWA BARAT                 3202  KABUPATEN SUKABUMI   \n2   3             32    JAWA BARAT                 3203   KABUPATEN CIANJUR   \n3   4             32    JAWA BARAT                 3204   KABUPATEN BANDUNG   \n4   5             32    JAWA BARAT                 3205     KABUPATEN GARUT   \n\n   indeks_pendidikan satuan  tahun  \n0              51.55   POIN   2010  \n1              47.39   POIN   2010  \n2              47.30   POIN   2010  \n3              56.65   POIN   2010  \n4              51.03   POIN   2010  ",
      "text/html": "<div>\n<style scoped>\n    .dataframe tbody tr th:only-of-type {\n        vertical-align: middle;\n    }\n\n    .dataframe tbody tr th {\n        vertical-align: top;\n    }\n\n    .dataframe thead th {\n        text-align: right;\n    }\n</style>\n<table border=\"1\" class=\"dataframe\">\n  <thead>\n    <tr style=\"text-align: right;\">\n      <th></th>\n      <th>id</th>\n      <th>kode_provinsi</th>\n      <th>nama_provinsi</th>\n      <th>kode_kabupaten_kota</th>\n      <th>nama_kabupaten_kota</th>\n      <th>indeks_pendidikan</th>\n      <th>satuan</th>\n      <th>tahun</th>\n    </tr>\n  </thead>\n  <tbody>\n    <tr>\n      <th>0</th>\n      <td>1</td>\n      <td>32</td>\n      <td>JAWA BARAT</td>\n      <td>3201</td>\n      <td>KABUPATEN BOGOR</td>\n      <td>51.55</td>\n      <td>POIN</td>\n      <td>2010</td>\n    </tr>\n    <tr>\n      <th>1</th>\n      <td>2</td>\n      <td>32</td>\n      <td>JAWA BARAT</td>\n      <td>3202</td>\n      <td>KABUPATEN SUKABUMI</td>\n      <td>47.39</td>\n      <td>POIN</td>\n      <td>2010</td>\n    </tr>\n    <tr>\n      <th>2</th>\n      <td>3</td>\n      <td>32</td>\n      <td>JAWA BARAT</td>\n      <td>3203</td>\n      <td>KABUPATEN CIANJUR</td>\n      <td>47.30</td>\n      <td>POIN</td>\n      <td>2010</td>\n    </tr>\n    <tr>\n      <th>3</th>\n      <td>4</td>\n      <td>32</td>\n      <td>JAWA BARAT</td>\n      <td>3204</td>\n      <td>KABUPATEN BANDUNG</td>\n      <td>56.65</td>\n      <td>POIN</td>\n      <td>2010</td>\n    </tr>\n    <tr>\n      <th>4</th>\n      <td>5</td>\n      <td>32</td>\n      <td>JAWA BARAT</td>\n      <td>3205</td>\n      <td>KABUPATEN GARUT</td>\n      <td>51.03</td>\n      <td>POIN</td>\n      <td>2010</td>\n    </tr>\n  </tbody>\n</table>\n</div>"
     },
     "metadata": {}
    }
   ],
   "execution_count": null
  },
  {
   "cell_type": "code",
   "source": "ip_jabar.info()",
   "metadata": {
    "cell_id": "270a3fa7e41c4f0a893c5045754981b9",
    "tags": [],
    "is_code_hidden": true,
    "deepnote_to_be_reexecuted": false,
    "source_hash": "6cb35146",
    "execution_start": 1661038181377,
    "execution_millis": 21,
    "deepnote_cell_type": "code",
    "deepnote_cell_height": 385.796875
   },
   "outputs": [
    {
     "name": "stdout",
     "text": "<class 'pandas.core.frame.DataFrame'>\nRangeIndex: 267 entries, 0 to 266\nData columns (total 8 columns):\n #   Column               Non-Null Count  Dtype  \n---  ------               --------------  -----  \n 0   id                   267 non-null    int64  \n 1   kode_provinsi        267 non-null    int64  \n 2   nama_provinsi        267 non-null    object \n 3   kode_kabupaten_kota  267 non-null    int64  \n 4   nama_kabupaten_kota  267 non-null    object \n 5   indeks_pendidikan    267 non-null    float64\n 6   satuan               267 non-null    object \n 7   tahun                267 non-null    int64  \ndtypes: float64(1), int64(4), object(3)\nmemory usage: 16.8+ KB\n",
     "output_type": "stream"
    }
   ],
   "execution_count": null
  },
  {
   "cell_type": "code",
   "source": "ip_jabar.shape",
   "metadata": {
    "cell_id": "7311e823e3c64d9c94570dbc86b58928",
    "tags": [],
    "is_code_hidden": true,
    "deepnote_to_be_reexecuted": false,
    "source_hash": "9aac56d2",
    "execution_start": 1661038181404,
    "execution_millis": 15,
    "deepnote_cell_type": "code",
    "deepnote_cell_height": 90.796875
   },
   "outputs": [
    {
     "output_type": "execute_result",
     "execution_count": 20,
     "data": {
      "text/plain": "(267, 8)"
     },
     "metadata": {}
    }
   ],
   "execution_count": null
  },
  {
   "cell_type": "code",
   "source": "ip_jabar.describe()",
   "metadata": {
    "cell_id": "a2ed6bf63d5c4f79b486f5376640c7be",
    "tags": [],
    "deepnote_to_be_reexecuted": false,
    "source_hash": "6f80802b",
    "execution_start": 1661038181425,
    "execution_millis": 90,
    "is_code_hidden": true,
    "is_output_hidden": true,
    "deepnote_cell_type": "code",
    "deepnote_cell_height": 105.59375
   },
   "outputs": [
    {
     "output_type": "execute_result",
     "execution_count": 21,
     "data": {
      "application/vnd.deepnote.dataframe.v3+json": {
       "column_count": 5,
       "row_count": 8,
       "columns": [
        {
         "name": "id",
         "dtype": "float64",
         "stats": {
          "unique_count": 6,
          "nan_count": 0,
          "min": "1.0",
          "max": "267.0",
          "histogram": [
           {
            "bin_start": 1,
            "bin_end": 27.6,
            "count": 1
           },
           {
            "bin_start": 27.6,
            "bin_end": 54.2,
            "count": 0
           },
           {
            "bin_start": 54.2,
            "bin_end": 80.80000000000001,
            "count": 2
           },
           {
            "bin_start": 80.80000000000001,
            "bin_end": 107.4,
            "count": 0
           },
           {
            "bin_start": 107.4,
            "bin_end": 134,
            "count": 0
           },
           {
            "bin_start": 134,
            "bin_end": 160.60000000000002,
            "count": 2
           },
           {
            "bin_start": 160.60000000000002,
            "bin_end": 187.20000000000002,
            "count": 0
           },
           {
            "bin_start": 187.20000000000002,
            "bin_end": 213.8,
            "count": 1
           },
           {
            "bin_start": 213.8,
            "bin_end": 240.4,
            "count": 0
           },
           {
            "bin_start": 240.4,
            "bin_end": 267,
            "count": 2
           }
          ]
         }
        },
        {
         "name": "kode_provinsi",
         "dtype": "float64",
         "stats": {
          "unique_count": 3,
          "nan_count": 0,
          "min": "0.0",
          "max": "267.0",
          "histogram": [
           {
            "bin_start": 0,
            "bin_end": 26.7,
            "count": 1
           },
           {
            "bin_start": 26.7,
            "bin_end": 53.4,
            "count": 6
           },
           {
            "bin_start": 53.4,
            "bin_end": 80.1,
            "count": 0
           },
           {
            "bin_start": 80.1,
            "bin_end": 106.8,
            "count": 0
           },
           {
            "bin_start": 106.8,
            "bin_end": 133.5,
            "count": 0
           },
           {
            "bin_start": 133.5,
            "bin_end": 160.2,
            "count": 0
           },
           {
            "bin_start": 160.2,
            "bin_end": 186.9,
            "count": 0
           },
           {
            "bin_start": 186.9,
            "bin_end": 213.6,
            "count": 0
           },
           {
            "bin_start": 213.6,
            "bin_end": 240.29999999999998,
            "count": 0
           },
           {
            "bin_start": 240.29999999999998,
            "bin_end": 267,
            "count": 1
           }
          ]
         }
        },
        {
         "name": "kode_kabupaten_kota",
         "dtype": "float64",
         "stats": {
          "unique_count": 8,
          "nan_count": 0,
          "min": "31.403311098668993",
          "max": "3279.0",
          "histogram": [
           {
            "bin_start": 31.403311098668993,
            "bin_end": 356.16297998880214,
            "count": 2
           },
           {
            "bin_start": 356.16297998880214,
            "bin_end": 680.9226488789352,
            "count": 0
           },
           {
            "bin_start": 680.9226488789352,
            "bin_end": 1005.6823177690684,
            "count": 0
           },
           {
            "bin_start": 1005.6823177690684,
            "bin_end": 1330.4419866592016,
            "count": 0
           },
           {
            "bin_start": 1330.4419866592016,
            "bin_end": 1655.2016555493346,
            "count": 0
           },
           {
            "bin_start": 1655.2016555493346,
            "bin_end": 1979.961324439468,
            "count": 0
           },
           {
            "bin_start": 1979.961324439468,
            "bin_end": 2304.720993329601,
            "count": 0
           },
           {
            "bin_start": 2304.720993329601,
            "bin_end": 2629.480662219734,
            "count": 0
           },
           {
            "bin_start": 2629.480662219734,
            "bin_end": 2954.240331109867,
            "count": 0
           },
           {
            "bin_start": 2954.240331109867,
            "bin_end": 3279,
            "count": 6
           }
          ]
         }
        },
        {
         "name": "indeks_pendidikan",
         "dtype": "float64",
         "stats": {
          "unique_count": 8,
          "nan_count": 0,
          "min": "7.266394206183142",
          "max": "267.0",
          "histogram": [
           {
            "bin_start": 7.266394206183142,
            "bin_end": 33.23975478556483,
            "count": 1
           },
           {
            "bin_start": 33.23975478556483,
            "bin_end": 59.21311536494652,
            "count": 3
           },
           {
            "bin_start": 59.21311536494652,
            "bin_end": 85.1864759443282,
            "count": 3
           },
           {
            "bin_start": 85.1864759443282,
            "bin_end": 111.15983652370988,
            "count": 0
           },
           {
            "bin_start": 111.15983652370988,
            "bin_end": 137.1331971030916,
            "count": 0
           },
           {
            "bin_start": 137.1331971030916,
            "bin_end": 163.10655768247327,
            "count": 0
           },
           {
            "bin_start": 163.10655768247327,
            "bin_end": 189.07991826185497,
            "count": 0
           },
           {
            "bin_start": 189.07991826185497,
            "bin_end": 215.05327884123665,
            "count": 0
           },
           {
            "bin_start": 215.05327884123665,
            "bin_end": 241.02663942061832,
            "count": 0
           },
           {
            "bin_start": 241.02663942061832,
            "bin_end": 267,
            "count": 1
           }
          ]
         }
        },
        {
         "name": "tahun",
         "dtype": "float64",
         "stats": {
          "unique_count": 8,
          "nan_count": 0,
          "min": "2.868245303796504",
          "max": "2019.0",
          "histogram": [
           {
            "bin_start": 2.868245303796504,
            "bin_end": 204.48142077341683,
            "count": 1
           },
           {
            "bin_start": 204.48142077341683,
            "bin_end": 406.0945962430372,
            "count": 1
           },
           {
            "bin_start": 406.0945962430372,
            "bin_end": 607.7077717126575,
            "count": 0
           },
           {
            "bin_start": 607.7077717126575,
            "bin_end": 809.3209471822778,
            "count": 0
           },
           {
            "bin_start": 809.3209471822778,
            "bin_end": 1010.9341226518981,
            "count": 0
           },
           {
            "bin_start": 1010.9341226518981,
            "bin_end": 1212.5472981215187,
            "count": 0
           },
           {
            "bin_start": 1212.5472981215187,
            "bin_end": 1414.160473591139,
            "count": 0
           },
           {
            "bin_start": 1414.160473591139,
            "bin_end": 1615.7736490607592,
            "count": 0
           },
           {
            "bin_start": 1615.7736490607592,
            "bin_end": 1817.3868245303795,
            "count": 0
           },
           {
            "bin_start": 1817.3868245303795,
            "bin_end": 2019,
            "count": 6
           }
          ]
         }
        },
        {
         "name": "_deepnote_index_column",
         "dtype": "object"
        }
       ],
       "rows": [
        {
         "id": 267,
         "kode_provinsi": 267,
         "kode_kabupaten_kota": 267,
         "indeks_pendidikan": 267,
         "tahun": 267,
         "_deepnote_index_column": "count"
        },
        {
         "id": 134,
         "kode_provinsi": 32,
         "kode_kabupaten_kota": 3231.483146067416,
         "indeks_pendidikan": 60.349550561797756,
         "tahun": 2014.5393258426966,
         "_deepnote_index_column": "mean"
        },
        {
         "id": 77.22046360907191,
         "kode_provinsi": 0,
         "kode_kabupaten_kota": 31.403311098668993,
         "indeks_pendidikan": 7.266394206183142,
         "tahun": 2.868245303796504,
         "_deepnote_index_column": "std"
        },
        {
         "id": 1,
         "kode_provinsi": 32,
         "kode_kabupaten_kota": 3201,
         "indeks_pendidikan": 45.48,
         "tahun": 2010,
         "_deepnote_index_column": "min"
        },
        {
         "id": 67.5,
         "kode_provinsi": 32,
         "kode_kabupaten_kota": 3207,
         "indeks_pendidikan": 55.11,
         "tahun": 2012,
         "_deepnote_index_column": "25%"
        },
        {
         "id": 134,
         "kode_provinsi": 32,
         "kode_kabupaten_kota": 3214,
         "indeks_pendidikan": 58.43,
         "tahun": 2015,
         "_deepnote_index_column": "50%"
        },
        {
         "id": 200.5,
         "kode_provinsi": 32,
         "kode_kabupaten_kota": 3273,
         "indeks_pendidikan": 65.655,
         "tahun": 2017,
         "_deepnote_index_column": "75%"
        },
        {
         "id": 267,
         "kode_provinsi": 32,
         "kode_kabupaten_kota": 3279,
         "indeks_pendidikan": 75.86,
         "tahun": 2019,
         "_deepnote_index_column": "max"
        }
       ]
      },
      "text/plain": "               id  kode_provinsi  kode_kabupaten_kota  indeks_pendidikan  \\\ncount  267.000000          267.0           267.000000         267.000000   \nmean   134.000000           32.0          3231.483146          60.349551   \nstd     77.220464            0.0            31.403311           7.266394   \nmin      1.000000           32.0          3201.000000          45.480000   \n25%     67.500000           32.0          3207.000000          55.110000   \n50%    134.000000           32.0          3214.000000          58.430000   \n75%    200.500000           32.0          3273.000000          65.655000   \nmax    267.000000           32.0          3279.000000          75.860000   \n\n             tahun  \ncount   267.000000  \nmean   2014.539326  \nstd       2.868245  \nmin    2010.000000  \n25%    2012.000000  \n50%    2015.000000  \n75%    2017.000000  \nmax    2019.000000  ",
      "text/html": "<div>\n<style scoped>\n    .dataframe tbody tr th:only-of-type {\n        vertical-align: middle;\n    }\n\n    .dataframe tbody tr th {\n        vertical-align: top;\n    }\n\n    .dataframe thead th {\n        text-align: right;\n    }\n</style>\n<table border=\"1\" class=\"dataframe\">\n  <thead>\n    <tr style=\"text-align: right;\">\n      <th></th>\n      <th>id</th>\n      <th>kode_provinsi</th>\n      <th>kode_kabupaten_kota</th>\n      <th>indeks_pendidikan</th>\n      <th>tahun</th>\n    </tr>\n  </thead>\n  <tbody>\n    <tr>\n      <th>count</th>\n      <td>267.000000</td>\n      <td>267.0</td>\n      <td>267.000000</td>\n      <td>267.000000</td>\n      <td>267.000000</td>\n    </tr>\n    <tr>\n      <th>mean</th>\n      <td>134.000000</td>\n      <td>32.0</td>\n      <td>3231.483146</td>\n      <td>60.349551</td>\n      <td>2014.539326</td>\n    </tr>\n    <tr>\n      <th>std</th>\n      <td>77.220464</td>\n      <td>0.0</td>\n      <td>31.403311</td>\n      <td>7.266394</td>\n      <td>2.868245</td>\n    </tr>\n    <tr>\n      <th>min</th>\n      <td>1.000000</td>\n      <td>32.0</td>\n      <td>3201.000000</td>\n      <td>45.480000</td>\n      <td>2010.000000</td>\n    </tr>\n    <tr>\n      <th>25%</th>\n      <td>67.500000</td>\n      <td>32.0</td>\n      <td>3207.000000</td>\n      <td>55.110000</td>\n      <td>2012.000000</td>\n    </tr>\n    <tr>\n      <th>50%</th>\n      <td>134.000000</td>\n      <td>32.0</td>\n      <td>3214.000000</td>\n      <td>58.430000</td>\n      <td>2015.000000</td>\n    </tr>\n    <tr>\n      <th>75%</th>\n      <td>200.500000</td>\n      <td>32.0</td>\n      <td>3273.000000</td>\n      <td>65.655000</td>\n      <td>2017.000000</td>\n    </tr>\n    <tr>\n      <th>max</th>\n      <td>267.000000</td>\n      <td>32.0</td>\n      <td>3279.000000</td>\n      <td>75.860000</td>\n      <td>2019.000000</td>\n    </tr>\n  </tbody>\n</table>\n</div>"
     },
     "metadata": {}
    }
   ],
   "execution_count": null
  },
  {
   "cell_type": "code",
   "source": "ip_jabar2021.head()",
   "metadata": {
    "cell_id": "9c1e7db301bb456e8a633fbf68be3455",
    "tags": [],
    "is_code_hidden": true,
    "deepnote_to_be_reexecuted": false,
    "source_hash": "5e41b903",
    "execution_start": 1661038181517,
    "execution_millis": 49,
    "deepnote_cell_type": "code",
    "deepnote_cell_height": 388.796875
   },
   "outputs": [
    {
     "output_type": "execute_result",
     "execution_count": 22,
     "data": {
      "application/vnd.deepnote.dataframe.v3+json": {
       "column_count": 3,
       "row_count": 5,
       "columns": [
        {
         "name": "nama_kabupaten_kota",
         "dtype": "object",
         "stats": {
          "unique_count": 5,
          "nan_count": 0,
          "categories": [
           {
            "name": "JAWA BARAT",
            "count": 1
           },
           {
            "name": "Bogor",
            "count": 1
           },
           {
            "name": "3 others",
            "count": 3
           }
          ]
         }
        },
        {
         "name": "indeks_pendidikan",
         "dtype": "float64",
         "stats": {
          "unique_count": 5,
          "nan_count": 0,
          "min": "57.24",
          "max": "65.12",
          "histogram": [
           {
            "bin_start": 57.24,
            "bin_end": 58.028000000000006,
            "count": 2
           },
           {
            "bin_start": 58.028000000000006,
            "bin_end": 58.816,
            "count": 0
           },
           {
            "bin_start": 58.816,
            "bin_end": 59.604,
            "count": 0
           },
           {
            "bin_start": 59.604,
            "bin_end": 60.392,
            "count": 0
           },
           {
            "bin_start": 60.392,
            "bin_end": 61.18000000000001,
            "count": 0
           },
           {
            "bin_start": 61.18000000000001,
            "bin_end": 61.968,
            "count": 0
           },
           {
            "bin_start": 61.968,
            "bin_end": 62.756,
            "count": 1
           },
           {
            "bin_start": 62.756,
            "bin_end": 63.544000000000004,
            "count": 1
           },
           {
            "bin_start": 63.544000000000004,
            "bin_end": 64.33200000000001,
            "count": 0
           },
           {
            "bin_start": 64.33200000000001,
            "bin_end": 65.12,
            "count": 1
           }
          ]
         }
        },
        {
         "name": "Tahun",
         "dtype": "int64",
         "stats": {
          "unique_count": 1,
          "nan_count": 0,
          "min": "2020",
          "max": "2020",
          "histogram": [
           {
            "bin_start": 2019.5,
            "bin_end": 2019.6,
            "count": 0
           },
           {
            "bin_start": 2019.6,
            "bin_end": 2019.7,
            "count": 0
           },
           {
            "bin_start": 2019.7,
            "bin_end": 2019.8,
            "count": 0
           },
           {
            "bin_start": 2019.8,
            "bin_end": 2019.9,
            "count": 0
           },
           {
            "bin_start": 2019.9,
            "bin_end": 2020,
            "count": 0
           },
           {
            "bin_start": 2020,
            "bin_end": 2020.1,
            "count": 5
           },
           {
            "bin_start": 2020.1,
            "bin_end": 2020.2,
            "count": 0
           },
           {
            "bin_start": 2020.2,
            "bin_end": 2020.3,
            "count": 0
           },
           {
            "bin_start": 2020.3,
            "bin_end": 2020.4,
            "count": 0
           },
           {
            "bin_start": 2020.4,
            "bin_end": 2020.5,
            "count": 0
           }
          ]
         }
        },
        {
         "name": "_deepnote_index_column",
         "dtype": "int64"
        }
       ],
       "rows": [
        {
         "nama_kabupaten_kota": "JAWA BARAT",
         "indeks_pendidikan": 63.22,
         "Tahun": 2020,
         "_deepnote_index_column": 0
        },
        {
         "nama_kabupaten_kota": "Bogor",
         "indeks_pendidikan": 62.33,
         "Tahun": 2020,
         "_deepnote_index_column": 1
        },
        {
         "nama_kabupaten_kota": "Sukabumi",
         "indeks_pendidikan": 57.54,
         "Tahun": 2020,
         "_deepnote_index_column": 2
        },
        {
         "nama_kabupaten_kota": "Cianjur",
         "indeks_pendidikan": 57.24,
         "Tahun": 2020,
         "_deepnote_index_column": 3
        },
        {
         "nama_kabupaten_kota": "Bandung",
         "indeks_pendidikan": 65.12,
         "Tahun": 2020,
         "_deepnote_index_column": 4
        }
       ]
      },
      "text/plain": "  nama_kabupaten_kota  indeks_pendidikan  Tahun\n0          JAWA BARAT              63.22   2020\n1               Bogor              62.33   2020\n2            Sukabumi              57.54   2020\n3             Cianjur              57.24   2020\n4             Bandung              65.12   2020",
      "text/html": "<div>\n<style scoped>\n    .dataframe tbody tr th:only-of-type {\n        vertical-align: middle;\n    }\n\n    .dataframe tbody tr th {\n        vertical-align: top;\n    }\n\n    .dataframe thead th {\n        text-align: right;\n    }\n</style>\n<table border=\"1\" class=\"dataframe\">\n  <thead>\n    <tr style=\"text-align: right;\">\n      <th></th>\n      <th>nama_kabupaten_kota</th>\n      <th>indeks_pendidikan</th>\n      <th>Tahun</th>\n    </tr>\n  </thead>\n  <tbody>\n    <tr>\n      <th>0</th>\n      <td>JAWA BARAT</td>\n      <td>63.22</td>\n      <td>2020</td>\n    </tr>\n    <tr>\n      <th>1</th>\n      <td>Bogor</td>\n      <td>62.33</td>\n      <td>2020</td>\n    </tr>\n    <tr>\n      <th>2</th>\n      <td>Sukabumi</td>\n      <td>57.54</td>\n      <td>2020</td>\n    </tr>\n    <tr>\n      <th>3</th>\n      <td>Cianjur</td>\n      <td>57.24</td>\n      <td>2020</td>\n    </tr>\n    <tr>\n      <th>4</th>\n      <td>Bandung</td>\n      <td>65.12</td>\n      <td>2020</td>\n    </tr>\n  </tbody>\n</table>\n</div>"
     },
     "metadata": {}
    }
   ],
   "execution_count": null
  },
  {
   "cell_type": "code",
   "source": "ip_jabar2021.info()",
   "metadata": {
    "cell_id": "c9c759623bad4715b297f8d8b3dfa3cf",
    "tags": [],
    "is_code_hidden": true,
    "deepnote_to_be_reexecuted": false,
    "source_hash": "7dfc8a2e",
    "execution_start": 1661038181577,
    "execution_millis": 53,
    "deepnote_cell_type": "code",
    "deepnote_cell_height": 285.796875
   },
   "outputs": [
    {
     "name": "stdout",
     "text": "<class 'pandas.core.frame.DataFrame'>\nRangeIndex: 56 entries, 0 to 55\nData columns (total 3 columns):\n #   Column               Non-Null Count  Dtype  \n---  ------               --------------  -----  \n 0   nama_kabupaten_kota  56 non-null     object \n 1   indeks_pendidikan    56 non-null     float64\n 2   Tahun                56 non-null     int64  \ndtypes: float64(1), int64(1), object(1)\nmemory usage: 1.4+ KB\n",
     "output_type": "stream"
    }
   ],
   "execution_count": null
  },
  {
   "cell_type": "code",
   "source": "ip_jabar2021.shape",
   "metadata": {
    "cell_id": "c0bb33ce30be474f8530b4c097bd7e18",
    "tags": [],
    "is_code_hidden": true,
    "deepnote_to_be_reexecuted": false,
    "source_hash": "4eb65285",
    "execution_start": 1661038181642,
    "execution_millis": 68,
    "deepnote_cell_type": "code",
    "deepnote_cell_height": 90.796875
   },
   "outputs": [
    {
     "output_type": "execute_result",
     "execution_count": 24,
     "data": {
      "text/plain": "(56, 3)"
     },
     "metadata": {}
    }
   ],
   "execution_count": null
  },
  {
   "cell_type": "code",
   "source": "ip_jabar2021.describe()",
   "metadata": {
    "cell_id": "70177527cb444a2ea6e10f1037297c1f",
    "tags": [],
    "is_code_hidden": true,
    "deepnote_to_be_reexecuted": false,
    "source_hash": "6eba2a18",
    "execution_start": 1661038181709,
    "execution_millis": 46,
    "deepnote_cell_type": "code",
    "deepnote_cell_height": 511.796875
   },
   "outputs": [
    {
     "output_type": "execute_result",
     "execution_count": 25,
     "data": {
      "application/vnd.deepnote.dataframe.v3+json": {
       "column_count": 2,
       "row_count": 8,
       "columns": [
        {
         "name": "indeks_pendidikan",
         "dtype": "float64",
         "stats": {
          "unique_count": 8,
          "nan_count": 0,
          "min": "6.5610332943531375",
          "max": "76.89",
          "histogram": [
           {
            "bin_start": 6.5610332943531375,
            "bin_end": 13.593929964917823,
            "count": 1
           },
           {
            "bin_start": 13.593929964917823,
            "bin_end": 20.62682663548251,
            "count": 0
           },
           {
            "bin_start": 20.62682663548251,
            "bin_end": 27.659723306047198,
            "count": 0
           },
           {
            "bin_start": 27.659723306047198,
            "bin_end": 34.69261997661188,
            "count": 0
           },
           {
            "bin_start": 34.69261997661188,
            "bin_end": 41.72551664717657,
            "count": 0
           },
           {
            "bin_start": 41.72551664717657,
            "bin_end": 48.75841331774126,
            "count": 0
           },
           {
            "bin_start": 48.75841331774126,
            "bin_end": 55.79130998830594,
            "count": 1
           },
           {
            "bin_start": 55.79130998830594,
            "bin_end": 62.82420665887063,
            "count": 3
           },
           {
            "bin_start": 62.82420665887063,
            "bin_end": 69.85710332943532,
            "count": 2
           },
           {
            "bin_start": 69.85710332943532,
            "bin_end": 76.89,
            "count": 1
           }
          ]
         }
        },
        {
         "name": "Tahun",
         "dtype": "float64",
         "stats": {
          "unique_count": 5,
          "nan_count": 0,
          "min": "0.504524979109513",
          "max": "2021.0",
          "histogram": [
           {
            "bin_start": 0.504524979109513,
            "bin_end": 202.55407248119857,
            "count": 2
           },
           {
            "bin_start": 202.55407248119857,
            "bin_end": 404.6036199832877,
            "count": 0
           },
           {
            "bin_start": 404.6036199832877,
            "bin_end": 606.6531674853767,
            "count": 0
           },
           {
            "bin_start": 606.6531674853767,
            "bin_end": 808.7027149874658,
            "count": 0
           },
           {
            "bin_start": 808.7027149874658,
            "bin_end": 1010.7522624895549,
            "count": 0
           },
           {
            "bin_start": 1010.7522624895549,
            "bin_end": 1212.8018099916437,
            "count": 0
           },
           {
            "bin_start": 1212.8018099916437,
            "bin_end": 1414.8513574937328,
            "count": 0
           },
           {
            "bin_start": 1414.8513574937328,
            "bin_end": 1616.900904995822,
            "count": 0
           },
           {
            "bin_start": 1616.900904995822,
            "bin_end": 1818.950452497911,
            "count": 0
           },
           {
            "bin_start": 1818.950452497911,
            "bin_end": 2021,
            "count": 6
           }
          ]
         }
        },
        {
         "name": "_deepnote_index_column",
         "dtype": "object"
        }
       ],
       "rows": [
        {
         "indeks_pendidikan": 56,
         "Tahun": 56,
         "_deepnote_index_column": "count"
        },
        {
         "indeks_pendidikan": 64.20196428571428,
         "Tahun": 2020.5,
         "_deepnote_index_column": "mean"
        },
        {
         "indeks_pendidikan": 6.5610332943531375,
         "Tahun": 0.504524979109513,
         "_deepnote_index_column": "std"
        },
        {
         "indeks_pendidikan": 55.03,
         "Tahun": 2020,
         "_deepnote_index_column": "min"
        },
        {
         "indeks_pendidikan": 59.015,
         "Tahun": 2020,
         "_deepnote_index_column": "25%"
        },
        {
         "indeks_pendidikan": 62.805,
         "Tahun": 2020.5,
         "_deepnote_index_column": "50%"
        },
        {
         "indeks_pendidikan": 69.185,
         "Tahun": 2021,
         "_deepnote_index_column": "75%"
        },
        {
         "indeks_pendidikan": 76.89,
         "Tahun": 2021,
         "_deepnote_index_column": "max"
        }
       ]
      },
      "text/plain": "       indeks_pendidikan        Tahun\ncount          56.000000    56.000000\nmean           64.201964  2020.500000\nstd             6.561033     0.504525\nmin            55.030000  2020.000000\n25%            59.015000  2020.000000\n50%            62.805000  2020.500000\n75%            69.185000  2021.000000\nmax            76.890000  2021.000000",
      "text/html": "<div>\n<style scoped>\n    .dataframe tbody tr th:only-of-type {\n        vertical-align: middle;\n    }\n\n    .dataframe tbody tr th {\n        vertical-align: top;\n    }\n\n    .dataframe thead th {\n        text-align: right;\n    }\n</style>\n<table border=\"1\" class=\"dataframe\">\n  <thead>\n    <tr style=\"text-align: right;\">\n      <th></th>\n      <th>indeks_pendidikan</th>\n      <th>Tahun</th>\n    </tr>\n  </thead>\n  <tbody>\n    <tr>\n      <th>count</th>\n      <td>56.000000</td>\n      <td>56.000000</td>\n    </tr>\n    <tr>\n      <th>mean</th>\n      <td>64.201964</td>\n      <td>2020.500000</td>\n    </tr>\n    <tr>\n      <th>std</th>\n      <td>6.561033</td>\n      <td>0.504525</td>\n    </tr>\n    <tr>\n      <th>min</th>\n      <td>55.030000</td>\n      <td>2020.000000</td>\n    </tr>\n    <tr>\n      <th>25%</th>\n      <td>59.015000</td>\n      <td>2020.000000</td>\n    </tr>\n    <tr>\n      <th>50%</th>\n      <td>62.805000</td>\n      <td>2020.500000</td>\n    </tr>\n    <tr>\n      <th>75%</th>\n      <td>69.185000</td>\n      <td>2021.000000</td>\n    </tr>\n    <tr>\n      <th>max</th>\n      <td>76.890000</td>\n      <td>2021.000000</td>\n    </tr>\n  </tbody>\n</table>\n</div>"
     },
     "metadata": {}
    }
   ],
   "execution_count": null
  },
  {
   "cell_type": "markdown",
   "source": "### Kepadatan Penduduk",
   "metadata": {
    "cell_id": "8cc331e4969d439eb0287bef8defe346",
    "tags": [],
    "deepnote_cell_type": "markdown",
    "deepnote_cell_height": 62
   }
  },
  {
   "cell_type": "code",
   "source": "kepadatan_jabar.head()",
   "metadata": {
    "cell_id": "a92b210f3b8a42a280a7a4291232f496",
    "tags": [],
    "is_code_hidden": true,
    "deepnote_to_be_reexecuted": false,
    "source_hash": "41e20f9",
    "execution_start": 1661038181797,
    "execution_millis": 63,
    "deepnote_cell_type": "code",
    "deepnote_cell_height": 405.59375
   },
   "outputs": [
    {
     "output_type": "execute_result",
     "execution_count": 26,
     "data": {
      "application/vnd.deepnote.dataframe.v3+json": {
       "column_count": 8,
       "row_count": 5,
       "columns": [
        {
         "name": "id",
         "dtype": "int64",
         "stats": {
          "unique_count": 5,
          "nan_count": 0,
          "min": "1",
          "max": "5",
          "histogram": [
           {
            "bin_start": 1,
            "bin_end": 1.4,
            "count": 1
           },
           {
            "bin_start": 1.4,
            "bin_end": 1.8,
            "count": 0
           },
           {
            "bin_start": 1.8,
            "bin_end": 2.2,
            "count": 1
           },
           {
            "bin_start": 2.2,
            "bin_end": 2.6,
            "count": 0
           },
           {
            "bin_start": 2.6,
            "bin_end": 3,
            "count": 0
           },
           {
            "bin_start": 3,
            "bin_end": 3.4000000000000004,
            "count": 1
           },
           {
            "bin_start": 3.4000000000000004,
            "bin_end": 3.8000000000000003,
            "count": 0
           },
           {
            "bin_start": 3.8000000000000003,
            "bin_end": 4.2,
            "count": 1
           },
           {
            "bin_start": 4.2,
            "bin_end": 4.6,
            "count": 0
           },
           {
            "bin_start": 4.6,
            "bin_end": 5,
            "count": 1
           }
          ]
         }
        },
        {
         "name": "kode_provinsi",
         "dtype": "int64",
         "stats": {
          "unique_count": 1,
          "nan_count": 0,
          "min": "32",
          "max": "32",
          "histogram": [
           {
            "bin_start": 31.5,
            "bin_end": 31.6,
            "count": 0
           },
           {
            "bin_start": 31.6,
            "bin_end": 31.7,
            "count": 0
           },
           {
            "bin_start": 31.7,
            "bin_end": 31.8,
            "count": 0
           },
           {
            "bin_start": 31.8,
            "bin_end": 31.9,
            "count": 0
           },
           {
            "bin_start": 31.9,
            "bin_end": 32,
            "count": 0
           },
           {
            "bin_start": 32,
            "bin_end": 32.1,
            "count": 5
           },
           {
            "bin_start": 32.1,
            "bin_end": 32.2,
            "count": 0
           },
           {
            "bin_start": 32.2,
            "bin_end": 32.3,
            "count": 0
           },
           {
            "bin_start": 32.3,
            "bin_end": 32.4,
            "count": 0
           },
           {
            "bin_start": 32.4,
            "bin_end": 32.5,
            "count": 0
           }
          ]
         }
        },
        {
         "name": "nama_provinsi",
         "dtype": "object",
         "stats": {
          "unique_count": 1,
          "nan_count": 0,
          "categories": [
           {
            "name": "JAWA BARAT",
            "count": 5
           }
          ]
         }
        },
        {
         "name": "kode_kabupaten_kota",
         "dtype": "int64",
         "stats": {
          "unique_count": 5,
          "nan_count": 0,
          "min": "3201",
          "max": "3205",
          "histogram": [
           {
            "bin_start": 3201,
            "bin_end": 3201.4,
            "count": 1
           },
           {
            "bin_start": 3201.4,
            "bin_end": 3201.8,
            "count": 0
           },
           {
            "bin_start": 3201.8,
            "bin_end": 3202.2,
            "count": 1
           },
           {
            "bin_start": 3202.2,
            "bin_end": 3202.6,
            "count": 0
           },
           {
            "bin_start": 3202.6,
            "bin_end": 3203,
            "count": 0
           },
           {
            "bin_start": 3203,
            "bin_end": 3203.4,
            "count": 1
           },
           {
            "bin_start": 3203.4,
            "bin_end": 3203.8,
            "count": 0
           },
           {
            "bin_start": 3203.8,
            "bin_end": 3204.2,
            "count": 1
           },
           {
            "bin_start": 3204.2,
            "bin_end": 3204.6,
            "count": 0
           },
           {
            "bin_start": 3204.6,
            "bin_end": 3205,
            "count": 1
           }
          ]
         }
        },
        {
         "name": "nama_kabupaten_kota",
         "dtype": "object",
         "stats": {
          "unique_count": 5,
          "nan_count": 0,
          "categories": [
           {
            "name": "KABUPATEN BOGOR",
            "count": 1
           },
           {
            "name": "KABUPATEN SUKABUMI",
            "count": 1
           },
           {
            "name": "3 others",
            "count": 3
           }
          ]
         }
        },
        {
         "name": "kepadatan_penduduk",
         "dtype": "int64",
         "stats": {
          "unique_count": 5,
          "nan_count": 0,
          "min": "584",
          "max": "2013",
          "histogram": [
           {
            "bin_start": 584,
            "bin_end": 726.9,
            "count": 3
           },
           {
            "bin_start": 726.9,
            "bin_end": 869.8,
            "count": 0
           },
           {
            "bin_start": 869.8,
            "bin_end": 1012.7,
            "count": 0
           },
           {
            "bin_start": 1012.7,
            "bin_end": 1155.6,
            "count": 0
           },
           {
            "bin_start": 1155.6,
            "bin_end": 1298.5,
            "count": 1
           },
           {
            "bin_start": 1298.5,
            "bin_end": 1441.4,
            "count": 0
           },
           {
            "bin_start": 1441.4,
            "bin_end": 1584.3000000000002,
            "count": 0
           },
           {
            "bin_start": 1584.3000000000002,
            "bin_end": 1727.2,
            "count": 0
           },
           {
            "bin_start": 1727.2,
            "bin_end": 1870.1000000000001,
            "count": 0
           },
           {
            "bin_start": 1870.1000000000001,
            "bin_end": 2013,
            "count": 1
           }
          ]
         }
        },
        {
         "name": "satuan",
         "dtype": "object",
         "stats": {
          "unique_count": 1,
          "nan_count": 0,
          "categories": [
           {
            "name": "JIWA/KM2",
            "count": 5
           }
          ]
         }
        },
        {
         "name": "tahun",
         "dtype": "int64",
         "stats": {
          "unique_count": 1,
          "nan_count": 0,
          "min": "2013",
          "max": "2013",
          "histogram": [
           {
            "bin_start": 2012.5,
            "bin_end": 2012.6,
            "count": 0
           },
           {
            "bin_start": 2012.6,
            "bin_end": 2012.7,
            "count": 0
           },
           {
            "bin_start": 2012.7,
            "bin_end": 2012.8,
            "count": 0
           },
           {
            "bin_start": 2012.8,
            "bin_end": 2012.9,
            "count": 0
           },
           {
            "bin_start": 2012.9,
            "bin_end": 2013,
            "count": 0
           },
           {
            "bin_start": 2013,
            "bin_end": 2013.1,
            "count": 5
           },
           {
            "bin_start": 2013.1,
            "bin_end": 2013.2,
            "count": 0
           },
           {
            "bin_start": 2013.2,
            "bin_end": 2013.3,
            "count": 0
           },
           {
            "bin_start": 2013.3,
            "bin_end": 2013.4,
            "count": 0
           },
           {
            "bin_start": 2013.4,
            "bin_end": 2013.5,
            "count": 0
           }
          ]
         }
        },
        {
         "name": "_deepnote_index_column",
         "dtype": "int64"
        }
       ],
       "rows": [
        {
         "id": 1,
         "kode_provinsi": 32,
         "nama_provinsi": "JAWA BARAT",
         "kode_kabupaten_kota": 3201,
         "nama_kabupaten_kota": "KABUPATEN BOGOR",
         "kepadatan_penduduk": 1263,
         "satuan": "JIWA/KM2",
         "tahun": 2013,
         "_deepnote_index_column": 0
        },
        {
         "id": 2,
         "kode_provinsi": 32,
         "nama_provinsi": "JAWA BARAT",
         "kode_kabupaten_kota": 3202,
         "nama_kabupaten_kota": "KABUPATEN SUKABUMI",
         "kepadatan_penduduk": 584,
         "satuan": "JIWA/KM2",
         "tahun": 2013,
         "_deepnote_index_column": 1
        },
        {
         "id": 3,
         "kode_provinsi": 32,
         "nama_provinsi": "JAWA BARAT",
         "kode_kabupaten_kota": 3203,
         "nama_kabupaten_kota": "KABUPATEN CIANJUR",
         "kepadatan_penduduk": 611,
         "satuan": "JIWA/KM2",
         "tahun": 2013,
         "_deepnote_index_column": 2
        },
        {
         "id": 4,
         "kode_provinsi": 32,
         "nama_provinsi": "JAWA BARAT",
         "kode_kabupaten_kota": 3204,
         "nama_kabupaten_kota": "KABUPATEN BANDUNG",
         "kepadatan_penduduk": 2013,
         "satuan": "JIWA/KM2",
         "tahun": 2013,
         "_deepnote_index_column": 3
        },
        {
         "id": 5,
         "kode_provinsi": 32,
         "nama_provinsi": "JAWA BARAT",
         "kode_kabupaten_kota": 3205,
         "nama_kabupaten_kota": "KABUPATEN GARUT",
         "kepadatan_penduduk": 700,
         "satuan": "JIWA/KM2",
         "tahun": 2013,
         "_deepnote_index_column": 4
        }
       ]
      },
      "text/plain": "   id  kode_provinsi nama_provinsi  kode_kabupaten_kota nama_kabupaten_kota  \\\n0   1             32    JAWA BARAT                 3201     KABUPATEN BOGOR   \n1   2             32    JAWA BARAT                 3202  KABUPATEN SUKABUMI   \n2   3             32    JAWA BARAT                 3203   KABUPATEN CIANJUR   \n3   4             32    JAWA BARAT                 3204   KABUPATEN BANDUNG   \n4   5             32    JAWA BARAT                 3205     KABUPATEN GARUT   \n\n   kepadatan_penduduk    satuan  tahun  \n0                1263  JIWA/KM2   2013  \n1                 584  JIWA/KM2   2013  \n2                 611  JIWA/KM2   2013  \n3                2013  JIWA/KM2   2013  \n4                 700  JIWA/KM2   2013  ",
      "text/html": "<div>\n<style scoped>\n    .dataframe tbody tr th:only-of-type {\n        vertical-align: middle;\n    }\n\n    .dataframe tbody tr th {\n        vertical-align: top;\n    }\n\n    .dataframe thead th {\n        text-align: right;\n    }\n</style>\n<table border=\"1\" class=\"dataframe\">\n  <thead>\n    <tr style=\"text-align: right;\">\n      <th></th>\n      <th>id</th>\n      <th>kode_provinsi</th>\n      <th>nama_provinsi</th>\n      <th>kode_kabupaten_kota</th>\n      <th>nama_kabupaten_kota</th>\n      <th>kepadatan_penduduk</th>\n      <th>satuan</th>\n      <th>tahun</th>\n    </tr>\n  </thead>\n  <tbody>\n    <tr>\n      <th>0</th>\n      <td>1</td>\n      <td>32</td>\n      <td>JAWA BARAT</td>\n      <td>3201</td>\n      <td>KABUPATEN BOGOR</td>\n      <td>1263</td>\n      <td>JIWA/KM2</td>\n      <td>2013</td>\n    </tr>\n    <tr>\n      <th>1</th>\n      <td>2</td>\n      <td>32</td>\n      <td>JAWA BARAT</td>\n      <td>3202</td>\n      <td>KABUPATEN SUKABUMI</td>\n      <td>584</td>\n      <td>JIWA/KM2</td>\n      <td>2013</td>\n    </tr>\n    <tr>\n      <th>2</th>\n      <td>3</td>\n      <td>32</td>\n      <td>JAWA BARAT</td>\n      <td>3203</td>\n      <td>KABUPATEN CIANJUR</td>\n      <td>611</td>\n      <td>JIWA/KM2</td>\n      <td>2013</td>\n    </tr>\n    <tr>\n      <th>3</th>\n      <td>4</td>\n      <td>32</td>\n      <td>JAWA BARAT</td>\n      <td>3204</td>\n      <td>KABUPATEN BANDUNG</td>\n      <td>2013</td>\n      <td>JIWA/KM2</td>\n      <td>2013</td>\n    </tr>\n    <tr>\n      <th>4</th>\n      <td>5</td>\n      <td>32</td>\n      <td>JAWA BARAT</td>\n      <td>3205</td>\n      <td>KABUPATEN GARUT</td>\n      <td>700</td>\n      <td>JIWA/KM2</td>\n      <td>2013</td>\n    </tr>\n  </tbody>\n</table>\n</div>"
     },
     "metadata": {}
    }
   ],
   "execution_count": null
  },
  {
   "cell_type": "code",
   "source": "kepadatan_jabar.info()",
   "metadata": {
    "cell_id": "0f4353bc1a9646ec92b1723534f5d2e3",
    "tags": [],
    "is_code_hidden": true,
    "deepnote_to_be_reexecuted": false,
    "source_hash": "a4ba0285",
    "execution_start": 1661038181858,
    "execution_millis": 3,
    "deepnote_cell_type": "code",
    "deepnote_cell_height": 385.796875
   },
   "outputs": [
    {
     "name": "stdout",
     "text": "<class 'pandas.core.frame.DataFrame'>\nRangeIndex: 243 entries, 0 to 242\nData columns (total 8 columns):\n #   Column               Non-Null Count  Dtype \n---  ------               --------------  ----- \n 0   id                   243 non-null    int64 \n 1   kode_provinsi        243 non-null    int64 \n 2   nama_provinsi        243 non-null    object\n 3   kode_kabupaten_kota  243 non-null    int64 \n 4   nama_kabupaten_kota  243 non-null    object\n 5   kepadatan_penduduk   243 non-null    int64 \n 6   satuan               243 non-null    object\n 7   tahun                243 non-null    int64 \ndtypes: int64(5), object(3)\nmemory usage: 15.3+ KB\n",
     "output_type": "stream"
    }
   ],
   "execution_count": null
  },
  {
   "cell_type": "code",
   "source": "kepadatan_jabar.shape",
   "metadata": {
    "cell_id": "f57a2d2b6cbf4a61985988503df4c483",
    "tags": [],
    "is_code_hidden": true,
    "deepnote_to_be_reexecuted": false,
    "source_hash": "70af6854",
    "execution_start": 1661038181861,
    "execution_millis": 14,
    "deepnote_cell_type": "code",
    "deepnote_cell_height": 90.796875
   },
   "outputs": [
    {
     "output_type": "execute_result",
     "execution_count": 28,
     "data": {
      "text/plain": "(243, 8)"
     },
     "metadata": {}
    }
   ],
   "execution_count": null
  },
  {
   "cell_type": "code",
   "source": "kepadatan_jabar.describe()",
   "metadata": {
    "cell_id": "0aed0caa740d44059c8ebd30df9532a2",
    "tags": [],
    "is_code_hidden": true,
    "deepnote_to_be_reexecuted": false,
    "source_hash": "b4eb5036",
    "execution_start": 1661038181882,
    "execution_millis": 94,
    "deepnote_cell_type": "code",
    "deepnote_cell_height": 511.796875
   },
   "outputs": [
    {
     "output_type": "execute_result",
     "execution_count": 29,
     "data": {
      "application/vnd.deepnote.dataframe.v3+json": {
       "column_count": 5,
       "row_count": 8,
       "columns": [
        {
         "name": "id",
         "dtype": "float64",
         "stats": {
          "unique_count": 6,
          "nan_count": 0,
          "min": "1.0",
          "max": "243.0",
          "histogram": [
           {
            "bin_start": 1,
            "bin_end": 25.2,
            "count": 1
           },
           {
            "bin_start": 25.2,
            "bin_end": 49.4,
            "count": 0
           },
           {
            "bin_start": 49.4,
            "bin_end": 73.6,
            "count": 2
           },
           {
            "bin_start": 73.6,
            "bin_end": 97.8,
            "count": 0
           },
           {
            "bin_start": 97.8,
            "bin_end": 122,
            "count": 0
           },
           {
            "bin_start": 122,
            "bin_end": 146.2,
            "count": 2
           },
           {
            "bin_start": 146.2,
            "bin_end": 170.4,
            "count": 0
           },
           {
            "bin_start": 170.4,
            "bin_end": 194.6,
            "count": 1
           },
           {
            "bin_start": 194.6,
            "bin_end": 218.79999999999998,
            "count": 0
           },
           {
            "bin_start": 218.79999999999998,
            "bin_end": 243,
            "count": 2
           }
          ]
         }
        },
        {
         "name": "kode_provinsi",
         "dtype": "float64",
         "stats": {
          "unique_count": 3,
          "nan_count": 0,
          "min": "0.0",
          "max": "243.0",
          "histogram": [
           {
            "bin_start": 0,
            "bin_end": 24.3,
            "count": 1
           },
           {
            "bin_start": 24.3,
            "bin_end": 48.6,
            "count": 6
           },
           {
            "bin_start": 48.6,
            "bin_end": 72.9,
            "count": 0
           },
           {
            "bin_start": 72.9,
            "bin_end": 97.2,
            "count": 0
           },
           {
            "bin_start": 97.2,
            "bin_end": 121.5,
            "count": 0
           },
           {
            "bin_start": 121.5,
            "bin_end": 145.8,
            "count": 0
           },
           {
            "bin_start": 145.8,
            "bin_end": 170.1,
            "count": 0
           },
           {
            "bin_start": 170.1,
            "bin_end": 194.4,
            "count": 0
           },
           {
            "bin_start": 194.4,
            "bin_end": 218.70000000000002,
            "count": 0
           },
           {
            "bin_start": 218.70000000000002,
            "bin_end": 243,
            "count": 1
           }
          ]
         }
        },
        {
         "name": "kode_kabupaten_kota",
         "dtype": "float64",
         "stats": {
          "unique_count": 8,
          "nan_count": 0,
          "min": "31.266251972321434",
          "max": "3279.0",
          "histogram": [
           {
            "bin_start": 31.266251972321434,
            "bin_end": 356.0396267750893,
            "count": 2
           },
           {
            "bin_start": 356.0396267750893,
            "bin_end": 680.8130015778572,
            "count": 0
           },
           {
            "bin_start": 680.8130015778572,
            "bin_end": 1005.5863763806251,
            "count": 0
           },
           {
            "bin_start": 1005.5863763806251,
            "bin_end": 1330.359751183393,
            "count": 0
           },
           {
            "bin_start": 1330.359751183393,
            "bin_end": 1655.1331259861608,
            "count": 0
           },
           {
            "bin_start": 1655.1331259861608,
            "bin_end": 1979.9065007889287,
            "count": 0
           },
           {
            "bin_start": 1979.9065007889287,
            "bin_end": 2304.6798755916966,
            "count": 0
           },
           {
            "bin_start": 2304.6798755916966,
            "bin_end": 2629.4532503944642,
            "count": 0
           },
           {
            "bin_start": 2629.4532503944642,
            "bin_end": 2954.226625197232,
            "count": 0
           },
           {
            "bin_start": 2954.226625197232,
            "bin_end": 3279,
            "count": 6
           }
          ]
         }
        },
        {
         "name": "kepadatan_penduduk",
         "dtype": "float64",
         "stats": {
          "unique_count": 8,
          "nan_count": 0,
          "min": "0.0",
          "max": "15076.0",
          "histogram": [
           {
            "bin_start": 0,
            "bin_end": 1507.6,
            "count": 4
           },
           {
            "bin_start": 1507.6,
            "bin_end": 3015.2,
            "count": 0
           },
           {
            "bin_start": 3015.2,
            "bin_end": 4522.799999999999,
            "count": 2
           },
           {
            "bin_start": 4522.799999999999,
            "bin_end": 6030.4,
            "count": 0
           },
           {
            "bin_start": 6030.4,
            "bin_end": 7538,
            "count": 1
           },
           {
            "bin_start": 7538,
            "bin_end": 9045.599999999999,
            "count": 0
           },
           {
            "bin_start": 9045.599999999999,
            "bin_end": 10553.199999999999,
            "count": 0
           },
           {
            "bin_start": 10553.199999999999,
            "bin_end": 12060.8,
            "count": 0
           },
           {
            "bin_start": 12060.8,
            "bin_end": 13568.4,
            "count": 0
           },
           {
            "bin_start": 13568.4,
            "bin_end": 15076,
            "count": 1
           }
          ]
         }
        },
        {
         "name": "tahun",
         "dtype": "float64",
         "stats": {
          "unique_count": 7,
          "nan_count": 0,
          "min": "2.5873180855923104",
          "max": "2021.0",
          "histogram": [
           {
            "bin_start": 2.5873180855923104,
            "bin_end": 204.42858627703305,
            "count": 1
           },
           {
            "bin_start": 204.42858627703305,
            "bin_end": 406.2698544684738,
            "count": 1
           },
           {
            "bin_start": 406.2698544684738,
            "bin_end": 608.1111226599145,
            "count": 0
           },
           {
            "bin_start": 608.1111226599145,
            "bin_end": 809.9523908513553,
            "count": 0
           },
           {
            "bin_start": 809.9523908513553,
            "bin_end": 1011.7936590427961,
            "count": 0
           },
           {
            "bin_start": 1011.7936590427961,
            "bin_end": 1213.6349272342368,
            "count": 0
           },
           {
            "bin_start": 1213.6349272342368,
            "bin_end": 1415.4761954256776,
            "count": 0
           },
           {
            "bin_start": 1415.4761954256776,
            "bin_end": 1617.3174636171184,
            "count": 0
           },
           {
            "bin_start": 1617.3174636171184,
            "bin_end": 1819.1587318085592,
            "count": 0
           },
           {
            "bin_start": 1819.1587318085592,
            "bin_end": 2021,
            "count": 6
           }
          ]
         }
        },
        {
         "name": "_deepnote_index_column",
         "dtype": "object"
        }
       ],
       "rows": [
        {
         "id": 243,
         "kode_provinsi": 243,
         "kode_kabupaten_kota": 243,
         "kepadatan_penduduk": 243,
         "tahun": 243,
         "_deepnote_index_column": "count"
        },
        {
         "id": 122,
         "kode_provinsi": 32,
         "kode_kabupaten_kota": 3231.3333333333335,
         "kepadatan_penduduk": 3649.670781893004,
         "tahun": 2017,
         "_deepnote_index_column": "mean"
        },
        {
         "id": 70.2922470831599,
         "kode_provinsi": 0,
         "kode_kabupaten_kota": 31.266251972321434,
         "kepadatan_penduduk": 4284.119978518473,
         "tahun": 2.5873180855923104,
         "_deepnote_index_column": "std"
        },
        {
         "id": 1,
         "kode_provinsi": 32,
         "kode_kabupaten_kota": 3201,
         "kepadatan_penduduk": 0,
         "tahun": 2013,
         "_deepnote_index_column": "min"
        },
        {
         "id": 61.5,
         "kode_provinsi": 32,
         "kode_kabupaten_kota": 3207,
         "kepadatan_penduduk": 833.5,
         "tahun": 2015,
         "_deepnote_index_column": "25%"
        },
        {
         "id": 122,
         "kode_provinsi": 32,
         "kode_kabupaten_kota": 3214,
         "kepadatan_penduduk": 1311,
         "tahun": 2017,
         "_deepnote_index_column": "50%"
        },
        {
         "id": 182.5,
         "kode_provinsi": 32,
         "kode_kabupaten_kota": 3273,
         "kepadatan_penduduk": 6662,
         "tahun": 2019,
         "_deepnote_index_column": "75%"
        },
        {
         "id": 243,
         "kode_provinsi": 32,
         "kode_kabupaten_kota": 3279,
         "kepadatan_penduduk": 15076,
         "tahun": 2021,
         "_deepnote_index_column": "max"
        }
       ]
      },
      "text/plain": "               id  kode_provinsi  kode_kabupaten_kota  kepadatan_penduduk  \\\ncount  243.000000          243.0           243.000000          243.000000   \nmean   122.000000           32.0          3231.333333         3649.670782   \nstd     70.292247            0.0            31.266252         4284.119979   \nmin      1.000000           32.0          3201.000000            0.000000   \n25%     61.500000           32.0          3207.000000          833.500000   \n50%    122.000000           32.0          3214.000000         1311.000000   \n75%    182.500000           32.0          3273.000000         6662.000000   \nmax    243.000000           32.0          3279.000000        15076.000000   \n\n             tahun  \ncount   243.000000  \nmean   2017.000000  \nstd       2.587318  \nmin    2013.000000  \n25%    2015.000000  \n50%    2017.000000  \n75%    2019.000000  \nmax    2021.000000  ",
      "text/html": "<div>\n<style scoped>\n    .dataframe tbody tr th:only-of-type {\n        vertical-align: middle;\n    }\n\n    .dataframe tbody tr th {\n        vertical-align: top;\n    }\n\n    .dataframe thead th {\n        text-align: right;\n    }\n</style>\n<table border=\"1\" class=\"dataframe\">\n  <thead>\n    <tr style=\"text-align: right;\">\n      <th></th>\n      <th>id</th>\n      <th>kode_provinsi</th>\n      <th>kode_kabupaten_kota</th>\n      <th>kepadatan_penduduk</th>\n      <th>tahun</th>\n    </tr>\n  </thead>\n  <tbody>\n    <tr>\n      <th>count</th>\n      <td>243.000000</td>\n      <td>243.0</td>\n      <td>243.000000</td>\n      <td>243.000000</td>\n      <td>243.000000</td>\n    </tr>\n    <tr>\n      <th>mean</th>\n      <td>122.000000</td>\n      <td>32.0</td>\n      <td>3231.333333</td>\n      <td>3649.670782</td>\n      <td>2017.000000</td>\n    </tr>\n    <tr>\n      <th>std</th>\n      <td>70.292247</td>\n      <td>0.0</td>\n      <td>31.266252</td>\n      <td>4284.119979</td>\n      <td>2.587318</td>\n    </tr>\n    <tr>\n      <th>min</th>\n      <td>1.000000</td>\n      <td>32.0</td>\n      <td>3201.000000</td>\n      <td>0.000000</td>\n      <td>2013.000000</td>\n    </tr>\n    <tr>\n      <th>25%</th>\n      <td>61.500000</td>\n      <td>32.0</td>\n      <td>3207.000000</td>\n      <td>833.500000</td>\n      <td>2015.000000</td>\n    </tr>\n    <tr>\n      <th>50%</th>\n      <td>122.000000</td>\n      <td>32.0</td>\n      <td>3214.000000</td>\n      <td>1311.000000</td>\n      <td>2017.000000</td>\n    </tr>\n    <tr>\n      <th>75%</th>\n      <td>182.500000</td>\n      <td>32.0</td>\n      <td>3273.000000</td>\n      <td>6662.000000</td>\n      <td>2019.000000</td>\n    </tr>\n    <tr>\n      <th>max</th>\n      <td>243.000000</td>\n      <td>32.0</td>\n      <td>3279.000000</td>\n      <td>15076.000000</td>\n      <td>2021.000000</td>\n    </tr>\n  </tbody>\n</table>\n</div>"
     },
     "metadata": {}
    }
   ],
   "execution_count": null
  },
  {
   "cell_type": "markdown",
   "source": "### Pengangguran Terbuka",
   "metadata": {
    "cell_id": "7e6ca1c500534d84a06a955f0ae84826",
    "tags": [],
    "deepnote_cell_type": "markdown",
    "deepnote_cell_height": 62
   }
  },
  {
   "cell_type": "code",
   "source": "pengangguran21.head()",
   "metadata": {
    "cell_id": "657ac0e72a6b4a67bcb1bccaf15e4c83",
    "tags": [],
    "is_code_hidden": true,
    "deepnote_to_be_reexecuted": false,
    "source_hash": "9b208562",
    "execution_start": 1661038181974,
    "execution_millis": 21,
    "deepnote_cell_type": "code",
    "deepnote_cell_height": 388.796875
   },
   "outputs": [
    {
     "output_type": "execute_result",
     "execution_count": 30,
     "data": {
      "application/vnd.deepnote.dataframe.v3+json": {
       "column_count": 3,
       "row_count": 5,
       "columns": [
        {
         "name": "nama_kabupaten_kota",
         "dtype": "object",
         "stats": {
          "unique_count": 5,
          "nan_count": 0,
          "categories": [
           {
            "name": "Kabupaten Bogor",
            "count": 1
           },
           {
            "name": "Kabupaten Sukabumi",
            "count": 1
           },
           {
            "name": "3 others",
            "count": 3
           }
          ]
         }
        },
        {
         "name": "persentase_tingkat_pengangguran_terbuka",
         "dtype": "float64",
         "stats": {
          "unique_count": 5,
          "nan_count": 0,
          "min": "8.32",
          "max": "12.22",
          "histogram": [
           {
            "bin_start": 8.32,
            "bin_end": 8.71,
            "count": 2
           },
           {
            "bin_start": 8.71,
            "bin_end": 9.1,
            "count": 0
           },
           {
            "bin_start": 9.1,
            "bin_end": 9.49,
            "count": 1
           },
           {
            "bin_start": 9.49,
            "bin_end": 9.88,
            "count": 1
           },
           {
            "bin_start": 9.88,
            "bin_end": 10.27,
            "count": 0
           },
           {
            "bin_start": 10.27,
            "bin_end": 10.66,
            "count": 0
           },
           {
            "bin_start": 10.66,
            "bin_end": 11.05,
            "count": 0
           },
           {
            "bin_start": 11.05,
            "bin_end": 11.440000000000001,
            "count": 0
           },
           {
            "bin_start": 11.440000000000001,
            "bin_end": 11.83,
            "count": 0
           },
           {
            "bin_start": 11.83,
            "bin_end": 12.22,
            "count": 1
           }
          ]
         }
        },
        {
         "name": "Tahun",
         "dtype": "int64",
         "stats": {
          "unique_count": 1,
          "nan_count": 0,
          "min": "2021",
          "max": "2021",
          "histogram": [
           {
            "bin_start": 2020.5,
            "bin_end": 2020.6,
            "count": 0
           },
           {
            "bin_start": 2020.6,
            "bin_end": 2020.7,
            "count": 0
           },
           {
            "bin_start": 2020.7,
            "bin_end": 2020.8,
            "count": 0
           },
           {
            "bin_start": 2020.8,
            "bin_end": 2020.9,
            "count": 0
           },
           {
            "bin_start": 2020.9,
            "bin_end": 2021,
            "count": 0
           },
           {
            "bin_start": 2021,
            "bin_end": 2021.1,
            "count": 5
           },
           {
            "bin_start": 2021.1,
            "bin_end": 2021.2,
            "count": 0
           },
           {
            "bin_start": 2021.2,
            "bin_end": 2021.3,
            "count": 0
           },
           {
            "bin_start": 2021.3,
            "bin_end": 2021.4,
            "count": 0
           },
           {
            "bin_start": 2021.4,
            "bin_end": 2021.5,
            "count": 0
           }
          ]
         }
        },
        {
         "name": "_deepnote_index_column",
         "dtype": "int64"
        }
       ],
       "rows": [
        {
         "nama_kabupaten_kota": "Kabupaten Bogor",
         "persentase_tingkat_pengangguran_terbuka": 12.22,
         "Tahun": 2021,
         "_deepnote_index_column": 0
        },
        {
         "nama_kabupaten_kota": "Kabupaten Sukabumi",
         "persentase_tingkat_pengangguran_terbuka": 9.51,
         "Tahun": 2021,
         "_deepnote_index_column": 1
        },
        {
         "nama_kabupaten_kota": "Kabupaten Cianjur",
         "persentase_tingkat_pengangguran_terbuka": 9.32,
         "Tahun": 2021,
         "_deepnote_index_column": 2
        },
        {
         "nama_kabupaten_kota": "Kabupaten Bandung",
         "persentase_tingkat_pengangguran_terbuka": 8.32,
         "Tahun": 2021,
         "_deepnote_index_column": 3
        },
        {
         "nama_kabupaten_kota": "Kabupaten Garut",
         "persentase_tingkat_pengangguran_terbuka": 8.68,
         "Tahun": 2021,
         "_deepnote_index_column": 4
        }
       ]
      },
      "text/plain": "  nama_kabupaten_kota  persentase_tingkat_pengangguran_terbuka  Tahun\n0     Kabupaten Bogor                                    12.22   2021\n1  Kabupaten Sukabumi                                     9.51   2021\n2   Kabupaten Cianjur                                     9.32   2021\n3   Kabupaten Bandung                                     8.32   2021\n4     Kabupaten Garut                                     8.68   2021",
      "text/html": "<div>\n<style scoped>\n    .dataframe tbody tr th:only-of-type {\n        vertical-align: middle;\n    }\n\n    .dataframe tbody tr th {\n        vertical-align: top;\n    }\n\n    .dataframe thead th {\n        text-align: right;\n    }\n</style>\n<table border=\"1\" class=\"dataframe\">\n  <thead>\n    <tr style=\"text-align: right;\">\n      <th></th>\n      <th>nama_kabupaten_kota</th>\n      <th>persentase_tingkat_pengangguran_terbuka</th>\n      <th>Tahun</th>\n    </tr>\n  </thead>\n  <tbody>\n    <tr>\n      <th>0</th>\n      <td>Kabupaten Bogor</td>\n      <td>12.22</td>\n      <td>2021</td>\n    </tr>\n    <tr>\n      <th>1</th>\n      <td>Kabupaten Sukabumi</td>\n      <td>9.51</td>\n      <td>2021</td>\n    </tr>\n    <tr>\n      <th>2</th>\n      <td>Kabupaten Cianjur</td>\n      <td>9.32</td>\n      <td>2021</td>\n    </tr>\n    <tr>\n      <th>3</th>\n      <td>Kabupaten Bandung</td>\n      <td>8.32</td>\n      <td>2021</td>\n    </tr>\n    <tr>\n      <th>4</th>\n      <td>Kabupaten Garut</td>\n      <td>8.68</td>\n      <td>2021</td>\n    </tr>\n  </tbody>\n</table>\n</div>"
     },
     "metadata": {}
    }
   ],
   "execution_count": null
  },
  {
   "cell_type": "code",
   "source": "pengangguran21.info()",
   "metadata": {
    "cell_id": "512bed83345144e0b41a84dc1e83ce0f",
    "tags": [],
    "is_code_hidden": true,
    "deepnote_to_be_reexecuted": false,
    "source_hash": "fc402ea6",
    "execution_start": 1661038181999,
    "execution_millis": 35,
    "deepnote_cell_type": "code",
    "deepnote_cell_height": 285.796875
   },
   "outputs": [
    {
     "name": "stdout",
     "text": "<class 'pandas.core.frame.DataFrame'>\nRangeIndex: 28 entries, 0 to 27\nData columns (total 3 columns):\n #   Column                                   Non-Null Count  Dtype  \n---  ------                                   --------------  -----  \n 0   nama_kabupaten_kota                      28 non-null     object \n 1   persentase_tingkat_pengangguran_terbuka  28 non-null     float64\n 2   Tahun                                    28 non-null     int64  \ndtypes: float64(1), int64(1), object(1)\nmemory usage: 800.0+ bytes\n",
     "output_type": "stream"
    }
   ],
   "execution_count": null
  },
  {
   "cell_type": "code",
   "source": "pengangguran21.shape",
   "metadata": {
    "cell_id": "8f823588ea444fd79eccf54c6eaf76bb",
    "tags": [],
    "is_code_hidden": true,
    "deepnote_to_be_reexecuted": false,
    "source_hash": "2d94d73e",
    "execution_start": 1661038182035,
    "execution_millis": 16,
    "deepnote_cell_type": "code",
    "deepnote_cell_height": 90.796875
   },
   "outputs": [
    {
     "output_type": "execute_result",
     "execution_count": 32,
     "data": {
      "text/plain": "(28, 3)"
     },
     "metadata": {}
    }
   ],
   "execution_count": null
  },
  {
   "cell_type": "code",
   "source": "pengangguran21.describe()",
   "metadata": {
    "cell_id": "5ea7ad9979254b94a997c7a17e7ab845",
    "tags": [],
    "is_code_hidden": true,
    "deepnote_to_be_reexecuted": false,
    "source_hash": "c5542448",
    "execution_start": 1661038182058,
    "execution_millis": 41,
    "deepnote_cell_type": "code",
    "deepnote_cell_height": 511.796875
   },
   "outputs": [
    {
     "output_type": "execute_result",
     "execution_count": 33,
     "data": {
      "application/vnd.deepnote.dataframe.v3+json": {
       "column_count": 2,
       "row_count": 8,
       "columns": [
        {
         "name": "persentase_tingkat_pengangguran_terbuka",
         "dtype": "float64",
         "stats": {
          "unique_count": 8,
          "nan_count": 0,
          "min": "2.3897455920471944",
          "max": "28.0",
          "histogram": [
           {
            "bin_start": 2.3897455920471944,
            "bin_end": 4.950771032842475,
            "count": 2
           },
           {
            "bin_start": 4.950771032842475,
            "bin_end": 7.511796473637755,
            "count": 0
           },
           {
            "bin_start": 7.511796473637755,
            "bin_end": 10.072821914433037,
            "count": 3
           },
           {
            "bin_start": 10.072821914433037,
            "bin_end": 12.633847355228317,
            "count": 1
           },
           {
            "bin_start": 12.633847355228317,
            "bin_end": 15.194872796023597,
            "count": 1
           },
           {
            "bin_start": 15.194872796023597,
            "bin_end": 17.75589823681888,
            "count": 0
           },
           {
            "bin_start": 17.75589823681888,
            "bin_end": 20.31692367761416,
            "count": 0
           },
           {
            "bin_start": 20.31692367761416,
            "bin_end": 22.87794911840944,
            "count": 0
           },
           {
            "bin_start": 22.87794911840944,
            "bin_end": 25.43897455920472,
            "count": 0
           },
           {
            "bin_start": 25.43897455920472,
            "bin_end": 28,
            "count": 1
           }
          ]
         }
        },
        {
         "name": "Tahun",
         "dtype": "float64",
         "stats": {
          "unique_count": 3,
          "nan_count": 0,
          "min": "0.0",
          "max": "2021.0",
          "histogram": [
           {
            "bin_start": 0,
            "bin_end": 202.1,
            "count": 2
           },
           {
            "bin_start": 202.1,
            "bin_end": 404.2,
            "count": 0
           },
           {
            "bin_start": 404.2,
            "bin_end": 606.3,
            "count": 0
           },
           {
            "bin_start": 606.3,
            "bin_end": 808.4,
            "count": 0
           },
           {
            "bin_start": 808.4,
            "bin_end": 1010.5,
            "count": 0
           },
           {
            "bin_start": 1010.5,
            "bin_end": 1212.6,
            "count": 0
           },
           {
            "bin_start": 1212.6,
            "bin_end": 1414.7,
            "count": 0
           },
           {
            "bin_start": 1414.7,
            "bin_end": 1616.8,
            "count": 0
           },
           {
            "bin_start": 1616.8,
            "bin_end": 1818.8999999999999,
            "count": 0
           },
           {
            "bin_start": 1818.8999999999999,
            "bin_end": 2021,
            "count": 6
           }
          ]
         }
        },
        {
         "name": "_deepnote_index_column",
         "dtype": "object"
        }
       ],
       "rows": [
        {
         "persentase_tingkat_pengangguran_terbuka": 28,
         "Tahun": 28,
         "_deepnote_index_column": "count"
        },
        {
         "persentase_tingkat_pengangguran_terbuka": 9.416071428571428,
         "Tahun": 2021,
         "_deepnote_index_column": "mean"
        },
        {
         "persentase_tingkat_pengangguran_terbuka": 2.3897455920471944,
         "Tahun": 0,
         "_deepnote_index_column": "std"
        },
        {
         "persentase_tingkat_pengangguran_terbuka": 3.25,
         "Tahun": 2021,
         "_deepnote_index_column": "min"
        },
        {
         "persentase_tingkat_pengangguran_terbuka": 8.315000000000001,
         "Tahun": 2021,
         "_deepnote_index_column": "25%"
        },
        {
         "persentase_tingkat_pengangguran_terbuka": 9.795,
         "Tahun": 2021,
         "_deepnote_index_column": "50%"
        },
        {
         "persentase_tingkat_pengangguran_terbuka": 11.025,
         "Tahun": 2021,
         "_deepnote_index_column": "75%"
        },
        {
         "persentase_tingkat_pengangguran_terbuka": 13.07,
         "Tahun": 2021,
         "_deepnote_index_column": "max"
        }
       ]
      },
      "text/plain": "       persentase_tingkat_pengangguran_terbuka   Tahun\ncount                                28.000000    28.0\nmean                                  9.416071  2021.0\nstd                                   2.389746     0.0\nmin                                   3.250000  2021.0\n25%                                   8.315000  2021.0\n50%                                   9.795000  2021.0\n75%                                  11.025000  2021.0\nmax                                  13.070000  2021.0",
      "text/html": "<div>\n<style scoped>\n    .dataframe tbody tr th:only-of-type {\n        vertical-align: middle;\n    }\n\n    .dataframe tbody tr th {\n        vertical-align: top;\n    }\n\n    .dataframe thead th {\n        text-align: right;\n    }\n</style>\n<table border=\"1\" class=\"dataframe\">\n  <thead>\n    <tr style=\"text-align: right;\">\n      <th></th>\n      <th>persentase_tingkat_pengangguran_terbuka</th>\n      <th>Tahun</th>\n    </tr>\n  </thead>\n  <tbody>\n    <tr>\n      <th>count</th>\n      <td>28.000000</td>\n      <td>28.0</td>\n    </tr>\n    <tr>\n      <th>mean</th>\n      <td>9.416071</td>\n      <td>2021.0</td>\n    </tr>\n    <tr>\n      <th>std</th>\n      <td>2.389746</td>\n      <td>0.0</td>\n    </tr>\n    <tr>\n      <th>min</th>\n      <td>3.250000</td>\n      <td>2021.0</td>\n    </tr>\n    <tr>\n      <th>25%</th>\n      <td>8.315000</td>\n      <td>2021.0</td>\n    </tr>\n    <tr>\n      <th>50%</th>\n      <td>9.795000</td>\n      <td>2021.0</td>\n    </tr>\n    <tr>\n      <th>75%</th>\n      <td>11.025000</td>\n      <td>2021.0</td>\n    </tr>\n    <tr>\n      <th>max</th>\n      <td>13.070000</td>\n      <td>2021.0</td>\n    </tr>\n  </tbody>\n</table>\n</div>"
     },
     "metadata": {}
    }
   ],
   "execution_count": null
  },
  {
   "cell_type": "code",
   "source": "pengangguran_jabar.head()",
   "metadata": {
    "cell_id": "e2a31c49ab4e4bca9a4803a66f3d3624",
    "tags": [],
    "is_code_hidden": true,
    "deepnote_to_be_reexecuted": false,
    "source_hash": "fcbd7562",
    "execution_start": 1661038182102,
    "execution_millis": 57,
    "deepnote_cell_type": "code",
    "deepnote_cell_height": 405.59375
   },
   "outputs": [
    {
     "output_type": "execute_result",
     "execution_count": 34,
     "data": {
      "application/vnd.deepnote.dataframe.v3+json": {
       "column_count": 8,
       "row_count": 5,
       "columns": [
        {
         "name": "id",
         "dtype": "int64",
         "stats": {
          "unique_count": 5,
          "nan_count": 0,
          "min": "1",
          "max": "5",
          "histogram": [
           {
            "bin_start": 1,
            "bin_end": 1.4,
            "count": 1
           },
           {
            "bin_start": 1.4,
            "bin_end": 1.8,
            "count": 0
           },
           {
            "bin_start": 1.8,
            "bin_end": 2.2,
            "count": 1
           },
           {
            "bin_start": 2.2,
            "bin_end": 2.6,
            "count": 0
           },
           {
            "bin_start": 2.6,
            "bin_end": 3,
            "count": 0
           },
           {
            "bin_start": 3,
            "bin_end": 3.4000000000000004,
            "count": 1
           },
           {
            "bin_start": 3.4000000000000004,
            "bin_end": 3.8000000000000003,
            "count": 0
           },
           {
            "bin_start": 3.8000000000000003,
            "bin_end": 4.2,
            "count": 1
           },
           {
            "bin_start": 4.2,
            "bin_end": 4.6,
            "count": 0
           },
           {
            "bin_start": 4.6,
            "bin_end": 5,
            "count": 1
           }
          ]
         }
        },
        {
         "name": "kode_provinsi",
         "dtype": "int64",
         "stats": {
          "unique_count": 1,
          "nan_count": 0,
          "min": "32",
          "max": "32",
          "histogram": [
           {
            "bin_start": 31.5,
            "bin_end": 31.6,
            "count": 0
           },
           {
            "bin_start": 31.6,
            "bin_end": 31.7,
            "count": 0
           },
           {
            "bin_start": 31.7,
            "bin_end": 31.8,
            "count": 0
           },
           {
            "bin_start": 31.8,
            "bin_end": 31.9,
            "count": 0
           },
           {
            "bin_start": 31.9,
            "bin_end": 32,
            "count": 0
           },
           {
            "bin_start": 32,
            "bin_end": 32.1,
            "count": 5
           },
           {
            "bin_start": 32.1,
            "bin_end": 32.2,
            "count": 0
           },
           {
            "bin_start": 32.2,
            "bin_end": 32.3,
            "count": 0
           },
           {
            "bin_start": 32.3,
            "bin_end": 32.4,
            "count": 0
           },
           {
            "bin_start": 32.4,
            "bin_end": 32.5,
            "count": 0
           }
          ]
         }
        },
        {
         "name": "nama_provinsi",
         "dtype": "object",
         "stats": {
          "unique_count": 1,
          "nan_count": 0,
          "categories": [
           {
            "name": "JAWA BARAT",
            "count": 5
           }
          ]
         }
        },
        {
         "name": "kode_kabupaten_kota",
         "dtype": "int64",
         "stats": {
          "unique_count": 5,
          "nan_count": 0,
          "min": "3201",
          "max": "3205",
          "histogram": [
           {
            "bin_start": 3201,
            "bin_end": 3201.4,
            "count": 1
           },
           {
            "bin_start": 3201.4,
            "bin_end": 3201.8,
            "count": 0
           },
           {
            "bin_start": 3201.8,
            "bin_end": 3202.2,
            "count": 1
           },
           {
            "bin_start": 3202.2,
            "bin_end": 3202.6,
            "count": 0
           },
           {
            "bin_start": 3202.6,
            "bin_end": 3203,
            "count": 0
           },
           {
            "bin_start": 3203,
            "bin_end": 3203.4,
            "count": 1
           },
           {
            "bin_start": 3203.4,
            "bin_end": 3203.8,
            "count": 0
           },
           {
            "bin_start": 3203.8,
            "bin_end": 3204.2,
            "count": 1
           },
           {
            "bin_start": 3204.2,
            "bin_end": 3204.6,
            "count": 0
           },
           {
            "bin_start": 3204.6,
            "bin_end": 3205,
            "count": 1
           }
          ]
         }
        },
        {
         "name": "nama_kabupaten_kota",
         "dtype": "object",
         "stats": {
          "unique_count": 5,
          "nan_count": 0,
          "categories": [
           {
            "name": "KABUPATEN BOGOR",
            "count": 1
           },
           {
            "name": "KABUPATEN SUKABUMI",
            "count": 1
           },
           {
            "name": "3 others",
            "count": 3
           }
          ]
         }
        },
        {
         "name": "persentase_tingkat_pengangguran_terbuka",
         "dtype": "float64",
         "stats": {
          "unique_count": 5,
          "nan_count": 0,
          "min": "7.87",
          "max": "14.18",
          "histogram": [
           {
            "bin_start": 7.87,
            "bin_end": 8.501,
            "count": 2
           },
           {
            "bin_start": 8.501,
            "bin_end": 9.132,
            "count": 0
           },
           {
            "bin_start": 9.132,
            "bin_end": 9.763,
            "count": 0
           },
           {
            "bin_start": 9.763,
            "bin_end": 10.394,
            "count": 2
           },
           {
            "bin_start": 10.394,
            "bin_end": 11.025,
            "count": 0
           },
           {
            "bin_start": 11.025,
            "bin_end": 11.656,
            "count": 0
           },
           {
            "bin_start": 11.656,
            "bin_end": 12.286999999999999,
            "count": 0
           },
           {
            "bin_start": 12.286999999999999,
            "bin_end": 12.918,
            "count": 0
           },
           {
            "bin_start": 12.918,
            "bin_end": 13.549,
            "count": 0
           },
           {
            "bin_start": 13.549,
            "bin_end": 14.18,
            "count": 1
           }
          ]
         }
        },
        {
         "name": "satuan",
         "dtype": "object",
         "stats": {
          "unique_count": 1,
          "nan_count": 0,
          "categories": [
           {
            "name": "PERSEN",
            "count": 5
           }
          ]
         }
        },
        {
         "name": "tahun",
         "dtype": "int64",
         "stats": {
          "unique_count": 1,
          "nan_count": 0,
          "min": "2013",
          "max": "2013",
          "histogram": [
           {
            "bin_start": 2012.5,
            "bin_end": 2012.6,
            "count": 0
           },
           {
            "bin_start": 2012.6,
            "bin_end": 2012.7,
            "count": 0
           },
           {
            "bin_start": 2012.7,
            "bin_end": 2012.8,
            "count": 0
           },
           {
            "bin_start": 2012.8,
            "bin_end": 2012.9,
            "count": 0
           },
           {
            "bin_start": 2012.9,
            "bin_end": 2013,
            "count": 0
           },
           {
            "bin_start": 2013,
            "bin_end": 2013.1,
            "count": 5
           },
           {
            "bin_start": 2013.1,
            "bin_end": 2013.2,
            "count": 0
           },
           {
            "bin_start": 2013.2,
            "bin_end": 2013.3,
            "count": 0
           },
           {
            "bin_start": 2013.3,
            "bin_end": 2013.4,
            "count": 0
           },
           {
            "bin_start": 2013.4,
            "bin_end": 2013.5,
            "count": 0
           }
          ]
         }
        },
        {
         "name": "_deepnote_index_column",
         "dtype": "int64"
        }
       ],
       "rows": [
        {
         "id": 1,
         "kode_provinsi": 32,
         "nama_provinsi": "JAWA BARAT",
         "kode_kabupaten_kota": 3201,
         "nama_kabupaten_kota": "KABUPATEN BOGOR",
         "persentase_tingkat_pengangguran_terbuka": 7.87,
         "satuan": "PERSEN",
         "tahun": 2013,
         "_deepnote_index_column": 0
        },
        {
         "id": 2,
         "kode_provinsi": 32,
         "nama_provinsi": "JAWA BARAT",
         "kode_kabupaten_kota": 3202,
         "nama_kabupaten_kota": "KABUPATEN SUKABUMI",
         "persentase_tingkat_pengangguran_terbuka": 10.38,
         "satuan": "PERSEN",
         "tahun": 2013,
         "_deepnote_index_column": 1
        },
        {
         "id": 3,
         "kode_provinsi": 32,
         "nama_provinsi": "JAWA BARAT",
         "kode_kabupaten_kota": 3203,
         "nama_kabupaten_kota": "KABUPATEN CIANJUR",
         "persentase_tingkat_pengangguran_terbuka": 14.18,
         "satuan": "PERSEN",
         "tahun": 2013,
         "_deepnote_index_column": 2
        },
        {
         "id": 4,
         "kode_provinsi": 32,
         "nama_provinsi": "JAWA BARAT",
         "kode_kabupaten_kota": 3204,
         "nama_kabupaten_kota": "KABUPATEN BANDUNG",
         "persentase_tingkat_pengangguran_terbuka": 10.12,
         "satuan": "PERSEN",
         "tahun": 2013,
         "_deepnote_index_column": 3
        },
        {
         "id": 5,
         "kode_provinsi": 32,
         "nama_provinsi": "JAWA BARAT",
         "kode_kabupaten_kota": 3205,
         "nama_kabupaten_kota": "KABUPATEN GARUT",
         "persentase_tingkat_pengangguran_terbuka": 8.14,
         "satuan": "PERSEN",
         "tahun": 2013,
         "_deepnote_index_column": 4
        }
       ]
      },
      "text/plain": "   id  kode_provinsi nama_provinsi  kode_kabupaten_kota nama_kabupaten_kota  \\\n0   1             32    JAWA BARAT                 3201     KABUPATEN BOGOR   \n1   2             32    JAWA BARAT                 3202  KABUPATEN SUKABUMI   \n2   3             32    JAWA BARAT                 3203   KABUPATEN CIANJUR   \n3   4             32    JAWA BARAT                 3204   KABUPATEN BANDUNG   \n4   5             32    JAWA BARAT                 3205     KABUPATEN GARUT   \n\n   persentase_tingkat_pengangguran_terbuka  satuan  tahun  \n0                                     7.87  PERSEN   2013  \n1                                    10.38  PERSEN   2013  \n2                                    14.18  PERSEN   2013  \n3                                    10.12  PERSEN   2013  \n4                                     8.14  PERSEN   2013  ",
      "text/html": "<div>\n<style scoped>\n    .dataframe tbody tr th:only-of-type {\n        vertical-align: middle;\n    }\n\n    .dataframe tbody tr th {\n        vertical-align: top;\n    }\n\n    .dataframe thead th {\n        text-align: right;\n    }\n</style>\n<table border=\"1\" class=\"dataframe\">\n  <thead>\n    <tr style=\"text-align: right;\">\n      <th></th>\n      <th>id</th>\n      <th>kode_provinsi</th>\n      <th>nama_provinsi</th>\n      <th>kode_kabupaten_kota</th>\n      <th>nama_kabupaten_kota</th>\n      <th>persentase_tingkat_pengangguran_terbuka</th>\n      <th>satuan</th>\n      <th>tahun</th>\n    </tr>\n  </thead>\n  <tbody>\n    <tr>\n      <th>0</th>\n      <td>1</td>\n      <td>32</td>\n      <td>JAWA BARAT</td>\n      <td>3201</td>\n      <td>KABUPATEN BOGOR</td>\n      <td>7.87</td>\n      <td>PERSEN</td>\n      <td>2013</td>\n    </tr>\n    <tr>\n      <th>1</th>\n      <td>2</td>\n      <td>32</td>\n      <td>JAWA BARAT</td>\n      <td>3202</td>\n      <td>KABUPATEN SUKABUMI</td>\n      <td>10.38</td>\n      <td>PERSEN</td>\n      <td>2013</td>\n    </tr>\n    <tr>\n      <th>2</th>\n      <td>3</td>\n      <td>32</td>\n      <td>JAWA BARAT</td>\n      <td>3203</td>\n      <td>KABUPATEN CIANJUR</td>\n      <td>14.18</td>\n      <td>PERSEN</td>\n      <td>2013</td>\n    </tr>\n    <tr>\n      <th>3</th>\n      <td>4</td>\n      <td>32</td>\n      <td>JAWA BARAT</td>\n      <td>3204</td>\n      <td>KABUPATEN BANDUNG</td>\n      <td>10.12</td>\n      <td>PERSEN</td>\n      <td>2013</td>\n    </tr>\n    <tr>\n      <th>4</th>\n      <td>5</td>\n      <td>32</td>\n      <td>JAWA BARAT</td>\n      <td>3205</td>\n      <td>KABUPATEN GARUT</td>\n      <td>8.14</td>\n      <td>PERSEN</td>\n      <td>2013</td>\n    </tr>\n  </tbody>\n</table>\n</div>"
     },
     "metadata": {}
    }
   ],
   "execution_count": null
  },
  {
   "cell_type": "code",
   "source": "pengangguran_jabar.info()",
   "metadata": {
    "cell_id": "f4fa67311d5f4c8fa02f3828426cd6bb",
    "tags": [],
    "is_code_hidden": true,
    "deepnote_to_be_reexecuted": false,
    "source_hash": "504353b",
    "execution_start": 1661038182165,
    "execution_millis": 27,
    "deepnote_cell_type": "code",
    "deepnote_cell_height": 385.796875
   },
   "outputs": [
    {
     "name": "stdout",
     "text": "<class 'pandas.core.frame.DataFrame'>\nRangeIndex: 216 entries, 0 to 215\nData columns (total 8 columns):\n #   Column                                   Non-Null Count  Dtype  \n---  ------                                   --------------  -----  \n 0   id                                       216 non-null    int64  \n 1   kode_provinsi                            216 non-null    int64  \n 2   nama_provinsi                            216 non-null    object \n 3   kode_kabupaten_kota                      216 non-null    int64  \n 4   nama_kabupaten_kota                      216 non-null    object \n 5   persentase_tingkat_pengangguran_terbuka  187 non-null    float64\n 6   satuan                                   216 non-null    object \n 7   tahun                                    216 non-null    int64  \ndtypes: float64(1), int64(4), object(3)\nmemory usage: 13.6+ KB\n",
     "output_type": "stream"
    }
   ],
   "execution_count": null
  },
  {
   "cell_type": "code",
   "source": "pengangguran_jabar.shape",
   "metadata": {
    "cell_id": "c6d2f87afa6d4fc2acf71b2a493ac2d5",
    "tags": [],
    "is_code_hidden": true,
    "deepnote_to_be_reexecuted": false,
    "source_hash": "efc92497",
    "execution_start": 1661038182195,
    "execution_millis": 13,
    "deepnote_cell_type": "code",
    "deepnote_cell_height": 90.796875
   },
   "outputs": [
    {
     "output_type": "execute_result",
     "execution_count": 36,
     "data": {
      "text/plain": "(216, 8)"
     },
     "metadata": {}
    }
   ],
   "execution_count": null
  },
  {
   "cell_type": "code",
   "source": "pengangguran_jabar.describe()",
   "metadata": {
    "cell_id": "a071ef762f5847bfba9b338958b5022d",
    "tags": [],
    "is_code_hidden": true,
    "deepnote_to_be_reexecuted": false,
    "source_hash": "5abe4909",
    "execution_start": 1661038182218,
    "execution_millis": 74,
    "deepnote_cell_type": "code",
    "deepnote_cell_height": 511.796875
   },
   "outputs": [
    {
     "output_type": "execute_result",
     "execution_count": 37,
     "data": {
      "application/vnd.deepnote.dataframe.v3+json": {
       "column_count": 5,
       "row_count": 8,
       "columns": [
        {
         "name": "id",
         "dtype": "float64",
         "stats": {
          "unique_count": 6,
          "nan_count": 0,
          "min": "1.0",
          "max": "216.0",
          "histogram": [
           {
            "bin_start": 1,
            "bin_end": 22.5,
            "count": 1
           },
           {
            "bin_start": 22.5,
            "bin_end": 44,
            "count": 0
           },
           {
            "bin_start": 44,
            "bin_end": 65.5,
            "count": 2
           },
           {
            "bin_start": 65.5,
            "bin_end": 87,
            "count": 0
           },
           {
            "bin_start": 87,
            "bin_end": 108.5,
            "count": 0
           },
           {
            "bin_start": 108.5,
            "bin_end": 130,
            "count": 2
           },
           {
            "bin_start": 130,
            "bin_end": 151.5,
            "count": 0
           },
           {
            "bin_start": 151.5,
            "bin_end": 173,
            "count": 1
           },
           {
            "bin_start": 173,
            "bin_end": 194.5,
            "count": 0
           },
           {
            "bin_start": 194.5,
            "bin_end": 216,
            "count": 2
           }
          ]
         }
        },
        {
         "name": "kode_provinsi",
         "dtype": "float64",
         "stats": {
          "unique_count": 3,
          "nan_count": 0,
          "min": "0.0",
          "max": "216.0",
          "histogram": [
           {
            "bin_start": 0,
            "bin_end": 21.6,
            "count": 1
           },
           {
            "bin_start": 21.6,
            "bin_end": 43.2,
            "count": 6
           },
           {
            "bin_start": 43.2,
            "bin_end": 64.80000000000001,
            "count": 0
           },
           {
            "bin_start": 64.80000000000001,
            "bin_end": 86.4,
            "count": 0
           },
           {
            "bin_start": 86.4,
            "bin_end": 108,
            "count": 0
           },
           {
            "bin_start": 108,
            "bin_end": 129.60000000000002,
            "count": 0
           },
           {
            "bin_start": 129.60000000000002,
            "bin_end": 151.20000000000002,
            "count": 0
           },
           {
            "bin_start": 151.20000000000002,
            "bin_end": 172.8,
            "count": 0
           },
           {
            "bin_start": 172.8,
            "bin_end": 194.4,
            "count": 0
           },
           {
            "bin_start": 194.4,
            "bin_end": 216,
            "count": 1
           }
          ]
         }
        },
        {
         "name": "kode_kabupaten_kota",
         "dtype": "float64",
         "stats": {
          "unique_count": 8,
          "nan_count": 0,
          "min": "31.274330063651764",
          "max": "3279.0",
          "histogram": [
           {
            "bin_start": 31.274330063651764,
            "bin_end": 356.04689705728657,
            "count": 2
           },
           {
            "bin_start": 356.04689705728657,
            "bin_end": 680.8194640509214,
            "count": 0
           },
           {
            "bin_start": 680.8194640509214,
            "bin_end": 1005.5920310445562,
            "count": 0
           },
           {
            "bin_start": 1005.5920310445562,
            "bin_end": 1330.3645980381912,
            "count": 0
           },
           {
            "bin_start": 1330.3645980381912,
            "bin_end": 1655.137165031826,
            "count": 0
           },
           {
            "bin_start": 1655.137165031826,
            "bin_end": 1979.9097320254607,
            "count": 0
           },
           {
            "bin_start": 1979.9097320254607,
            "bin_end": 2304.6822990190954,
            "count": 0
           },
           {
            "bin_start": 2304.6822990190954,
            "bin_end": 2629.4548660127302,
            "count": 0
           },
           {
            "bin_start": 2629.4548660127302,
            "bin_end": 2954.227433006365,
            "count": 0
           },
           {
            "bin_start": 2954.227433006365,
            "bin_end": 3279,
            "count": 6
           }
          ]
         }
        },
        {
         "name": "persentase_tingkat_pengangguran_terbuka",
         "dtype": "float64",
         "stats": {
          "unique_count": 8,
          "nan_count": 0,
          "min": "2.191401595376042",
          "max": "187.0",
          "histogram": [
           {
            "bin_start": 2.191401595376042,
            "bin_end": 20.672261435838436,
            "count": 7
           },
           {
            "bin_start": 20.672261435838436,
            "bin_end": 39.15312127630083,
            "count": 0
           },
           {
            "bin_start": 39.15312127630083,
            "bin_end": 57.63398111676322,
            "count": 0
           },
           {
            "bin_start": 57.63398111676322,
            "bin_end": 76.11484095722561,
            "count": 0
           },
           {
            "bin_start": 76.11484095722561,
            "bin_end": 94.595700797688,
            "count": 0
           },
           {
            "bin_start": 94.595700797688,
            "bin_end": 113.0765606381504,
            "count": 0
           },
           {
            "bin_start": 113.0765606381504,
            "bin_end": 131.5574204786128,
            "count": 0
           },
           {
            "bin_start": 131.5574204786128,
            "bin_end": 150.0382803190752,
            "count": 0
           },
           {
            "bin_start": 150.0382803190752,
            "bin_end": 168.51914015953759,
            "count": 0
           },
           {
            "bin_start": 168.51914015953759,
            "bin_end": 187,
            "count": 1
           }
          ]
         }
        },
        {
         "name": "tahun",
         "dtype": "float64",
         "stats": {
          "unique_count": 7,
          "nan_count": 0,
          "min": "2.296610242215941",
          "max": "2020.0",
          "histogram": [
           {
            "bin_start": 2.296610242215941,
            "bin_end": 204.06694921799433,
            "count": 1
           },
           {
            "bin_start": 204.06694921799433,
            "bin_end": 405.83728819377274,
            "count": 1
           },
           {
            "bin_start": 405.83728819377274,
            "bin_end": 607.6076271695512,
            "count": 0
           },
           {
            "bin_start": 607.6076271695512,
            "bin_end": 809.3779661453295,
            "count": 0
           },
           {
            "bin_start": 809.3779661453295,
            "bin_end": 1011.1483051211079,
            "count": 0
           },
           {
            "bin_start": 1011.1483051211079,
            "bin_end": 1212.9186440968865,
            "count": 0
           },
           {
            "bin_start": 1212.9186440968865,
            "bin_end": 1414.6889830726648,
            "count": 0
           },
           {
            "bin_start": 1414.6889830726648,
            "bin_end": 1616.4593220484433,
            "count": 0
           },
           {
            "bin_start": 1616.4593220484433,
            "bin_end": 1818.2296610242217,
            "count": 0
           },
           {
            "bin_start": 1818.2296610242217,
            "bin_end": 2020,
            "count": 6
           }
          ]
         }
        },
        {
         "name": "_deepnote_index_column",
         "dtype": "object"
        }
       ],
       "rows": [
        {
         "id": 216,
         "kode_provinsi": 216,
         "kode_kabupaten_kota": 216,
         "persentase_tingkat_pengangguran_terbuka": 187,
         "tahun": 216,
         "_deepnote_index_column": "count"
        },
        {
         "id": 108.5,
         "kode_provinsi": 32,
         "kode_kabupaten_kota": 3231.3333333333335,
         "persentase_tingkat_pengangguran_terbuka": 8.532406417112298,
         "tahun": 2016.5,
         "_deepnote_index_column": "mean"
        },
        {
         "id": 62.49799996799898,
         "kode_provinsi": 0,
         "kode_kabupaten_kota": 31.274330063651764,
         "persentase_tingkat_pengangguran_terbuka": 2.191401595376042,
         "tahun": 2.296610242215941,
         "_deepnote_index_column": "std"
        },
        {
         "id": 1,
         "kode_provinsi": 32,
         "kode_kabupaten_kota": 3201,
         "persentase_tingkat_pengangguran_terbuka": 3.34,
         "tahun": 2013,
         "_deepnote_index_column": "min"
        },
        {
         "id": 54.75,
         "kode_provinsi": 32,
         "kode_kabupaten_kota": 3207,
         "persentase_tingkat_pengangguran_terbuka": 7.12,
         "tahun": 2014.75,
         "_deepnote_index_column": "25%"
        },
        {
         "id": 108.5,
         "kode_provinsi": 32,
         "kode_kabupaten_kota": 3214,
         "persentase_tingkat_pengangguran_terbuka": 8.55,
         "tahun": 2016.5,
         "_deepnote_index_column": "50%"
        },
        {
         "id": 162.25,
         "kode_provinsi": 32,
         "kode_kabupaten_kota": 3273,
         "persentase_tingkat_pengangguran_terbuka": 9.805,
         "tahun": 2018.25,
         "_deepnote_index_column": "75%"
        },
        {
         "id": 216,
         "kode_provinsi": 32,
         "kode_kabupaten_kota": 3279,
         "persentase_tingkat_pengangguran_terbuka": 14.88,
         "tahun": 2020,
         "_deepnote_index_column": "max"
        }
       ]
      },
      "text/plain": "            id  kode_provinsi  kode_kabupaten_kota  \\\ncount  216.000          216.0           216.000000   \nmean   108.500           32.0          3231.333333   \nstd     62.498            0.0            31.274330   \nmin      1.000           32.0          3201.000000   \n25%     54.750           32.0          3207.000000   \n50%    108.500           32.0          3214.000000   \n75%    162.250           32.0          3273.000000   \nmax    216.000           32.0          3279.000000   \n\n       persentase_tingkat_pengangguran_terbuka       tahun  \ncount                               187.000000   216.00000  \nmean                                  8.532406  2016.50000  \nstd                                   2.191402     2.29661  \nmin                                   3.340000  2013.00000  \n25%                                   7.120000  2014.75000  \n50%                                   8.550000  2016.50000  \n75%                                   9.805000  2018.25000  \nmax                                  14.880000  2020.00000  ",
      "text/html": "<div>\n<style scoped>\n    .dataframe tbody tr th:only-of-type {\n        vertical-align: middle;\n    }\n\n    .dataframe tbody tr th {\n        vertical-align: top;\n    }\n\n    .dataframe thead th {\n        text-align: right;\n    }\n</style>\n<table border=\"1\" class=\"dataframe\">\n  <thead>\n    <tr style=\"text-align: right;\">\n      <th></th>\n      <th>id</th>\n      <th>kode_provinsi</th>\n      <th>kode_kabupaten_kota</th>\n      <th>persentase_tingkat_pengangguran_terbuka</th>\n      <th>tahun</th>\n    </tr>\n  </thead>\n  <tbody>\n    <tr>\n      <th>count</th>\n      <td>216.000</td>\n      <td>216.0</td>\n      <td>216.000000</td>\n      <td>187.000000</td>\n      <td>216.00000</td>\n    </tr>\n    <tr>\n      <th>mean</th>\n      <td>108.500</td>\n      <td>32.0</td>\n      <td>3231.333333</td>\n      <td>8.532406</td>\n      <td>2016.50000</td>\n    </tr>\n    <tr>\n      <th>std</th>\n      <td>62.498</td>\n      <td>0.0</td>\n      <td>31.274330</td>\n      <td>2.191402</td>\n      <td>2.29661</td>\n    </tr>\n    <tr>\n      <th>min</th>\n      <td>1.000</td>\n      <td>32.0</td>\n      <td>3201.000000</td>\n      <td>3.340000</td>\n      <td>2013.00000</td>\n    </tr>\n    <tr>\n      <th>25%</th>\n      <td>54.750</td>\n      <td>32.0</td>\n      <td>3207.000000</td>\n      <td>7.120000</td>\n      <td>2014.75000</td>\n    </tr>\n    <tr>\n      <th>50%</th>\n      <td>108.500</td>\n      <td>32.0</td>\n      <td>3214.000000</td>\n      <td>8.550000</td>\n      <td>2016.50000</td>\n    </tr>\n    <tr>\n      <th>75%</th>\n      <td>162.250</td>\n      <td>32.0</td>\n      <td>3273.000000</td>\n      <td>9.805000</td>\n      <td>2018.25000</td>\n    </tr>\n    <tr>\n      <th>max</th>\n      <td>216.000</td>\n      <td>32.0</td>\n      <td>3279.000000</td>\n      <td>14.880000</td>\n      <td>2020.00000</td>\n    </tr>\n  </tbody>\n</table>\n</div>"
     },
     "metadata": {}
    }
   ],
   "execution_count": null
  },
  {
   "cell_type": "markdown",
   "source": "### Luas Jawa Barat",
   "metadata": {
    "cell_id": "35cccc41c84340feb2c45914f1c7b3e0",
    "tags": [],
    "deepnote_cell_type": "markdown",
    "deepnote_cell_height": 62
   }
  },
  {
   "cell_type": "code",
   "source": "luas_jabar.head()",
   "metadata": {
    "cell_id": "5c0fafb41e4647889de6e4494b27e509",
    "tags": [],
    "is_code_hidden": true,
    "deepnote_to_be_reexecuted": false,
    "source_hash": "156c3a18",
    "execution_start": 1661038182307,
    "execution_millis": 40,
    "deepnote_cell_type": "code",
    "deepnote_cell_height": 388.796875
   },
   "outputs": [
    {
     "output_type": "execute_result",
     "execution_count": 38,
     "data": {
      "application/vnd.deepnote.dataframe.v3+json": {
       "column_count": 3,
       "row_count": 5,
       "columns": [
        {
         "name": "nama_kabupaten_kota",
         "dtype": "object",
         "stats": {
          "unique_count": 5,
          "nan_count": 0,
          "categories": [
           {
            "name": "Bogor",
            "count": 1
           },
           {
            "name": "Sukabumi",
            "count": 1
           },
           {
            "name": "3 others",
            "count": 3
           }
          ]
         }
        },
        {
         "name": "luas",
         "dtype": "object",
         "stats": {
          "unique_count": 5,
          "nan_count": 0,
          "categories": [
           {
            "name": " 2,710.62 ",
            "count": 1
           },
           {
            "name": " 4,145.70 ",
            "count": 1
           },
           {
            "name": "3 others",
            "count": 3
           }
          ]
         }
        },
        {
         "name": "Tahun",
         "dtype": "int64",
         "stats": {
          "unique_count": 1,
          "nan_count": 0,
          "min": "2020",
          "max": "2020",
          "histogram": [
           {
            "bin_start": 2019.5,
            "bin_end": 2019.6,
            "count": 0
           },
           {
            "bin_start": 2019.6,
            "bin_end": 2019.7,
            "count": 0
           },
           {
            "bin_start": 2019.7,
            "bin_end": 2019.8,
            "count": 0
           },
           {
            "bin_start": 2019.8,
            "bin_end": 2019.9,
            "count": 0
           },
           {
            "bin_start": 2019.9,
            "bin_end": 2020,
            "count": 0
           },
           {
            "bin_start": 2020,
            "bin_end": 2020.1,
            "count": 5
           },
           {
            "bin_start": 2020.1,
            "bin_end": 2020.2,
            "count": 0
           },
           {
            "bin_start": 2020.2,
            "bin_end": 2020.3,
            "count": 0
           },
           {
            "bin_start": 2020.3,
            "bin_end": 2020.4,
            "count": 0
           },
           {
            "bin_start": 2020.4,
            "bin_end": 2020.5,
            "count": 0
           }
          ]
         }
        },
        {
         "name": "_deepnote_index_column",
         "dtype": "int64"
        }
       ],
       "rows": [
        {
         "nama_kabupaten_kota": "Bogor",
         "luas": " 2,710.62 ",
         "Tahun": 2020,
         "_deepnote_index_column": 0
        },
        {
         "nama_kabupaten_kota": "Sukabumi",
         "luas": " 4,145.70 ",
         "Tahun": 2020,
         "_deepnote_index_column": 1
        },
        {
         "nama_kabupaten_kota": "Cianjur",
         "luas": " 3,840.16 ",
         "Tahun": 2020,
         "_deepnote_index_column": 2
        },
        {
         "nama_kabupaten_kota": "Bandung",
         "luas": " 1,767.96 ",
         "Tahun": 2020,
         "_deepnote_index_column": 3
        },
        {
         "nama_kabupaten_kota": "Garut",
         "luas": " 3,074.07 ",
         "Tahun": 2020,
         "_deepnote_index_column": 4
        }
       ]
      },
      "text/plain": "  nama_kabupaten_kota        luas  Tahun\n0               Bogor   2,710.62    2020\n1            Sukabumi   4,145.70    2020\n2             Cianjur   3,840.16    2020\n3             Bandung   1,767.96    2020\n4               Garut   3,074.07    2020",
      "text/html": "<div>\n<style scoped>\n    .dataframe tbody tr th:only-of-type {\n        vertical-align: middle;\n    }\n\n    .dataframe tbody tr th {\n        vertical-align: top;\n    }\n\n    .dataframe thead th {\n        text-align: right;\n    }\n</style>\n<table border=\"1\" class=\"dataframe\">\n  <thead>\n    <tr style=\"text-align: right;\">\n      <th></th>\n      <th>nama_kabupaten_kota</th>\n      <th>luas</th>\n      <th>Tahun</th>\n    </tr>\n  </thead>\n  <tbody>\n    <tr>\n      <th>0</th>\n      <td>Bogor</td>\n      <td>2,710.62</td>\n      <td>2020</td>\n    </tr>\n    <tr>\n      <th>1</th>\n      <td>Sukabumi</td>\n      <td>4,145.70</td>\n      <td>2020</td>\n    </tr>\n    <tr>\n      <th>2</th>\n      <td>Cianjur</td>\n      <td>3,840.16</td>\n      <td>2020</td>\n    </tr>\n    <tr>\n      <th>3</th>\n      <td>Bandung</td>\n      <td>1,767.96</td>\n      <td>2020</td>\n    </tr>\n    <tr>\n      <th>4</th>\n      <td>Garut</td>\n      <td>3,074.07</td>\n      <td>2020</td>\n    </tr>\n  </tbody>\n</table>\n</div>"
     },
     "metadata": {}
    }
   ],
   "execution_count": null
  },
  {
   "cell_type": "code",
   "source": "luas_jabar.info()",
   "metadata": {
    "cell_id": "d114e202617c428688882b7bc9fca54f",
    "tags": [],
    "is_code_hidden": true,
    "deepnote_to_be_reexecuted": false,
    "source_hash": "a057f63f",
    "execution_start": 1661038182351,
    "execution_millis": 30,
    "deepnote_cell_type": "code",
    "deepnote_cell_height": 285.796875
   },
   "outputs": [
    {
     "name": "stdout",
     "text": "<class 'pandas.core.frame.DataFrame'>\nRangeIndex: 56 entries, 0 to 55\nData columns (total 3 columns):\n #   Column               Non-Null Count  Dtype \n---  ------               --------------  ----- \n 0   nama_kabupaten_kota  56 non-null     object\n 1   luas                 56 non-null     object\n 2   Tahun                56 non-null     int64 \ndtypes: int64(1), object(2)\nmemory usage: 1.4+ KB\n",
     "output_type": "stream"
    }
   ],
   "execution_count": null
  },
  {
   "cell_type": "code",
   "source": "luas_jabar.shape",
   "metadata": {
    "cell_id": "3e143f21af50480a9f8af11bb6fddff1",
    "tags": [],
    "is_code_hidden": true,
    "deepnote_to_be_reexecuted": false,
    "source_hash": "79afe4e0",
    "execution_start": 1661038182380,
    "execution_millis": 63,
    "deepnote_cell_type": "code",
    "deepnote_cell_height": 90.796875
   },
   "outputs": [
    {
     "output_type": "execute_result",
     "execution_count": 40,
     "data": {
      "text/plain": "(56, 3)"
     },
     "metadata": {}
    }
   ],
   "execution_count": null
  },
  {
   "cell_type": "code",
   "source": "luas_jabar.describe()",
   "metadata": {
    "cell_id": "b5fc154573c8435f94c5facc28876a49",
    "tags": [],
    "is_code_hidden": true,
    "deepnote_to_be_reexecuted": false,
    "source_hash": "631df747",
    "execution_start": 1661038182442,
    "execution_millis": 2,
    "deepnote_cell_type": "code",
    "deepnote_cell_height": 511.796875
   },
   "outputs": [
    {
     "output_type": "execute_result",
     "execution_count": 41,
     "data": {
      "application/vnd.deepnote.dataframe.v3+json": {
       "column_count": 1,
       "row_count": 8,
       "columns": [
        {
         "name": "Tahun",
         "dtype": "float64",
         "stats": {
          "unique_count": 5,
          "nan_count": 0,
          "min": "0.504524979109513",
          "max": "2021.0",
          "histogram": [
           {
            "bin_start": 0.504524979109513,
            "bin_end": 202.55407248119857,
            "count": 2
           },
           {
            "bin_start": 202.55407248119857,
            "bin_end": 404.6036199832877,
            "count": 0
           },
           {
            "bin_start": 404.6036199832877,
            "bin_end": 606.6531674853767,
            "count": 0
           },
           {
            "bin_start": 606.6531674853767,
            "bin_end": 808.7027149874658,
            "count": 0
           },
           {
            "bin_start": 808.7027149874658,
            "bin_end": 1010.7522624895549,
            "count": 0
           },
           {
            "bin_start": 1010.7522624895549,
            "bin_end": 1212.8018099916437,
            "count": 0
           },
           {
            "bin_start": 1212.8018099916437,
            "bin_end": 1414.8513574937328,
            "count": 0
           },
           {
            "bin_start": 1414.8513574937328,
            "bin_end": 1616.900904995822,
            "count": 0
           },
           {
            "bin_start": 1616.900904995822,
            "bin_end": 1818.950452497911,
            "count": 0
           },
           {
            "bin_start": 1818.950452497911,
            "bin_end": 2021,
            "count": 6
           }
          ]
         }
        },
        {
         "name": "_deepnote_index_column",
         "dtype": "object"
        }
       ],
       "rows": [
        {
         "Tahun": 56,
         "_deepnote_index_column": "count"
        },
        {
         "Tahun": 2020.5,
         "_deepnote_index_column": "mean"
        },
        {
         "Tahun": 0.504524979109513,
         "_deepnote_index_column": "std"
        },
        {
         "Tahun": 2020,
         "_deepnote_index_column": "min"
        },
        {
         "Tahun": 2020,
         "_deepnote_index_column": "25%"
        },
        {
         "Tahun": 2020.5,
         "_deepnote_index_column": "50%"
        },
        {
         "Tahun": 2021,
         "_deepnote_index_column": "75%"
        },
        {
         "Tahun": 2021,
         "_deepnote_index_column": "max"
        }
       ]
      },
      "text/plain": "             Tahun\ncount    56.000000\nmean   2020.500000\nstd       0.504525\nmin    2020.000000\n25%    2020.000000\n50%    2020.500000\n75%    2021.000000\nmax    2021.000000",
      "text/html": "<div>\n<style scoped>\n    .dataframe tbody tr th:only-of-type {\n        vertical-align: middle;\n    }\n\n    .dataframe tbody tr th {\n        vertical-align: top;\n    }\n\n    .dataframe thead th {\n        text-align: right;\n    }\n</style>\n<table border=\"1\" class=\"dataframe\">\n  <thead>\n    <tr style=\"text-align: right;\">\n      <th></th>\n      <th>Tahun</th>\n    </tr>\n  </thead>\n  <tbody>\n    <tr>\n      <th>count</th>\n      <td>56.000000</td>\n    </tr>\n    <tr>\n      <th>mean</th>\n      <td>2020.500000</td>\n    </tr>\n    <tr>\n      <th>std</th>\n      <td>0.504525</td>\n    </tr>\n    <tr>\n      <th>min</th>\n      <td>2020.000000</td>\n    </tr>\n    <tr>\n      <th>25%</th>\n      <td>2020.000000</td>\n    </tr>\n    <tr>\n      <th>50%</th>\n      <td>2020.500000</td>\n    </tr>\n    <tr>\n      <th>75%</th>\n      <td>2021.000000</td>\n    </tr>\n    <tr>\n      <th>max</th>\n      <td>2021.000000</td>\n    </tr>\n  </tbody>\n</table>\n</div>"
     },
     "metadata": {}
    }
   ],
   "execution_count": null
  },
  {
   "cell_type": "markdown",
   "source": "### COVID Jawa Barat",
   "metadata": {
    "cell_id": "980afdc3fe13401ca467beb9bdd96d39",
    "tags": [],
    "deepnote_cell_type": "markdown",
    "deepnote_cell_height": 62
   }
  },
  {
   "cell_type": "code",
   "source": "covidjabar.head()",
   "metadata": {
    "cell_id": "511cf8a788b640a2a267e519e598a290",
    "tags": [],
    "deepnote_to_be_reexecuted": false,
    "source_hash": "d3385dde",
    "execution_start": 1661038182442,
    "execution_millis": 152,
    "deepnote_cell_type": "code",
    "deepnote_cell_height": 406.796875
   },
   "outputs": [
    {
     "output_type": "execute_result",
     "execution_count": 42,
     "data": {
      "application/vnd.deepnote.dataframe.v3+json": {
       "column_count": 15,
       "row_count": 5,
       "columns": [
        {
         "name": "tanggal",
         "dtype": "object",
         "stats": {
          "unique_count": 1,
          "nan_count": 0,
          "categories": [
           {
            "name": "2020-03-01 00:00:00",
            "count": 5
           }
          ]
         }
        },
        {
         "name": "kode_kab_kota",
         "dtype": "int64",
         "stats": {
          "unique_count": 5,
          "nan_count": 0,
          "min": "32",
          "max": "3217",
          "histogram": [
           {
            "bin_start": 32,
            "bin_end": 350.5,
            "count": 1
           },
           {
            "bin_start": 350.5,
            "bin_end": 669,
            "count": 0
           },
           {
            "bin_start": 669,
            "bin_end": 987.5,
            "count": 0
           },
           {
            "bin_start": 987.5,
            "bin_end": 1306,
            "count": 0
           },
           {
            "bin_start": 1306,
            "bin_end": 1624.5,
            "count": 0
           },
           {
            "bin_start": 1624.5,
            "bin_end": 1943,
            "count": 0
           },
           {
            "bin_start": 1943,
            "bin_end": 2261.5,
            "count": 0
           },
           {
            "bin_start": 2261.5,
            "bin_end": 2580,
            "count": 0
           },
           {
            "bin_start": 2580,
            "bin_end": 2898.5,
            "count": 0
           },
           {
            "bin_start": 2898.5,
            "bin_end": 3217,
            "count": 4
           }
          ]
         }
        },
        {
         "name": "nama_kab_kota",
         "dtype": "object",
         "stats": {
          "unique_count": 5,
          "nan_count": 0,
          "categories": [
           {
            "name": "jawa barat",
            "count": 1
           },
           {
            "name": "Kabupaten Bandung",
            "count": 1
           },
           {
            "name": "3 others",
            "count": 3
           }
          ]
         }
        },
        {
         "name": "konfirmasi_total",
         "dtype": "float64",
         "stats": {
          "unique_count": 1,
          "nan_count": 1,
          "min": "0.0",
          "max": "0.0",
          "histogram": [
           {
            "bin_start": -0.5,
            "bin_end": -0.4,
            "count": 0
           },
           {
            "bin_start": -0.4,
            "bin_end": -0.3,
            "count": 0
           },
           {
            "bin_start": -0.3,
            "bin_end": -0.19999999999999996,
            "count": 0
           },
           {
            "bin_start": -0.19999999999999996,
            "bin_end": -0.09999999999999998,
            "count": 0
           },
           {
            "bin_start": -0.09999999999999998,
            "bin_end": 0,
            "count": 0
           },
           {
            "bin_start": 0,
            "bin_end": 0.10000000000000009,
            "count": 4
           },
           {
            "bin_start": 0.10000000000000009,
            "bin_end": 0.20000000000000007,
            "count": 0
           },
           {
            "bin_start": 0.20000000000000007,
            "bin_end": 0.30000000000000004,
            "count": 0
           },
           {
            "bin_start": 0.30000000000000004,
            "bin_end": 0.4,
            "count": 0
           },
           {
            "bin_start": 0.4,
            "bin_end": 0.5,
            "count": 0
           }
          ]
         }
        },
        {
         "name": "konfirmasi_sembuh",
         "dtype": "float64",
         "stats": {
          "unique_count": 1,
          "nan_count": 1,
          "min": "0.0",
          "max": "0.0",
          "histogram": [
           {
            "bin_start": -0.5,
            "bin_end": -0.4,
            "count": 0
           },
           {
            "bin_start": -0.4,
            "bin_end": -0.3,
            "count": 0
           },
           {
            "bin_start": -0.3,
            "bin_end": -0.19999999999999996,
            "count": 0
           },
           {
            "bin_start": -0.19999999999999996,
            "bin_end": -0.09999999999999998,
            "count": 0
           },
           {
            "bin_start": -0.09999999999999998,
            "bin_end": 0,
            "count": 0
           },
           {
            "bin_start": 0,
            "bin_end": 0.10000000000000009,
            "count": 4
           },
           {
            "bin_start": 0.10000000000000009,
            "bin_end": 0.20000000000000007,
            "count": 0
           },
           {
            "bin_start": 0.20000000000000007,
            "bin_end": 0.30000000000000004,
            "count": 0
           },
           {
            "bin_start": 0.30000000000000004,
            "bin_end": 0.4,
            "count": 0
           },
           {
            "bin_start": 0.4,
            "bin_end": 0.5,
            "count": 0
           }
          ]
         }
        },
        {
         "name": "konfirmasi_meninggal",
         "dtype": "float64",
         "stats": {
          "unique_count": 1,
          "nan_count": 1,
          "min": "0.0",
          "max": "0.0",
          "histogram": [
           {
            "bin_start": -0.5,
            "bin_end": -0.4,
            "count": 0
           },
           {
            "bin_start": -0.4,
            "bin_end": -0.3,
            "count": 0
           },
           {
            "bin_start": -0.3,
            "bin_end": -0.19999999999999996,
            "count": 0
           },
           {
            "bin_start": -0.19999999999999996,
            "bin_end": -0.09999999999999998,
            "count": 0
           },
           {
            "bin_start": -0.09999999999999998,
            "bin_end": 0,
            "count": 0
           },
           {
            "bin_start": 0,
            "bin_end": 0.10000000000000009,
            "count": 4
           },
           {
            "bin_start": 0.10000000000000009,
            "bin_end": 0.20000000000000007,
            "count": 0
           },
           {
            "bin_start": 0.20000000000000007,
            "bin_end": 0.30000000000000004,
            "count": 0
           },
           {
            "bin_start": 0.30000000000000004,
            "bin_end": 0.4,
            "count": 0
           },
           {
            "bin_start": 0.4,
            "bin_end": 0.5,
            "count": 0
           }
          ]
         }
        },
        {
         "name": "konfirmasi_aktif",
         "dtype": "float64",
         "stats": {
          "unique_count": 1,
          "nan_count": 1,
          "min": "0.0",
          "max": "0.0",
          "histogram": [
           {
            "bin_start": -0.5,
            "bin_end": -0.4,
            "count": 0
           },
           {
            "bin_start": -0.4,
            "bin_end": -0.3,
            "count": 0
           },
           {
            "bin_start": -0.3,
            "bin_end": -0.19999999999999996,
            "count": 0
           },
           {
            "bin_start": -0.19999999999999996,
            "bin_end": -0.09999999999999998,
            "count": 0
           },
           {
            "bin_start": -0.09999999999999998,
            "bin_end": 0,
            "count": 0
           },
           {
            "bin_start": 0,
            "bin_end": 0.10000000000000009,
            "count": 4
           },
           {
            "bin_start": 0.10000000000000009,
            "bin_end": 0.20000000000000007,
            "count": 0
           },
           {
            "bin_start": 0.20000000000000007,
            "bin_end": 0.30000000000000004,
            "count": 0
           },
           {
            "bin_start": 0.30000000000000004,
            "bin_end": 0.4,
            "count": 0
           },
           {
            "bin_start": 0.4,
            "bin_end": 0.5,
            "count": 0
           }
          ]
         }
        },
        {
         "name": "konfirmasi_total_daily_growth",
         "dtype": "float64",
         "stats": {
          "unique_count": 1,
          "nan_count": 1,
          "min": "0.0",
          "max": "0.0",
          "histogram": [
           {
            "bin_start": -0.5,
            "bin_end": -0.4,
            "count": 0
           },
           {
            "bin_start": -0.4,
            "bin_end": -0.3,
            "count": 0
           },
           {
            "bin_start": -0.3,
            "bin_end": -0.19999999999999996,
            "count": 0
           },
           {
            "bin_start": -0.19999999999999996,
            "bin_end": -0.09999999999999998,
            "count": 0
           },
           {
            "bin_start": -0.09999999999999998,
            "bin_end": 0,
            "count": 0
           },
           {
            "bin_start": 0,
            "bin_end": 0.10000000000000009,
            "count": 4
           },
           {
            "bin_start": 0.10000000000000009,
            "bin_end": 0.20000000000000007,
            "count": 0
           },
           {
            "bin_start": 0.20000000000000007,
            "bin_end": 0.30000000000000004,
            "count": 0
           },
           {
            "bin_start": 0.30000000000000004,
            "bin_end": 0.4,
            "count": 0
           },
           {
            "bin_start": 0.4,
            "bin_end": 0.5,
            "count": 0
           }
          ]
         }
        },
        {
         "name": "konfirmasi_sembuh_daily_growth",
         "dtype": "float64",
         "stats": {
          "unique_count": 1,
          "nan_count": 1,
          "min": "0.0",
          "max": "0.0",
          "histogram": [
           {
            "bin_start": -0.5,
            "bin_end": -0.4,
            "count": 0
           },
           {
            "bin_start": -0.4,
            "bin_end": -0.3,
            "count": 0
           },
           {
            "bin_start": -0.3,
            "bin_end": -0.19999999999999996,
            "count": 0
           },
           {
            "bin_start": -0.19999999999999996,
            "bin_end": -0.09999999999999998,
            "count": 0
           },
           {
            "bin_start": -0.09999999999999998,
            "bin_end": 0,
            "count": 0
           },
           {
            "bin_start": 0,
            "bin_end": 0.10000000000000009,
            "count": 4
           },
           {
            "bin_start": 0.10000000000000009,
            "bin_end": 0.20000000000000007,
            "count": 0
           },
           {
            "bin_start": 0.20000000000000007,
            "bin_end": 0.30000000000000004,
            "count": 0
           },
           {
            "bin_start": 0.30000000000000004,
            "bin_end": 0.4,
            "count": 0
           },
           {
            "bin_start": 0.4,
            "bin_end": 0.5,
            "count": 0
           }
          ]
         }
        },
        {
         "name": "konfirmasi_meninggal_daily_growth",
         "dtype": "float64",
         "stats": {
          "unique_count": 1,
          "nan_count": 1,
          "min": "0.0",
          "max": "0.0",
          "histogram": [
           {
            "bin_start": -0.5,
            "bin_end": -0.4,
            "count": 0
           },
           {
            "bin_start": -0.4,
            "bin_end": -0.3,
            "count": 0
           },
           {
            "bin_start": -0.3,
            "bin_end": -0.19999999999999996,
            "count": 0
           },
           {
            "bin_start": -0.19999999999999996,
            "bin_end": -0.09999999999999998,
            "count": 0
           },
           {
            "bin_start": -0.09999999999999998,
            "bin_end": 0,
            "count": 0
           },
           {
            "bin_start": 0,
            "bin_end": 0.10000000000000009,
            "count": 4
           },
           {
            "bin_start": 0.10000000000000009,
            "bin_end": 0.20000000000000007,
            "count": 0
           },
           {
            "bin_start": 0.20000000000000007,
            "bin_end": 0.30000000000000004,
            "count": 0
           },
           {
            "bin_start": 0.30000000000000004,
            "bin_end": 0.4,
            "count": 0
           },
           {
            "bin_start": 0.4,
            "bin_end": 0.5,
            "count": 0
           }
          ]
         }
        },
        {
         "name": "konfirmasi_aktif_daily_growth",
         "dtype": "float64",
         "stats": {
          "unique_count": 1,
          "nan_count": 1,
          "min": "0.0",
          "max": "0.0",
          "histogram": [
           {
            "bin_start": -0.5,
            "bin_end": -0.4,
            "count": 0
           },
           {
            "bin_start": -0.4,
            "bin_end": -0.3,
            "count": 0
           },
           {
            "bin_start": -0.3,
            "bin_end": -0.19999999999999996,
            "count": 0
           },
           {
            "bin_start": -0.19999999999999996,
            "bin_end": -0.09999999999999998,
            "count": 0
           },
           {
            "bin_start": -0.09999999999999998,
            "bin_end": 0,
            "count": 0
           },
           {
            "bin_start": 0,
            "bin_end": 0.10000000000000009,
            "count": 4
           },
           {
            "bin_start": 0.10000000000000009,
            "bin_end": 0.20000000000000007,
            "count": 0
           },
           {
            "bin_start": 0.20000000000000007,
            "bin_end": 0.30000000000000004,
            "count": 0
           },
           {
            "bin_start": 0.30000000000000004,
            "bin_end": 0.4,
            "count": 0
           },
           {
            "bin_start": 0.4,
            "bin_end": 0.5,
            "count": 0
           }
          ]
         }
        },
        {
         "name": "kota_kab_belum_teridentifikasi",
         "dtype": "float64",
         "stats": {
          "unique_count": 1,
          "nan_count": 4,
          "min": "0.0",
          "max": "0.0",
          "histogram": [
           {
            "bin_start": -0.5,
            "bin_end": -0.4,
            "count": 0
           },
           {
            "bin_start": -0.4,
            "bin_end": -0.3,
            "count": 0
           },
           {
            "bin_start": -0.3,
            "bin_end": -0.19999999999999996,
            "count": 0
           },
           {
            "bin_start": -0.19999999999999996,
            "bin_end": -0.09999999999999998,
            "count": 0
           },
           {
            "bin_start": -0.09999999999999998,
            "bin_end": 0,
            "count": 0
           },
           {
            "bin_start": 0,
            "bin_end": 0.10000000000000009,
            "count": 1
           },
           {
            "bin_start": 0.10000000000000009,
            "bin_end": 0.20000000000000007,
            "count": 0
           },
           {
            "bin_start": 0.20000000000000007,
            "bin_end": 0.30000000000000004,
            "count": 0
           },
           {
            "bin_start": 0.30000000000000004,
            "bin_end": 0.4,
            "count": 0
           },
           {
            "bin_start": 0.4,
            "bin_end": 0.5,
            "count": 0
           }
          ]
         }
        },
        {
         "name": "sembuh_unidentified",
         "dtype": "float64",
         "stats": {
          "unique_count": 1,
          "nan_count": 4,
          "min": "0.0",
          "max": "0.0",
          "histogram": [
           {
            "bin_start": -0.5,
            "bin_end": -0.4,
            "count": 0
           },
           {
            "bin_start": -0.4,
            "bin_end": -0.3,
            "count": 0
           },
           {
            "bin_start": -0.3,
            "bin_end": -0.19999999999999996,
            "count": 0
           },
           {
            "bin_start": -0.19999999999999996,
            "bin_end": -0.09999999999999998,
            "count": 0
           },
           {
            "bin_start": -0.09999999999999998,
            "bin_end": 0,
            "count": 0
           },
           {
            "bin_start": 0,
            "bin_end": 0.10000000000000009,
            "count": 1
           },
           {
            "bin_start": 0.10000000000000009,
            "bin_end": 0.20000000000000007,
            "count": 0
           },
           {
            "bin_start": 0.20000000000000007,
            "bin_end": 0.30000000000000004,
            "count": 0
           },
           {
            "bin_start": 0.30000000000000004,
            "bin_end": 0.4,
            "count": 0
           },
           {
            "bin_start": 0.4,
            "bin_end": 0.5,
            "count": 0
           }
          ]
         }
        },
        {
         "name": "meninggal_unidentified",
         "dtype": "float64",
         "stats": {
          "unique_count": 1,
          "nan_count": 4,
          "min": "0.0",
          "max": "0.0",
          "histogram": [
           {
            "bin_start": -0.5,
            "bin_end": -0.4,
            "count": 0
           },
           {
            "bin_start": -0.4,
            "bin_end": -0.3,
            "count": 0
           },
           {
            "bin_start": -0.3,
            "bin_end": -0.19999999999999996,
            "count": 0
           },
           {
            "bin_start": -0.19999999999999996,
            "bin_end": -0.09999999999999998,
            "count": 0
           },
           {
            "bin_start": -0.09999999999999998,
            "bin_end": 0,
            "count": 0
           },
           {
            "bin_start": 0,
            "bin_end": 0.10000000000000009,
            "count": 1
           },
           {
            "bin_start": 0.10000000000000009,
            "bin_end": 0.20000000000000007,
            "count": 0
           },
           {
            "bin_start": 0.20000000000000007,
            "bin_end": 0.30000000000000004,
            "count": 0
           },
           {
            "bin_start": 0.30000000000000004,
            "bin_end": 0.4,
            "count": 0
           },
           {
            "bin_start": 0.4,
            "bin_end": 0.5,
            "count": 0
           }
          ]
         }
        },
        {
         "name": "id",
         "dtype": "int64",
         "stats": {
          "unique_count": 5,
          "nan_count": 0,
          "min": "1",
          "max": "5",
          "histogram": [
           {
            "bin_start": 1,
            "bin_end": 1.4,
            "count": 1
           },
           {
            "bin_start": 1.4,
            "bin_end": 1.8,
            "count": 0
           },
           {
            "bin_start": 1.8,
            "bin_end": 2.2,
            "count": 1
           },
           {
            "bin_start": 2.2,
            "bin_end": 2.6,
            "count": 0
           },
           {
            "bin_start": 2.6,
            "bin_end": 3,
            "count": 0
           },
           {
            "bin_start": 3,
            "bin_end": 3.4000000000000004,
            "count": 1
           },
           {
            "bin_start": 3.4000000000000004,
            "bin_end": 3.8000000000000003,
            "count": 0
           },
           {
            "bin_start": 3.8000000000000003,
            "bin_end": 4.2,
            "count": 1
           },
           {
            "bin_start": 4.2,
            "bin_end": 4.6,
            "count": 0
           },
           {
            "bin_start": 4.6,
            "bin_end": 5,
            "count": 1
           }
          ]
         }
        },
        {
         "name": "_deepnote_index_column",
         "dtype": "int64"
        }
       ],
       "rows": [
        {
         "tanggal": "2020-03-01 00:00:00",
         "kode_kab_kota": 32,
         "nama_kab_kota": "jawa barat",
         "konfirmasi_total": "nan",
         "konfirmasi_sembuh": "nan",
         "konfirmasi_meninggal": "nan",
         "konfirmasi_aktif": "nan",
         "konfirmasi_total_daily_growth": "nan",
         "konfirmasi_sembuh_daily_growth": "nan",
         "konfirmasi_meninggal_daily_growth": "nan",
         "konfirmasi_aktif_daily_growth": "nan",
         "kota_kab_belum_teridentifikasi": 0,
         "sembuh_unidentified": 0,
         "meninggal_unidentified": 0,
         "id": 1,
         "_deepnote_index_column": 0
        },
        {
         "tanggal": "2020-03-01 00:00:00",
         "kode_kab_kota": 3204,
         "nama_kab_kota": "Kabupaten Bandung",
         "konfirmasi_total": 0,
         "konfirmasi_sembuh": 0,
         "konfirmasi_meninggal": 0,
         "konfirmasi_aktif": 0,
         "konfirmasi_total_daily_growth": 0,
         "konfirmasi_sembuh_daily_growth": 0,
         "konfirmasi_meninggal_daily_growth": 0,
         "konfirmasi_aktif_daily_growth": 0,
         "kota_kab_belum_teridentifikasi": "nan",
         "sembuh_unidentified": "nan",
         "meninggal_unidentified": "nan",
         "id": 2,
         "_deepnote_index_column": 1
        },
        {
         "tanggal": "2020-03-01 00:00:00",
         "kode_kab_kota": 3217,
         "nama_kab_kota": "Kabupaten Bandung Barat",
         "konfirmasi_total": 0,
         "konfirmasi_sembuh": 0,
         "konfirmasi_meninggal": 0,
         "konfirmasi_aktif": 0,
         "konfirmasi_total_daily_growth": 0,
         "konfirmasi_sembuh_daily_growth": 0,
         "konfirmasi_meninggal_daily_growth": 0,
         "konfirmasi_aktif_daily_growth": 0,
         "kota_kab_belum_teridentifikasi": "nan",
         "sembuh_unidentified": "nan",
         "meninggal_unidentified": "nan",
         "id": 3,
         "_deepnote_index_column": 2
        },
        {
         "tanggal": "2020-03-01 00:00:00",
         "kode_kab_kota": 3216,
         "nama_kab_kota": "Kabupaten Bekasi",
         "konfirmasi_total": 0,
         "konfirmasi_sembuh": 0,
         "konfirmasi_meninggal": 0,
         "konfirmasi_aktif": 0,
         "konfirmasi_total_daily_growth": 0,
         "konfirmasi_sembuh_daily_growth": 0,
         "konfirmasi_meninggal_daily_growth": 0,
         "konfirmasi_aktif_daily_growth": 0,
         "kota_kab_belum_teridentifikasi": "nan",
         "sembuh_unidentified": "nan",
         "meninggal_unidentified": "nan",
         "id": 4,
         "_deepnote_index_column": 3
        },
        {
         "tanggal": "2020-03-01 00:00:00",
         "kode_kab_kota": 3201,
         "nama_kab_kota": "Kabupaten Bogor",
         "konfirmasi_total": 0,
         "konfirmasi_sembuh": 0,
         "konfirmasi_meninggal": 0,
         "konfirmasi_aktif": 0,
         "konfirmasi_total_daily_growth": 0,
         "konfirmasi_sembuh_daily_growth": 0,
         "konfirmasi_meninggal_daily_growth": 0,
         "konfirmasi_aktif_daily_growth": 0,
         "kota_kab_belum_teridentifikasi": "nan",
         "sembuh_unidentified": "nan",
         "meninggal_unidentified": "nan",
         "id": 5,
         "_deepnote_index_column": 4
        }
       ]
      },
      "text/plain": "               tanggal  kode_kab_kota            nama_kab_kota  \\\n0  2020-03-01 00:00:00             32               jawa barat   \n1  2020-03-01 00:00:00           3204        Kabupaten Bandung   \n2  2020-03-01 00:00:00           3217  Kabupaten Bandung Barat   \n3  2020-03-01 00:00:00           3216         Kabupaten Bekasi   \n4  2020-03-01 00:00:00           3201          Kabupaten Bogor   \n\n   konfirmasi_total  konfirmasi_sembuh  konfirmasi_meninggal  \\\n0               NaN                NaN                   NaN   \n1               0.0                0.0                   0.0   \n2               0.0                0.0                   0.0   \n3               0.0                0.0                   0.0   \n4               0.0                0.0                   0.0   \n\n   konfirmasi_aktif  konfirmasi_total_daily_growth  \\\n0               NaN                            NaN   \n1               0.0                            0.0   \n2               0.0                            0.0   \n3               0.0                            0.0   \n4               0.0                            0.0   \n\n   konfirmasi_sembuh_daily_growth  konfirmasi_meninggal_daily_growth  \\\n0                             NaN                                NaN   \n1                             0.0                                0.0   \n2                             0.0                                0.0   \n3                             0.0                                0.0   \n4                             0.0                                0.0   \n\n   konfirmasi_aktif_daily_growth  kota_kab_belum_teridentifikasi  \\\n0                            NaN                             0.0   \n1                            0.0                             NaN   \n2                            0.0                             NaN   \n3                            0.0                             NaN   \n4                            0.0                             NaN   \n\n   sembuh_unidentified  meninggal_unidentified  id  \n0                  0.0                     0.0   1  \n1                  NaN                     NaN   2  \n2                  NaN                     NaN   3  \n3                  NaN                     NaN   4  \n4                  NaN                     NaN   5  ",
      "text/html": "<div>\n<style scoped>\n    .dataframe tbody tr th:only-of-type {\n        vertical-align: middle;\n    }\n\n    .dataframe tbody tr th {\n        vertical-align: top;\n    }\n\n    .dataframe thead th {\n        text-align: right;\n    }\n</style>\n<table border=\"1\" class=\"dataframe\">\n  <thead>\n    <tr style=\"text-align: right;\">\n      <th></th>\n      <th>tanggal</th>\n      <th>kode_kab_kota</th>\n      <th>nama_kab_kota</th>\n      <th>konfirmasi_total</th>\n      <th>konfirmasi_sembuh</th>\n      <th>konfirmasi_meninggal</th>\n      <th>konfirmasi_aktif</th>\n      <th>konfirmasi_total_daily_growth</th>\n      <th>konfirmasi_sembuh_daily_growth</th>\n      <th>konfirmasi_meninggal_daily_growth</th>\n      <th>konfirmasi_aktif_daily_growth</th>\n      <th>kota_kab_belum_teridentifikasi</th>\n      <th>sembuh_unidentified</th>\n      <th>meninggal_unidentified</th>\n      <th>id</th>\n    </tr>\n  </thead>\n  <tbody>\n    <tr>\n      <th>0</th>\n      <td>2020-03-01 00:00:00</td>\n      <td>32</td>\n      <td>jawa barat</td>\n      <td>NaN</td>\n      <td>NaN</td>\n      <td>NaN</td>\n      <td>NaN</td>\n      <td>NaN</td>\n      <td>NaN</td>\n      <td>NaN</td>\n      <td>NaN</td>\n      <td>0.0</td>\n      <td>0.0</td>\n      <td>0.0</td>\n      <td>1</td>\n    </tr>\n    <tr>\n      <th>1</th>\n      <td>2020-03-01 00:00:00</td>\n      <td>3204</td>\n      <td>Kabupaten Bandung</td>\n      <td>0.0</td>\n      <td>0.0</td>\n      <td>0.0</td>\n      <td>0.0</td>\n      <td>0.0</td>\n      <td>0.0</td>\n      <td>0.0</td>\n      <td>0.0</td>\n      <td>NaN</td>\n      <td>NaN</td>\n      <td>NaN</td>\n      <td>2</td>\n    </tr>\n    <tr>\n      <th>2</th>\n      <td>2020-03-01 00:00:00</td>\n      <td>3217</td>\n      <td>Kabupaten Bandung Barat</td>\n      <td>0.0</td>\n      <td>0.0</td>\n      <td>0.0</td>\n      <td>0.0</td>\n      <td>0.0</td>\n      <td>0.0</td>\n      <td>0.0</td>\n      <td>0.0</td>\n      <td>NaN</td>\n      <td>NaN</td>\n      <td>NaN</td>\n      <td>3</td>\n    </tr>\n    <tr>\n      <th>3</th>\n      <td>2020-03-01 00:00:00</td>\n      <td>3216</td>\n      <td>Kabupaten Bekasi</td>\n      <td>0.0</td>\n      <td>0.0</td>\n      <td>0.0</td>\n      <td>0.0</td>\n      <td>0.0</td>\n      <td>0.0</td>\n      <td>0.0</td>\n      <td>0.0</td>\n      <td>NaN</td>\n      <td>NaN</td>\n      <td>NaN</td>\n      <td>4</td>\n    </tr>\n    <tr>\n      <th>4</th>\n      <td>2020-03-01 00:00:00</td>\n      <td>3201</td>\n      <td>Kabupaten Bogor</td>\n      <td>0.0</td>\n      <td>0.0</td>\n      <td>0.0</td>\n      <td>0.0</td>\n      <td>0.0</td>\n      <td>0.0</td>\n      <td>0.0</td>\n      <td>0.0</td>\n      <td>NaN</td>\n      <td>NaN</td>\n      <td>NaN</td>\n      <td>5</td>\n    </tr>\n  </tbody>\n</table>\n</div>"
     },
     "metadata": {}
    }
   ],
   "execution_count": null
  },
  {
   "cell_type": "code",
   "source": "covidjabar.info()",
   "metadata": {
    "cell_id": "2bd4bf99492e43e4a7939ed3ec5d157e",
    "tags": [],
    "deepnote_to_be_reexecuted": false,
    "source_hash": "53f42ff",
    "execution_start": 1661038182601,
    "execution_millis": 65,
    "deepnote_cell_type": "code",
    "deepnote_cell_height": 527
   },
   "outputs": [
    {
     "name": "stdout",
     "text": "<class 'pandas.core.frame.DataFrame'>\nRangeIndex: 25228 entries, 0 to 25227\nData columns (total 15 columns):\n #   Column                             Non-Null Count  Dtype  \n---  ------                             --------------  -----  \n 0   tanggal                            25228 non-null  object \n 1   kode_kab_kota                      25228 non-null  int64  \n 2   nama_kab_kota                      25228 non-null  object \n 3   konfirmasi_total                   24327 non-null  float64\n 4   konfirmasi_sembuh                  24327 non-null  float64\n 5   konfirmasi_meninggal               24327 non-null  float64\n 6   konfirmasi_aktif                   24327 non-null  float64\n 7   konfirmasi_total_daily_growth      24327 non-null  float64\n 8   konfirmasi_sembuh_daily_growth     24327 non-null  float64\n 9   konfirmasi_meninggal_daily_growth  24327 non-null  float64\n 10  konfirmasi_aktif_daily_growth      24327 non-null  float64\n 11  kota_kab_belum_teridentifikasi     901 non-null    float64\n 12  sembuh_unidentified                901 non-null    float64\n 13  meninggal_unidentified             901 non-null    float64\n 14  id                                 25228 non-null  int64  \ndtypes: float64(11), int64(2), object(2)\nmemory usage: 2.9+ MB\n",
     "output_type": "stream"
    }
   ],
   "execution_count": null
  },
  {
   "cell_type": "code",
   "source": "covidjabar.shape",
   "metadata": {
    "cell_id": "bb35754c4a134b4c8734c067d2882db3",
    "tags": [],
    "deepnote_to_be_reexecuted": false,
    "source_hash": "1356a09c",
    "execution_start": 1661038182673,
    "execution_millis": 18,
    "deepnote_cell_type": "code",
    "deepnote_cell_height": 92
   },
   "outputs": [
    {
     "output_type": "execute_result",
     "execution_count": 44,
     "data": {
      "text/plain": "(25228, 15)"
     },
     "metadata": {}
    }
   ],
   "execution_count": null
  },
  {
   "cell_type": "code",
   "source": "covidjabar.describe()",
   "metadata": {
    "cell_id": "a41e24a2ef624900af6d6021436a6da5",
    "tags": [],
    "deepnote_to_be_reexecuted": false,
    "source_hash": "ac72a32b",
    "execution_start": 1661038182697,
    "execution_millis": 256,
    "deepnote_cell_type": "code",
    "deepnote_cell_height": 529.796875
   },
   "outputs": [
    {
     "output_type": "execute_result",
     "execution_count": 45,
     "data": {
      "application/vnd.deepnote.dataframe.v3+json": {
       "column_count": 13,
       "row_count": 8,
       "columns": [
        {
         "name": "kode_kab_kota",
         "dtype": "float64",
         "stats": {
          "unique_count": 8,
          "nan_count": 0,
          "min": "32.0",
          "max": "25228.0",
          "histogram": [
           {
            "bin_start": 32,
            "bin_end": 2551.6,
            "count": 2
           },
           {
            "bin_start": 2551.6,
            "bin_end": 5071.2,
            "count": 5
           },
           {
            "bin_start": 5071.2,
            "bin_end": 7590.799999999999,
            "count": 0
           },
           {
            "bin_start": 7590.799999999999,
            "bin_end": 10110.4,
            "count": 0
           },
           {
            "bin_start": 10110.4,
            "bin_end": 12630,
            "count": 0
           },
           {
            "bin_start": 12630,
            "bin_end": 15149.599999999999,
            "count": 0
           },
           {
            "bin_start": 15149.599999999999,
            "bin_end": 17669.2,
            "count": 0
           },
           {
            "bin_start": 17669.2,
            "bin_end": 20188.8,
            "count": 0
           },
           {
            "bin_start": 20188.8,
            "bin_end": 22708.399999999998,
            "count": 0
           },
           {
            "bin_start": 22708.399999999998,
            "bin_end": 25228,
            "count": 1
           }
          ]
         }
        },
        {
         "name": "konfirmasi_total",
         "dtype": "float64",
         "stats": {
          "unique_count": 8,
          "nan_count": 0,
          "min": "0.0",
          "max": "185901.0",
          "histogram": [
           {
            "bin_start": 0,
            "bin_end": 18590.1,
            "count": 5
           },
           {
            "bin_start": 18590.1,
            "bin_end": 37180.2,
            "count": 2
           },
           {
            "bin_start": 37180.2,
            "bin_end": 55770.299999999996,
            "count": 0
           },
           {
            "bin_start": 55770.299999999996,
            "bin_end": 74360.4,
            "count": 0
           },
           {
            "bin_start": 74360.4,
            "bin_end": 92950.5,
            "count": 0
           },
           {
            "bin_start": 92950.5,
            "bin_end": 111540.59999999999,
            "count": 0
           },
           {
            "bin_start": 111540.59999999999,
            "bin_end": 130130.69999999998,
            "count": 0
           },
           {
            "bin_start": 130130.69999999998,
            "bin_end": 148720.8,
            "count": 0
           },
           {
            "bin_start": 148720.8,
            "bin_end": 167310.9,
            "count": 0
           },
           {
            "bin_start": 167310.9,
            "bin_end": 185901,
            "count": 1
           }
          ]
         }
        },
        {
         "name": "konfirmasi_sembuh",
         "dtype": "float64",
         "stats": {
          "unique_count": 8,
          "nan_count": 0,
          "min": "0.0",
          "max": "182682.0",
          "histogram": [
           {
            "bin_start": 0,
            "bin_end": 18268.2,
            "count": 5
           },
           {
            "bin_start": 18268.2,
            "bin_end": 36536.4,
            "count": 2
           },
           {
            "bin_start": 36536.4,
            "bin_end": 54804.600000000006,
            "count": 0
           },
           {
            "bin_start": 54804.600000000006,
            "bin_end": 73072.8,
            "count": 0
           },
           {
            "bin_start": 73072.8,
            "bin_end": 91341,
            "count": 0
           },
           {
            "bin_start": 91341,
            "bin_end": 109609.20000000001,
            "count": 0
           },
           {
            "bin_start": 109609.20000000001,
            "bin_end": 127877.40000000001,
            "count": 0
           },
           {
            "bin_start": 127877.40000000001,
            "bin_end": 146145.6,
            "count": 0
           },
           {
            "bin_start": 146145.6,
            "bin_end": 164413.80000000002,
            "count": 0
           },
           {
            "bin_start": 164413.80000000002,
            "bin_end": 182682,
            "count": 1
           }
          ]
         }
        },
        {
         "name": "konfirmasi_meninggal",
         "dtype": "float64",
         "stats": {
          "unique_count": 8,
          "nan_count": 0,
          "min": "0.0",
          "max": "24327.0",
          "histogram": [
           {
            "bin_start": 0,
            "bin_end": 2432.7,
            "count": 7
           },
           {
            "bin_start": 2432.7,
            "bin_end": 4865.4,
            "count": 0
           },
           {
            "bin_start": 4865.4,
            "bin_end": 7298.099999999999,
            "count": 0
           },
           {
            "bin_start": 7298.099999999999,
            "bin_end": 9730.8,
            "count": 0
           },
           {
            "bin_start": 9730.8,
            "bin_end": 12163.5,
            "count": 0
           },
           {
            "bin_start": 12163.5,
            "bin_end": 14596.199999999999,
            "count": 0
           },
           {
            "bin_start": 14596.199999999999,
            "bin_end": 17028.899999999998,
            "count": 0
           },
           {
            "bin_start": 17028.899999999998,
            "bin_end": 19461.6,
            "count": 0
           },
           {
            "bin_start": 19461.6,
            "bin_end": 21894.3,
            "count": 0
           },
           {
            "bin_start": 21894.3,
            "bin_end": 24327,
            "count": 1
           }
          ]
         }
        },
        {
         "name": "konfirmasi_aktif",
         "dtype": "float64",
         "stats": {
          "unique_count": 8,
          "nan_count": 0,
          "min": "-4.0",
          "max": "45894.0",
          "histogram": [
           {
            "bin_start": -4,
            "bin_end": 4585.8,
            "count": 6
           },
           {
            "bin_start": 4585.8,
            "bin_end": 9175.6,
            "count": 0
           },
           {
            "bin_start": 9175.6,
            "bin_end": 13765.400000000001,
            "count": 0
           },
           {
            "bin_start": 13765.400000000001,
            "bin_end": 18355.2,
            "count": 0
           },
           {
            "bin_start": 18355.2,
            "bin_end": 22945,
            "count": 0
           },
           {
            "bin_start": 22945,
            "bin_end": 27534.800000000003,
            "count": 1
           },
           {
            "bin_start": 27534.800000000003,
            "bin_end": 32124.600000000002,
            "count": 0
           },
           {
            "bin_start": 32124.600000000002,
            "bin_end": 36714.4,
            "count": 0
           },
           {
            "bin_start": 36714.4,
            "bin_end": 41304.200000000004,
            "count": 0
           },
           {
            "bin_start": 41304.200000000004,
            "bin_end": 45894,
            "count": 1
           }
          ]
         }
        },
        {
         "name": "konfirmasi_total_daily_growth",
         "dtype": "float64",
         "stats": {
          "unique_count": 7,
          "nan_count": 0,
          "min": "0.0",
          "max": "24327.0",
          "histogram": [
           {
            "bin_start": 0,
            "bin_end": 2432.7,
            "count": 6
           },
           {
            "bin_start": 2432.7,
            "bin_end": 4865.4,
            "count": 1
           },
           {
            "bin_start": 4865.4,
            "bin_end": 7298.099999999999,
            "count": 0
           },
           {
            "bin_start": 7298.099999999999,
            "bin_end": 9730.8,
            "count": 0
           },
           {
            "bin_start": 9730.8,
            "bin_end": 12163.5,
            "count": 0
           },
           {
            "bin_start": 12163.5,
            "bin_end": 14596.199999999999,
            "count": 0
           },
           {
            "bin_start": 14596.199999999999,
            "bin_end": 17028.899999999998,
            "count": 0
           },
           {
            "bin_start": 17028.899999999998,
            "bin_end": 19461.6,
            "count": 0
           },
           {
            "bin_start": 19461.6,
            "bin_end": 21894.3,
            "count": 0
           },
           {
            "bin_start": 21894.3,
            "bin_end": 24327,
            "count": 1
           }
          ]
         }
        },
        {
         "name": "konfirmasi_sembuh_daily_growth",
         "dtype": "float64",
         "stats": {
          "unique_count": 7,
          "nan_count": 0,
          "min": "0.0",
          "max": "24327.0",
          "histogram": [
           {
            "bin_start": 0,
            "bin_end": 2432.7,
            "count": 6
           },
           {
            "bin_start": 2432.7,
            "bin_end": 4865.4,
            "count": 0
           },
           {
            "bin_start": 4865.4,
            "bin_end": 7298.099999999999,
            "count": 0
           },
           {
            "bin_start": 7298.099999999999,
            "bin_end": 9730.8,
            "count": 0
           },
           {
            "bin_start": 9730.8,
            "bin_end": 12163.5,
            "count": 0
           },
           {
            "bin_start": 12163.5,
            "bin_end": 14596.199999999999,
            "count": 0
           },
           {
            "bin_start": 14596.199999999999,
            "bin_end": 17028.899999999998,
            "count": 1
           },
           {
            "bin_start": 17028.899999999998,
            "bin_end": 19461.6,
            "count": 0
           },
           {
            "bin_start": 19461.6,
            "bin_end": 21894.3,
            "count": 0
           },
           {
            "bin_start": 21894.3,
            "bin_end": 24327,
            "count": 1
           }
          ]
         }
        },
        {
         "name": "konfirmasi_meninggal_daily_growth",
         "dtype": "float64",
         "stats": {
          "unique_count": 5,
          "nan_count": 0,
          "min": "0.0",
          "max": "24327.0",
          "histogram": [
           {
            "bin_start": 0,
            "bin_end": 2432.7,
            "count": 7
           },
           {
            "bin_start": 2432.7,
            "bin_end": 4865.4,
            "count": 0
           },
           {
            "bin_start": 4865.4,
            "bin_end": 7298.099999999999,
            "count": 0
           },
           {
            "bin_start": 7298.099999999999,
            "bin_end": 9730.8,
            "count": 0
           },
           {
            "bin_start": 9730.8,
            "bin_end": 12163.5,
            "count": 0
           },
           {
            "bin_start": 12163.5,
            "bin_end": 14596.199999999999,
            "count": 0
           },
           {
            "bin_start": 14596.199999999999,
            "bin_end": 17028.899999999998,
            "count": 0
           },
           {
            "bin_start": 17028.899999999998,
            "bin_end": 19461.6,
            "count": 0
           },
           {
            "bin_start": 19461.6,
            "bin_end": 21894.3,
            "count": 0
           },
           {
            "bin_start": 21894.3,
            "bin_end": 24327,
            "count": 1
           }
          ]
         }
        },
        {
         "name": "konfirmasi_aktif_daily_growth",
         "dtype": "float64",
         "stats": {
          "unique_count": 8,
          "nan_count": 0,
          "min": "-15644.0",
          "max": "24327.0",
          "histogram": [
           {
            "bin_start": -15644,
            "bin_end": -11646.9,
            "count": 1
           },
           {
            "bin_start": -11646.9,
            "bin_end": -7649.8,
            "count": 0
           },
           {
            "bin_start": -7649.8,
            "bin_end": -3652.7000000000007,
            "count": 0
           },
           {
            "bin_start": -3652.7000000000007,
            "bin_end": 344.39999999999964,
            "count": 5
           },
           {
            "bin_start": 344.39999999999964,
            "bin_end": 4341.5,
            "count": 1
           },
           {
            "bin_start": 4341.5,
            "bin_end": 8338.599999999999,
            "count": 0
           },
           {
            "bin_start": 8338.599999999999,
            "bin_end": 12335.7,
            "count": 0
           },
           {
            "bin_start": 12335.7,
            "bin_end": 16332.8,
            "count": 0
           },
           {
            "bin_start": 16332.8,
            "bin_end": 20329.9,
            "count": 0
           },
           {
            "bin_start": 20329.9,
            "bin_end": 24327,
            "count": 1
           }
          ]
         }
        },
        {
         "name": "kota_kab_belum_teridentifikasi",
         "dtype": "float64",
         "stats": {
          "unique_count": 5,
          "nan_count": 0,
          "min": "0.0",
          "max": "943.0",
          "histogram": [
           {
            "bin_start": 0,
            "bin_end": 94.3,
            "count": 6
           },
           {
            "bin_start": 94.3,
            "bin_end": 188.6,
            "count": 0
           },
           {
            "bin_start": 188.6,
            "bin_end": 282.9,
            "count": 0
           },
           {
            "bin_start": 282.9,
            "bin_end": 377.2,
            "count": 0
           },
           {
            "bin_start": 377.2,
            "bin_end": 471.5,
            "count": 0
           },
           {
            "bin_start": 471.5,
            "bin_end": 565.8,
            "count": 0
           },
           {
            "bin_start": 565.8,
            "bin_end": 660.1,
            "count": 0
           },
           {
            "bin_start": 660.1,
            "bin_end": 754.4,
            "count": 0
           },
           {
            "bin_start": 754.4,
            "bin_end": 848.6999999999999,
            "count": 0
           },
           {
            "bin_start": 848.6999999999999,
            "bin_end": 943,
            "count": 2
           }
          ]
         }
        },
        {
         "name": "sembuh_unidentified",
         "dtype": "float64",
         "stats": {
          "unique_count": 5,
          "nan_count": 0,
          "min": "0.0",
          "max": "901.0",
          "histogram": [
           {
            "bin_start": 0,
            "bin_end": 90.1,
            "count": 6
           },
           {
            "bin_start": 90.1,
            "bin_end": 180.2,
            "count": 0
           },
           {
            "bin_start": 180.2,
            "bin_end": 270.29999999999995,
            "count": 0
           },
           {
            "bin_start": 270.29999999999995,
            "bin_end": 360.4,
            "count": 1
           },
           {
            "bin_start": 360.4,
            "bin_end": 450.5,
            "count": 0
           },
           {
            "bin_start": 450.5,
            "bin_end": 540.5999999999999,
            "count": 0
           },
           {
            "bin_start": 540.5999999999999,
            "bin_end": 630.6999999999999,
            "count": 0
           },
           {
            "bin_start": 630.6999999999999,
            "bin_end": 720.8,
            "count": 0
           },
           {
            "bin_start": 720.8,
            "bin_end": 810.9,
            "count": 0
           },
           {
            "bin_start": 810.9,
            "bin_end": 901,
            "count": 1
           }
          ]
         }
        },
        {
         "name": "meninggal_unidentified",
         "dtype": "float64",
         "stats": {
          "unique_count": 5,
          "nan_count": 0,
          "min": "0.0",
          "max": "901.0",
          "histogram": [
           {
            "bin_start": 0,
            "bin_end": 90.1,
            "count": 7
           },
           {
            "bin_start": 90.1,
            "bin_end": 180.2,
            "count": 0
           },
           {
            "bin_start": 180.2,
            "bin_end": 270.29999999999995,
            "count": 0
           },
           {
            "bin_start": 270.29999999999995,
            "bin_end": 360.4,
            "count": 0
           },
           {
            "bin_start": 360.4,
            "bin_end": 450.5,
            "count": 0
           },
           {
            "bin_start": 450.5,
            "bin_end": 540.5999999999999,
            "count": 0
           },
           {
            "bin_start": 540.5999999999999,
            "bin_end": 630.6999999999999,
            "count": 0
           },
           {
            "bin_start": 630.6999999999999,
            "bin_end": 720.8,
            "count": 0
           },
           {
            "bin_start": 720.8,
            "bin_end": 810.9,
            "count": 0
           },
           {
            "bin_start": 810.9,
            "bin_end": 901,
            "count": 1
           }
          ]
         }
        },
        {
         "name": "id",
         "dtype": "float64",
         "stats": {
          "unique_count": 6,
          "nan_count": 0,
          "min": "1.0",
          "max": "25228.0",
          "histogram": [
           {
            "bin_start": 1,
            "bin_end": 2523.7,
            "count": 1
           },
           {
            "bin_start": 2523.7,
            "bin_end": 5046.4,
            "count": 0
           },
           {
            "bin_start": 5046.4,
            "bin_end": 7569.099999999999,
            "count": 2
           },
           {
            "bin_start": 7569.099999999999,
            "bin_end": 10091.8,
            "count": 0
           },
           {
            "bin_start": 10091.8,
            "bin_end": 12614.5,
            "count": 0
           },
           {
            "bin_start": 12614.5,
            "bin_end": 15137.199999999999,
            "count": 2
           },
           {
            "bin_start": 15137.199999999999,
            "bin_end": 17659.899999999998,
            "count": 0
           },
           {
            "bin_start": 17659.899999999998,
            "bin_end": 20182.6,
            "count": 1
           },
           {
            "bin_start": 20182.6,
            "bin_end": 22705.3,
            "count": 0
           },
           {
            "bin_start": 22705.3,
            "bin_end": 25228,
            "count": 2
           }
          ]
         }
        },
        {
         "name": "_deepnote_index_column",
         "dtype": "object"
        }
       ],
       "rows": [
        {
         "kode_kab_kota": 25228,
         "konfirmasi_total": 24327,
         "konfirmasi_sembuh": 24327,
         "konfirmasi_meninggal": 24327,
         "konfirmasi_aktif": 24327,
         "konfirmasi_total_daily_growth": 24327,
         "konfirmasi_sembuh_daily_growth": 24327,
         "konfirmasi_meninggal_daily_growth": 24327,
         "konfirmasi_aktif_daily_growth": 24327,
         "kota_kab_belum_teridentifikasi": 901,
         "sembuh_unidentified": 901,
         "meninggal_unidentified": 901,
         "id": 25228,
         "_deepnote_index_column": "count"
        },
        {
         "kode_kab_kota": 3117.0714285714284,
         "konfirmasi_total": 16608.62424466642,
         "konfirmasi_sembuh": 15557.824022690837,
         "konfirmasi_meninggal": 270.791630698401,
         "konfirmasi_aktif": 780.0085912771817,
         "konfirmasi_total_daily_growth": 47.35524314547622,
         "konfirmasi_sembuh_daily_growth": 46.00781025198339,
         "konfirmasi_meninggal_daily_growth": 0.6534714514736712,
         "konfirmasi_aktif_daily_growth": 0.6939614420191557,
         "kota_kab_belum_teridentifikasi": 2.420643729189789,
         "sembuh_unidentified": 2.402885682574917,
         "meninggal_unidentified": 0.009988901220865706,
         "id": 12614.5,
         "_deepnote_index_column": "mean"
        },
        {
         "kode_kab_kota": 594.524124027152,
         "konfirmasi_total": 28266.74018250256,
         "konfirmasi_sembuh": 27154.834031143837,
         "konfirmasi_meninggal": 418.83783475832695,
         "konfirmasi_aktif": 2488.2531041116054,
         "konfirmasi_total_daily_growth": 167.0348099138634,
         "konfirmasi_sembuh_daily_growth": 271.8226828890401,
         "konfirmasi_meninggal_daily_growth": 5.879496296913104,
         "konfirmasi_aktif_daily_growth": 259.7053498148919,
         "kota_kab_belum_teridentifikasi": 32.52328355752122,
         "sembuh_unidentified": 16.248649601914796,
         "meninggal_unidentified": 0.11010146779227588,
         "id": 7282.840631694934,
         "_deepnote_index_column": "std"
        },
        {
         "kode_kab_kota": 32,
         "konfirmasi_total": 0,
         "konfirmasi_sembuh": 0,
         "konfirmasi_meninggal": 0,
         "konfirmasi_aktif": -4,
         "konfirmasi_total_daily_growth": 0,
         "konfirmasi_sembuh_daily_growth": 0,
         "konfirmasi_meninggal_daily_growth": 0,
         "konfirmasi_aktif_daily_growth": -15644,
         "kota_kab_belum_teridentifikasi": 0,
         "sembuh_unidentified": 0,
         "meninggal_unidentified": 0,
         "id": 1,
         "_deepnote_index_column": "min"
        },
        {
         "kode_kab_kota": 3206.75,
         "konfirmasi_total": 393.5,
         "konfirmasi_sembuh": 230,
         "konfirmasi_meninggal": 10,
         "konfirmasi_aktif": 15,
         "konfirmasi_total_daily_growth": 0,
         "konfirmasi_sembuh_daily_growth": 0,
         "konfirmasi_meninggal_daily_growth": 0,
         "konfirmasi_aktif_daily_growth": -2,
         "kota_kab_belum_teridentifikasi": 0,
         "sembuh_unidentified": 0,
         "meninggal_unidentified": 0,
         "id": 6307.75,
         "_deepnote_index_column": "25%"
        },
        {
         "kode_kab_kota": 3213.5,
         "konfirmasi_total": 6404,
         "konfirmasi_sembuh": 5881,
         "konfirmasi_meninggal": 115,
         "konfirmasi_aktif": 99,
         "konfirmasi_total_daily_growth": 3,
         "konfirmasi_sembuh_daily_growth": 1,
         "konfirmasi_meninggal_daily_growth": 0,
         "konfirmasi_aktif_daily_growth": 0,
         "kota_kab_belum_teridentifikasi": 0,
         "sembuh_unidentified": 0,
         "meninggal_unidentified": 0,
         "id": 12614.5,
         "_deepnote_index_column": "50%"
        },
        {
         "kode_kab_kota": 3272.25,
         "konfirmasi_total": 16681,
         "konfirmasi_sembuh": 15836,
         "konfirmasi_meninggal": 314,
         "konfirmasi_aktif": 579,
         "konfirmasi_total_daily_growth": 27,
         "konfirmasi_sembuh_daily_growth": 16,
         "konfirmasi_meninggal_daily_growth": 0,
         "konfirmasi_aktif_daily_growth": 6,
         "kota_kab_belum_teridentifikasi": 0,
         "sembuh_unidentified": 0,
         "meninggal_unidentified": 0,
         "id": 18921.25,
         "_deepnote_index_column": "75%"
        },
        {
         "kode_kab_kota": 3279,
         "konfirmasi_total": 185901,
         "konfirmasi_sembuh": 182682,
         "konfirmasi_meninggal": 2256,
         "konfirmasi_aktif": 45894,
         "konfirmasi_total_daily_growth": 3828,
         "konfirmasi_sembuh_daily_growth": 15836,
         "konfirmasi_meninggal_daily_growth": 397,
         "konfirmasi_aktif_daily_growth": 3213,
         "kota_kab_belum_teridentifikasi": 943,
         "sembuh_unidentified": 277,
         "meninggal_unidentified": 2,
         "id": 25228,
         "_deepnote_index_column": "max"
        }
       ]
      },
      "text/plain": "       kode_kab_kota  konfirmasi_total  konfirmasi_sembuh  \\\ncount   25228.000000      24327.000000       24327.000000   \nmean     3117.071429      16608.624245       15557.824023   \nstd       594.524124      28266.740183       27154.834031   \nmin        32.000000          0.000000           0.000000   \n25%      3206.750000        393.500000         230.000000   \n50%      3213.500000       6404.000000        5881.000000   \n75%      3272.250000      16681.000000       15836.000000   \nmax      3279.000000     185901.000000      182682.000000   \n\n       konfirmasi_meninggal  konfirmasi_aktif  konfirmasi_total_daily_growth  \\\ncount          24327.000000      24327.000000                   24327.000000   \nmean             270.791631        780.008591                      47.355243   \nstd              418.837835       2488.253104                     167.034810   \nmin                0.000000         -4.000000                       0.000000   \n25%               10.000000         15.000000                       0.000000   \n50%              115.000000         99.000000                       3.000000   \n75%              314.000000        579.000000                      27.000000   \nmax             2256.000000      45894.000000                    3828.000000   \n\n       konfirmasi_sembuh_daily_growth  konfirmasi_meninggal_daily_growth  \\\ncount                    24327.000000                       24327.000000   \nmean                        46.007810                           0.653471   \nstd                        271.822683                           5.879496   \nmin                          0.000000                           0.000000   \n25%                          0.000000                           0.000000   \n50%                          1.000000                           0.000000   \n75%                         16.000000                           0.000000   \nmax                      15836.000000                         397.000000   \n\n       konfirmasi_aktif_daily_growth  kota_kab_belum_teridentifikasi  \\\ncount                   24327.000000                      901.000000   \nmean                        0.693961                        2.420644   \nstd                       259.705350                       32.523284   \nmin                    -15644.000000                        0.000000   \n25%                        -2.000000                        0.000000   \n50%                         0.000000                        0.000000   \n75%                         6.000000                        0.000000   \nmax                      3213.000000                      943.000000   \n\n       sembuh_unidentified  meninggal_unidentified            id  \ncount           901.000000              901.000000  25228.000000  \nmean              2.402886                0.009989  12614.500000  \nstd              16.248650                0.110101   7282.840632  \nmin               0.000000                0.000000      1.000000  \n25%               0.000000                0.000000   6307.750000  \n50%               0.000000                0.000000  12614.500000  \n75%               0.000000                0.000000  18921.250000  \nmax             277.000000                2.000000  25228.000000  ",
      "text/html": "<div>\n<style scoped>\n    .dataframe tbody tr th:only-of-type {\n        vertical-align: middle;\n    }\n\n    .dataframe tbody tr th {\n        vertical-align: top;\n    }\n\n    .dataframe thead th {\n        text-align: right;\n    }\n</style>\n<table border=\"1\" class=\"dataframe\">\n  <thead>\n    <tr style=\"text-align: right;\">\n      <th></th>\n      <th>kode_kab_kota</th>\n      <th>konfirmasi_total</th>\n      <th>konfirmasi_sembuh</th>\n      <th>konfirmasi_meninggal</th>\n      <th>konfirmasi_aktif</th>\n      <th>konfirmasi_total_daily_growth</th>\n      <th>konfirmasi_sembuh_daily_growth</th>\n      <th>konfirmasi_meninggal_daily_growth</th>\n      <th>konfirmasi_aktif_daily_growth</th>\n      <th>kota_kab_belum_teridentifikasi</th>\n      <th>sembuh_unidentified</th>\n      <th>meninggal_unidentified</th>\n      <th>id</th>\n    </tr>\n  </thead>\n  <tbody>\n    <tr>\n      <th>count</th>\n      <td>25228.000000</td>\n      <td>24327.000000</td>\n      <td>24327.000000</td>\n      <td>24327.000000</td>\n      <td>24327.000000</td>\n      <td>24327.000000</td>\n      <td>24327.000000</td>\n      <td>24327.000000</td>\n      <td>24327.000000</td>\n      <td>901.000000</td>\n      <td>901.000000</td>\n      <td>901.000000</td>\n      <td>25228.000000</td>\n    </tr>\n    <tr>\n      <th>mean</th>\n      <td>3117.071429</td>\n      <td>16608.624245</td>\n      <td>15557.824023</td>\n      <td>270.791631</td>\n      <td>780.008591</td>\n      <td>47.355243</td>\n      <td>46.007810</td>\n      <td>0.653471</td>\n      <td>0.693961</td>\n      <td>2.420644</td>\n      <td>2.402886</td>\n      <td>0.009989</td>\n      <td>12614.500000</td>\n    </tr>\n    <tr>\n      <th>std</th>\n      <td>594.524124</td>\n      <td>28266.740183</td>\n      <td>27154.834031</td>\n      <td>418.837835</td>\n      <td>2488.253104</td>\n      <td>167.034810</td>\n      <td>271.822683</td>\n      <td>5.879496</td>\n      <td>259.705350</td>\n      <td>32.523284</td>\n      <td>16.248650</td>\n      <td>0.110101</td>\n      <td>7282.840632</td>\n    </tr>\n    <tr>\n      <th>min</th>\n      <td>32.000000</td>\n      <td>0.000000</td>\n      <td>0.000000</td>\n      <td>0.000000</td>\n      <td>-4.000000</td>\n      <td>0.000000</td>\n      <td>0.000000</td>\n      <td>0.000000</td>\n      <td>-15644.000000</td>\n      <td>0.000000</td>\n      <td>0.000000</td>\n      <td>0.000000</td>\n      <td>1.000000</td>\n    </tr>\n    <tr>\n      <th>25%</th>\n      <td>3206.750000</td>\n      <td>393.500000</td>\n      <td>230.000000</td>\n      <td>10.000000</td>\n      <td>15.000000</td>\n      <td>0.000000</td>\n      <td>0.000000</td>\n      <td>0.000000</td>\n      <td>-2.000000</td>\n      <td>0.000000</td>\n      <td>0.000000</td>\n      <td>0.000000</td>\n      <td>6307.750000</td>\n    </tr>\n    <tr>\n      <th>50%</th>\n      <td>3213.500000</td>\n      <td>6404.000000</td>\n      <td>5881.000000</td>\n      <td>115.000000</td>\n      <td>99.000000</td>\n      <td>3.000000</td>\n      <td>1.000000</td>\n      <td>0.000000</td>\n      <td>0.000000</td>\n      <td>0.000000</td>\n      <td>0.000000</td>\n      <td>0.000000</td>\n      <td>12614.500000</td>\n    </tr>\n    <tr>\n      <th>75%</th>\n      <td>3272.250000</td>\n      <td>16681.000000</td>\n      <td>15836.000000</td>\n      <td>314.000000</td>\n      <td>579.000000</td>\n      <td>27.000000</td>\n      <td>16.000000</td>\n      <td>0.000000</td>\n      <td>6.000000</td>\n      <td>0.000000</td>\n      <td>0.000000</td>\n      <td>0.000000</td>\n      <td>18921.250000</td>\n    </tr>\n    <tr>\n      <th>max</th>\n      <td>3279.000000</td>\n      <td>185901.000000</td>\n      <td>182682.000000</td>\n      <td>2256.000000</td>\n      <td>45894.000000</td>\n      <td>3828.000000</td>\n      <td>15836.000000</td>\n      <td>397.000000</td>\n      <td>3213.000000</td>\n      <td>943.000000</td>\n      <td>277.000000</td>\n      <td>2.000000</td>\n      <td>25228.000000</td>\n    </tr>\n  </tbody>\n</table>\n</div>"
     },
     "metadata": {}
    }
   ],
   "execution_count": null
  },
  {
   "cell_type": "markdown",
   "source": "### Data Manipulation",
   "metadata": {
    "cell_id": "fb6f51581ec54a0d85385390c36afca3",
    "tags": [],
    "deepnote_cell_type": "markdown",
    "deepnote_cell_height": 62
   }
  },
  {
   "cell_type": "markdown",
   "source": "Replacement Code",
   "metadata": {
    "cell_id": "7299955174814c2c9e66f56965dfd2a6",
    "tags": [],
    "deepnote_cell_type": "markdown",
    "deepnote_cell_height": 52.390625
   }
  },
  {
   "cell_type": "code",
   "source": "kota_replacements = {\n                 'Kabupaten Bogor': 'KABUPATEN BOGOR',\n                 'Kabupaten Sukabumi': 'KABUPATEN SUKABUMI',\n                 'Kabupaten Cianjur': 'KABUPATEN CIANJUR',\n                 'Kabupaten Bandung': 'KABUPATEN BANDUNG',\n                 'Kabupaten Garut': 'KABUPATEN GARUT',\n                 'Kabupaten Tasikmalaya': 'KABUPATEN TASIKMALAYA',\n                 'Kabupaten Ciamis': 'KABUPATEN CIAMIS',\n                 'Kabupaten Kuningan': 'KABUPATEN KUNINGAN',\n                 'Kabupaten Cirebon': 'KABUPATEN CIREBON',\n                 'Kabupaten Majalengka': 'KABUPATEN MAJALENGKA',\n                 'Kabupaten Sumedang': 'KABUPATEN SUMEDANG',\n                 'Kabupaten Indramayu': 'KABUPATEN INDRAMAYU',\n                 'Kabupaten Subang': 'KABUPATEN SUBANG',\n                 'Kabupaten Purwakarta': 'KABUPATEN PURWAKARTA',\n                 'Kabupaten Karawang': 'KABUPATEN KARAWANG',\n                 'Kabupaten Bekasi': 'KABUPATEN BEKASI',\n                 'Kabupaten Bandung Barat': 'KABUPATEN BANDUNG BARAT',\n                 'Kabupaten Pangandaran': 'KABUPATEN PANGANDARAN',\n                 'Kota Bogor': 'KOTA BOGOR',\n                 'Kota Sukabumi': 'KOTA SUKABUMI',\n                 'Kota Bandung': 'KOTA BANDUNG',\n                 'Kota Cirebon': 'KOTA CIREBON',\n                 'Kota Bekasi': 'KOTA BEKASI',\n                 'Kota Depok': 'KOTA DEPOK',\n                 'Kota Cimahi': 'KOTA CIMAHI',\n                 'Kota Tasikmalaya': 'KOTA TASIKMALAYA',\n                 'Kota Banjar': 'KOTA BANJAR' \n        }\nnama_kota_replacements = {\n                 'Bogor': 'KABUPATEN BOGOR',\n                 'Sukabumi': 'KABUPATEN SUKABUMI',\n                 'Cianjur': 'KABUPATEN CIANJUR',\n                 'Bandung': 'KABUPATEN BANDUNG',\n                 'Garut': 'KABUPATEN GARUT',\n                 'Tasikmalaya': 'KABUPATEN TASIKMALAYA',\n                 'Ciamis': 'KABUPATEN CIAMIS',\n                 'Kuningan': 'KABUPATEN KUNINGAN',\n                 'Cirebon': 'KABUPATEN CIREBON',\n                 'Majalengka': 'KABUPATEN MAJALENGKA',\n                 'Sumedang': 'KABUPATEN SUMEDANG',\n                 'Indramayu': 'KABUPATEN INDRAMAYU',\n                 'Subang': 'KABUPATEN SUBANG',\n                 'Purwakarta': 'KABUPATEN PURWAKARTA',\n                 'Karawang': 'KABUPATEN KARAWANG',\n                 'Bekasi': 'KABUPATEN BEKASI',\n                 'Bandung Barat': 'KABUPATEN BANDUNG BARAT',\n                 'Pangandaran': 'KABUPATEN PANGANDARAN',\n                 'Kota Bogor': 'KOTA BOGOR',\n                 'Kota Sukabumi': 'KOTA SUKABUMI',\n                 'Kota Bandung': 'KOTA BANDUNG',\n                 'Kota Cirebon': 'KOTA CIREBON',\n                 'Kota Bekasi': 'KOTA BEKASI',\n                 'Kota Depok': 'KOTA DEPOK',\n                 'Kota Cimahi': 'KOTA CIMAHI',\n                 'Kota Tasikmalaya': 'KOTA TASIKMALAYA',\n                 'Kota Banjar': 'KOTA BANJAR' \n        }",
   "metadata": {
    "cell_id": "8c0a21b59de340f6815a160f3b649637",
    "tags": [],
    "is_code_hidden": true,
    "deepnote_to_be_reexecuted": false,
    "source_hash": "91fcecb1",
    "execution_start": 1661038182933,
    "execution_millis": 20,
    "deepnote_cell_type": "code",
    "deepnote_cell_height": 74.796875
   },
   "outputs": [],
   "execution_count": null
  },
  {
   "cell_type": "markdown",
   "source": "Manipulation Codes",
   "metadata": {
    "cell_id": "01c1513aa6484dedb45428cb25af82f3",
    "tags": [],
    "deepnote_cell_type": "markdown",
    "deepnote_cell_height": 52.390625
   }
  },
  {
   "cell_type": "code",
   "source": "# Finds index with \"JAWA BARAT\"\nkemiskinan_jabar_2020_2021.loc[kemiskinan_jabar_2020_2021['Nama Wilayah'] == \"JAWA BARAT\"].index\n# Removes \"JAWA BARAT\" and only selects the year 2021\nkmk_jabar_20_21_v1 = kemiskinan_jabar_2020_2021.drop([0, 28]).loc[kemiskinan_jabar_2020_2021['Tahun'] == 2021]\n# Drops unused column\nkmk_jabar_20_21_v1.drop(['Jumlah Miskin', 'IKM'], axis = 1, inplace = True)\n# Renames columns\nkmk_jabar_20_21_v1.rename(columns ={\n    'Nama Wilayah': 'nama_kabupaten_kota',\n    'Persen Miskin': 'persentase_penduduk',\n    'Tahun': 'tahun' \n}, inplace = True)\n# Renames kabupatens\nkmk_jabar_20_21_v1.nama_kabupaten_kota.replace(nama_kota_replacements, inplace = True)\n# Concats the two datasets\nkemiskinan_jabar_2010_2021 = kemiskinan_jabar_2010_2020.copy(deep=True)\nkemiskinan_jabar_2010_2021.drop(labels=[x for x in kemiskinan_jabar_2010_2020.columns if x not in ['nama_kabupaten_kota', 'tahun', 'persentase_penduduk']], axis = 1, inplace = True)\nkemiskinan_jabar_2010_2021 = pd.concat([kemiskinan_jabar_2010_2021, kmk_jabar_20_21_v1], axis=0)",
   "metadata": {
    "cell_id": "e395f3ad46b147bdbc298c107e3a0a9f",
    "tags": [],
    "deepnote_to_be_reexecuted": false,
    "source_hash": "8a01b87f",
    "execution_start": 1661038182958,
    "execution_millis": 43,
    "deepnote_cell_type": "code",
    "deepnote_cell_height": 382
   },
   "outputs": [],
   "execution_count": null
  },
  {
   "cell_type": "code",
   "source": "bencanajabar = petaBencana.loc[(petaBencana['Provinsi'] == 'Jawa Barat')]\nbencanajabar['dateFixed'] = pd.to_datetime(bencanajabar['date'])\nbencana_2021 = bencanajabar.loc[bencanajabar['dateFixed'] >= \"2021-01-01\"]\nbencana_2021_a = bencana_2021[['Kabupaten','status','dateFixed']]\ndisCount = bencana_2021_a.groupby(['Kabupaten']).count()\nbencana_2020 = bencanajabar.loc[(bencanajabar['dateFixed'] <= \"2020-12-31\") & (bencanajabar['dateFixed'] >= \"2020-01-01\")]\nbencana_2020_a = bencana_2020[['Kabupaten','status','dateFixed']]\ndisasterCount = bencana_2020_a.groupby(['Kabupaten']).count()",
   "metadata": {
    "cell_id": "65de1cb578574868b3f8c3cb0b2ac836",
    "tags": [],
    "deepnote_to_be_reexecuted": false,
    "source_hash": "6186e849",
    "execution_start": 1661038183009,
    "execution_millis": 807,
    "deepnote_cell_type": "code",
    "deepnote_cell_height": 333
   },
   "outputs": [
    {
     "name": "stderr",
     "text": "/tmp/ipykernel_1124/3360898207.py:2: SettingWithCopyWarning: \nA value is trying to be set on a copy of a slice from a DataFrame.\nTry using .loc[row_indexer,col_indexer] = value instead\n\nSee the caveats in the documentation: https://pandas.pydata.org/pandas-docs/stable/user_guide/indexing.html#returning-a-view-versus-a-copy\n  bencanajabar['dateFixed'] = pd.to_datetime(bencanajabar['date'])\n",
     "output_type": "stream"
    }
   ],
   "execution_count": null
  },
  {
   "cell_type": "code",
   "source": "arr_d_count = [ 466, 24, 5, 1, 59, 4, 0, 4, 0, 5, 0, 20, 1, 2, 0, 1, 318, 0, 0, 0, 0, 0, 0, 0, 21, 0, 1, 0]\nd_count_2021 = [261, 21, 3, 7, 21, 2, 0, 1, 0, 1, 1, 2, 10, 8, 0, 17, 155, 1, 1, 0, 0, 0, 0, 0, 6, 4, 0, 0]\n\nd_count = {\"disaster_count\":[i for i in (arr_d_count+d_count_2021)]}\ndata_d_count = pd.DataFrame(d_count)",
   "metadata": {
    "cell_id": "ab28eb9010f34bafb0a0d1634647e1bd",
    "tags": [],
    "deepnote_to_be_reexecuted": false,
    "source_hash": "9d8a14a2",
    "execution_start": 1661038183059,
    "execution_millis": 22,
    "deepnote_cell_type": "code",
    "deepnote_cell_height": 148
   },
   "outputs": [],
   "execution_count": null
  },
  {
   "cell_type": "code",
   "source": "kemiskinan_jabar_2002_2020.rename(columns ={\n    'nama_kabupaten_kota': 'Nama Wilayah',\n    'tahun': 'Tahun',\n    'jumlah_penduduk_miskin' : 'Jumlah Miskin'\n}, inplace = True)\nkemiskinan_jabar_10_19 = kemiskinan_jabar_2002_2020[kemiskinan_jabar_2002_2020['Tahun'] > 2009]\nkemiskinan_jabar_10_19 = kemiskinan_jabar_10_19[kemiskinan_jabar_10_19['Tahun'] < 2020]\nkemiskinan_jabar_10_19 = kemiskinan_jabar_10_19[['Nama Wilayah','Jumlah Miskin' ,'Tahun']]",
   "metadata": {
    "cell_id": "c168a059ef534fdc92c00caee81202b6",
    "tags": [],
    "deepnote_to_be_reexecuted": false,
    "source_hash": "8992b1d3",
    "execution_start": 1661038183088,
    "execution_millis": 21,
    "deepnote_cell_type": "code",
    "deepnote_cell_height": 202
   },
   "outputs": [],
   "execution_count": null
  },
  {
   "cell_type": "code",
   "source": "# Renames kabupatens\nip_jabar2021.nama_kabupaten_kota.replace(nama_kota_replacements, inplace = True)\npengangguran21.nama_kabupaten_kota.replace(kota_replacements, inplace = True)\npengangguran21.rename(columns ={\n    'Tahun': 'tahun'\n}, inplace = True)\nip_jabar2021.rename(columns ={\n    'Tahun': 'tahun'\n}, inplace = True)",
   "metadata": {
    "cell_id": "1c9bb2dd33eb4c00b193c9040626739e",
    "tags": [],
    "deepnote_to_be_reexecuted": false,
    "source_hash": "37223d7a",
    "execution_start": 1661038183113,
    "execution_millis": 18,
    "deepnote_cell_type": "code",
    "deepnote_cell_height": 220
   },
   "outputs": [],
   "execution_count": null
  },
  {
   "cell_type": "code",
   "source": "data_merged = pd.concat([kemiskinan_jabar_2020_2021, data_d_count], axis=\"columns\")\ndata_merged['Nama Wilayah'] = data_merged['Nama Wilayah'].replace(nama_kota_replacements)\nkemiskinan = pd.merge(kemiskinan_jabar_10_19, data_merged,on=['Nama Wilayah', 'Tahun', 'Jumlah Miskin'],how='outer')",
   "metadata": {
    "cell_id": "15bc3f00583843d580f53436ed429f10",
    "tags": [],
    "deepnote_to_be_reexecuted": false,
    "source_hash": "82219df9",
    "execution_start": 1661038183143,
    "execution_millis": 35,
    "deepnote_cell_type": "code",
    "deepnote_cell_height": 112
   },
   "outputs": [],
   "execution_count": null
  },
  {
   "cell_type": "code",
   "source": "ip_jabar_ = ip_jabar[['nama_kabupaten_kota', 'indeks_pendidikan', 'tahun']]\npengangguran_jabar_ = pengangguran_jabar[['nama_kabupaten_kota', 'persentase_tingkat_pengangguran_terbuka', 'tahun']]\nkepadatan_jabar_ = kepadatan_jabar[['nama_kabupaten_kota','kepadatan_penduduk','tahun']]\nip_final = pd.concat([ip_jabar_, ip_jabar2021], axis=0)\npengangguran_final = pd.concat([pengangguran_jabar_, pengangguran21], axis =0)",
   "metadata": {
    "cell_id": "d917d01963914df3a9e693ef102c4578",
    "tags": [],
    "deepnote_to_be_reexecuted": false,
    "source_hash": "b0e032b4",
    "execution_start": 1661038183182,
    "execution_millis": 15,
    "deepnote_cell_type": "code",
    "deepnote_cell_height": 148
   },
   "outputs": [],
   "execution_count": null
  },
  {
   "cell_type": "code",
   "source": "data_merger = pd.merge(ip_final,pengangguran_final,on=['nama_kabupaten_kota', 'tahun'],how='outer')\ndata_merger_ = pd.merge(data_merger,kepadatan_jabar_,on=['nama_kabupaten_kota', 'tahun'],how='outer')\ndata_merger_.rename(columns = {'nama_kabupaten_kota':'Nama Wilayah', 'tahun' : 'Tahun'}, inplace = True)",
   "metadata": {
    "cell_id": "53942457d64e478f8a8105803ba5432a",
    "tags": [],
    "deepnote_to_be_reexecuted": false,
    "source_hash": "bf47bc2f",
    "execution_start": 1661038183202,
    "execution_millis": 20,
    "deepnote_cell_type": "code",
    "deepnote_cell_height": 112
   },
   "outputs": [],
   "execution_count": null
  },
  {
   "cell_type": "code",
   "source": "merged =  pd.merge(data_merger_,kemiskinan,on=['Nama Wilayah', 'Tahun'],how='outer')",
   "metadata": {
    "cell_id": "9739902aa4d743cda0b7e71357d2b80a",
    "tags": [],
    "deepnote_to_be_reexecuted": false,
    "source_hash": "16829cfd",
    "execution_start": 1661038183226,
    "execution_millis": 23,
    "deepnote_cell_type": "code",
    "deepnote_cell_height": 76
   },
   "outputs": [],
   "execution_count": null
  },
  {
   "cell_type": "code",
   "source": "covidjabar = covidjabar[['tanggal', 'nama_kab_kota', 'konfirmasi_aktif']]\ncovidjabar['tanggal'] = pd.to_datetime(covidjabar['tanggal'])\ncovidjabar['Tahun'] = covidjabar['tanggal'].dt.year\ncovidjabar.nama_kab_kota = covidjabar.nama_kab_kota.apply(lambda x: x.upper())\ncovidjabar = covidjabar.groupby(['Tahun', 'nama_kab_kota'], as_index = False).mean()\ncovidjabar.drop(covidjabar.loc[covidjabar['nama_kab_kota'] == \"JAWA BARAT\"].index, inplace=True)\ncovidjabar.reset_index(inplace=True, drop=True)\ncovidjabar.rename(columns = {\"nama_kab_kota\": \"Nama Wilayah\"}, inplace=True)",
   "metadata": {
    "cell_id": "1025d50cf18b41758dfe90a2e25e90a6",
    "tags": [],
    "deepnote_to_be_reexecuted": false,
    "source_hash": "928f7b0f",
    "execution_start": 1661038183253,
    "execution_millis": 55,
    "deepnote_cell_type": "code",
    "deepnote_cell_height": 202
   },
   "outputs": [],
   "execution_count": null
  },
  {
   "cell_type": "code",
   "source": "luas_jabar['nama_kabupaten_kota'] = luas_jabar['nama_kabupaten_kota'].replace(nama_kota_replacements)\nluas_jabar.rename(columns ={\n    'nama_kabupaten_kota': 'Nama Wilayah'\n}, inplace = True)\n\nfrom locale import atof, setlocale, LC_NUMERIC\nsetlocale(LC_NUMERIC, '')\nluas_jabar['luas'] = luas_jabar['luas'].apply(lambda x : atof(x))\n\nmerged_ = pd.merge(merged, luas_jabar,on=['Nama Wilayah', 'Tahun'],how='outer')\nmerged_ = pd.merge(merged_, covidjabar, on=['Nama Wilayah', 'Tahun'], how='outer')",
   "metadata": {
    "cell_id": "eec318d9c28648d59ea4664abf16368f",
    "tags": [],
    "deepnote_to_be_reexecuted": false,
    "source_hash": "e72c0c43",
    "execution_start": 1661038183313,
    "execution_millis": 33,
    "deepnote_cell_type": "code",
    "deepnote_cell_height": 256
   },
   "outputs": [],
   "execution_count": null
  },
  {
   "cell_type": "code",
   "source": "merged_.head()",
   "metadata": {
    "cell_id": "9a330926bdf64c72b1d7e725e74c1b67",
    "tags": [],
    "deepnote_to_be_reexecuted": false,
    "source_hash": "1b913ea1",
    "execution_start": 1661038183351,
    "execution_millis": 473,
    "deepnote_cell_type": "code",
    "deepnote_cell_height": 406.796875
   },
   "outputs": [
    {
     "output_type": "execute_result",
     "execution_count": 58,
     "data": {
      "application/vnd.deepnote.dataframe.v3+json": {
       "column_count": 11,
       "row_count": 5,
       "columns": [
        {
         "name": "Nama Wilayah",
         "dtype": "object",
         "stats": {
          "unique_count": 5,
          "nan_count": 0,
          "categories": [
           {
            "name": "KABUPATEN BOGOR",
            "count": 1
           },
           {
            "name": "KABUPATEN SUKABUMI",
            "count": 1
           },
           {
            "name": "3 others",
            "count": 3
           }
          ]
         }
        },
        {
         "name": "indeks_pendidikan",
         "dtype": "float64",
         "stats": {
          "unique_count": 5,
          "nan_count": 0,
          "min": "47.3",
          "max": "56.65",
          "histogram": [
           {
            "bin_start": 47.3,
            "bin_end": 48.235,
            "count": 2
           },
           {
            "bin_start": 48.235,
            "bin_end": 49.169999999999995,
            "count": 0
           },
           {
            "bin_start": 49.169999999999995,
            "bin_end": 50.105,
            "count": 0
           },
           {
            "bin_start": 50.105,
            "bin_end": 51.04,
            "count": 1
           },
           {
            "bin_start": 51.04,
            "bin_end": 51.974999999999994,
            "count": 1
           },
           {
            "bin_start": 51.974999999999994,
            "bin_end": 52.91,
            "count": 0
           },
           {
            "bin_start": 52.91,
            "bin_end": 53.845,
            "count": 0
           },
           {
            "bin_start": 53.845,
            "bin_end": 54.78,
            "count": 0
           },
           {
            "bin_start": 54.78,
            "bin_end": 55.714999999999996,
            "count": 0
           },
           {
            "bin_start": 55.714999999999996,
            "bin_end": 56.65,
            "count": 1
           }
          ]
         }
        },
        {
         "name": "Tahun",
         "dtype": "int64",
         "stats": {
          "unique_count": 1,
          "nan_count": 0,
          "min": "2010",
          "max": "2010",
          "histogram": [
           {
            "bin_start": 2009.5,
            "bin_end": 2009.6,
            "count": 0
           },
           {
            "bin_start": 2009.6,
            "bin_end": 2009.7,
            "count": 0
           },
           {
            "bin_start": 2009.7,
            "bin_end": 2009.8,
            "count": 0
           },
           {
            "bin_start": 2009.8,
            "bin_end": 2009.9,
            "count": 0
           },
           {
            "bin_start": 2009.9,
            "bin_end": 2010,
            "count": 0
           },
           {
            "bin_start": 2010,
            "bin_end": 2010.1,
            "count": 5
           },
           {
            "bin_start": 2010.1,
            "bin_end": 2010.2,
            "count": 0
           },
           {
            "bin_start": 2010.2,
            "bin_end": 2010.3,
            "count": 0
           },
           {
            "bin_start": 2010.3,
            "bin_end": 2010.4,
            "count": 0
           },
           {
            "bin_start": 2010.4,
            "bin_end": 2010.5,
            "count": 0
           }
          ]
         }
        },
        {
         "name": "persentase_tingkat_pengangguran_terbuka",
         "dtype": "float64",
         "stats": {
          "unique_count": 0,
          "nan_count": 5,
          "min": null,
          "max": null,
          "histogram": [
           {
            "bin_start": 0,
            "bin_end": 0.1,
            "count": 0
           },
           {
            "bin_start": 0.1,
            "bin_end": 0.2,
            "count": 0
           },
           {
            "bin_start": 0.2,
            "bin_end": 0.30000000000000004,
            "count": 0
           },
           {
            "bin_start": 0.30000000000000004,
            "bin_end": 0.4,
            "count": 0
           },
           {
            "bin_start": 0.4,
            "bin_end": 0.5,
            "count": 0
           },
           {
            "bin_start": 0.5,
            "bin_end": 0.6000000000000001,
            "count": 0
           },
           {
            "bin_start": 0.6000000000000001,
            "bin_end": 0.7000000000000001,
            "count": 0
           },
           {
            "bin_start": 0.7000000000000001,
            "bin_end": 0.8,
            "count": 0
           },
           {
            "bin_start": 0.8,
            "bin_end": 0.9,
            "count": 0
           },
           {
            "bin_start": 0.9,
            "bin_end": 1,
            "count": 0
           }
          ]
         }
        },
        {
         "name": "kepadatan_penduduk",
         "dtype": "float64",
         "stats": {
          "unique_count": 0,
          "nan_count": 5,
          "min": null,
          "max": null,
          "histogram": [
           {
            "bin_start": 0,
            "bin_end": 0.1,
            "count": 0
           },
           {
            "bin_start": 0.1,
            "bin_end": 0.2,
            "count": 0
           },
           {
            "bin_start": 0.2,
            "bin_end": 0.30000000000000004,
            "count": 0
           },
           {
            "bin_start": 0.30000000000000004,
            "bin_end": 0.4,
            "count": 0
           },
           {
            "bin_start": 0.4,
            "bin_end": 0.5,
            "count": 0
           },
           {
            "bin_start": 0.5,
            "bin_end": 0.6000000000000001,
            "count": 0
           },
           {
            "bin_start": 0.6000000000000001,
            "bin_end": 0.7000000000000001,
            "count": 0
           },
           {
            "bin_start": 0.7000000000000001,
            "bin_end": 0.8,
            "count": 0
           },
           {
            "bin_start": 0.8,
            "bin_end": 0.9,
            "count": 0
           },
           {
            "bin_start": 0.9,
            "bin_end": 1,
            "count": 0
           }
          ]
         }
        },
        {
         "name": "Jumlah Miskin",
         "dtype": "float64",
         "stats": {
          "unique_count": 5,
          "nan_count": 0,
          "min": "249.6",
          "max": "477.2",
          "histogram": [
           {
            "bin_start": 249.6,
            "bin_end": 272.36,
            "count": 1
           },
           {
            "bin_start": 272.36,
            "bin_end": 295.12,
            "count": 0
           },
           {
            "bin_start": 295.12,
            "bin_end": 317.88,
            "count": 2
           },
           {
            "bin_start": 317.88,
            "bin_end": 340.64,
            "count": 1
           },
           {
            "bin_start": 340.64,
            "bin_end": 363.4,
            "count": 0
           },
           {
            "bin_start": 363.4,
            "bin_end": 386.15999999999997,
            "count": 0
           },
           {
            "bin_start": 386.15999999999997,
            "bin_end": 408.91999999999996,
            "count": 0
           },
           {
            "bin_start": 408.91999999999996,
            "bin_end": 431.67999999999995,
            "count": 0
           },
           {
            "bin_start": 431.67999999999995,
            "bin_end": 454.43999999999994,
            "count": 0
           },
           {
            "bin_start": 454.43999999999994,
            "bin_end": 477.2,
            "count": 1
           }
          ]
         }
        },
        {
         "name": "Persen Miskin",
         "dtype": "float64",
         "stats": {
          "unique_count": 0,
          "nan_count": 5,
          "min": null,
          "max": null,
          "histogram": [
           {
            "bin_start": 0,
            "bin_end": 0.1,
            "count": 0
           },
           {
            "bin_start": 0.1,
            "bin_end": 0.2,
            "count": 0
           },
           {
            "bin_start": 0.2,
            "bin_end": 0.30000000000000004,
            "count": 0
           },
           {
            "bin_start": 0.30000000000000004,
            "bin_end": 0.4,
            "count": 0
           },
           {
            "bin_start": 0.4,
            "bin_end": 0.5,
            "count": 0
           },
           {
            "bin_start": 0.5,
            "bin_end": 0.6000000000000001,
            "count": 0
           },
           {
            "bin_start": 0.6000000000000001,
            "bin_end": 0.7000000000000001,
            "count": 0
           },
           {
            "bin_start": 0.7000000000000001,
            "bin_end": 0.8,
            "count": 0
           },
           {
            "bin_start": 0.8,
            "bin_end": 0.9,
            "count": 0
           },
           {
            "bin_start": 0.9,
            "bin_end": 1,
            "count": 0
           }
          ]
         }
        },
        {
         "name": "IKM",
         "dtype": "float64",
         "stats": {
          "unique_count": 0,
          "nan_count": 5,
          "min": null,
          "max": null,
          "histogram": [
           {
            "bin_start": 0,
            "bin_end": 0.1,
            "count": 0
           },
           {
            "bin_start": 0.1,
            "bin_end": 0.2,
            "count": 0
           },
           {
            "bin_start": 0.2,
            "bin_end": 0.30000000000000004,
            "count": 0
           },
           {
            "bin_start": 0.30000000000000004,
            "bin_end": 0.4,
            "count": 0
           },
           {
            "bin_start": 0.4,
            "bin_end": 0.5,
            "count": 0
           },
           {
            "bin_start": 0.5,
            "bin_end": 0.6000000000000001,
            "count": 0
           },
           {
            "bin_start": 0.6000000000000001,
            "bin_end": 0.7000000000000001,
            "count": 0
           },
           {
            "bin_start": 0.7000000000000001,
            "bin_end": 0.8,
            "count": 0
           },
           {
            "bin_start": 0.8,
            "bin_end": 0.9,
            "count": 0
           },
           {
            "bin_start": 0.9,
            "bin_end": 1,
            "count": 0
           }
          ]
         }
        },
        {
         "name": "disaster_count",
         "dtype": "float64",
         "stats": {
          "unique_count": 0,
          "nan_count": 5,
          "min": null,
          "max": null,
          "histogram": [
           {
            "bin_start": 0,
            "bin_end": 0.1,
            "count": 0
           },
           {
            "bin_start": 0.1,
            "bin_end": 0.2,
            "count": 0
           },
           {
            "bin_start": 0.2,
            "bin_end": 0.30000000000000004,
            "count": 0
           },
           {
            "bin_start": 0.30000000000000004,
            "bin_end": 0.4,
            "count": 0
           },
           {
            "bin_start": 0.4,
            "bin_end": 0.5,
            "count": 0
           },
           {
            "bin_start": 0.5,
            "bin_end": 0.6000000000000001,
            "count": 0
           },
           {
            "bin_start": 0.6000000000000001,
            "bin_end": 0.7000000000000001,
            "count": 0
           },
           {
            "bin_start": 0.7000000000000001,
            "bin_end": 0.8,
            "count": 0
           },
           {
            "bin_start": 0.8,
            "bin_end": 0.9,
            "count": 0
           },
           {
            "bin_start": 0.9,
            "bin_end": 1,
            "count": 0
           }
          ]
         }
        },
        {
         "name": "luas",
         "dtype": "float64",
         "stats": {
          "unique_count": 0,
          "nan_count": 5,
          "min": null,
          "max": null,
          "histogram": [
           {
            "bin_start": 0,
            "bin_end": 0.1,
            "count": 0
           },
           {
            "bin_start": 0.1,
            "bin_end": 0.2,
            "count": 0
           },
           {
            "bin_start": 0.2,
            "bin_end": 0.30000000000000004,
            "count": 0
           },
           {
            "bin_start": 0.30000000000000004,
            "bin_end": 0.4,
            "count": 0
           },
           {
            "bin_start": 0.4,
            "bin_end": 0.5,
            "count": 0
           },
           {
            "bin_start": 0.5,
            "bin_end": 0.6000000000000001,
            "count": 0
           },
           {
            "bin_start": 0.6000000000000001,
            "bin_end": 0.7000000000000001,
            "count": 0
           },
           {
            "bin_start": 0.7000000000000001,
            "bin_end": 0.8,
            "count": 0
           },
           {
            "bin_start": 0.8,
            "bin_end": 0.9,
            "count": 0
           },
           {
            "bin_start": 0.9,
            "bin_end": 1,
            "count": 0
           }
          ]
         }
        },
        {
         "name": "konfirmasi_aktif",
         "dtype": "float64",
         "stats": {
          "unique_count": 0,
          "nan_count": 5,
          "min": null,
          "max": null,
          "histogram": [
           {
            "bin_start": 0,
            "bin_end": 0.1,
            "count": 0
           },
           {
            "bin_start": 0.1,
            "bin_end": 0.2,
            "count": 0
           },
           {
            "bin_start": 0.2,
            "bin_end": 0.30000000000000004,
            "count": 0
           },
           {
            "bin_start": 0.30000000000000004,
            "bin_end": 0.4,
            "count": 0
           },
           {
            "bin_start": 0.4,
            "bin_end": 0.5,
            "count": 0
           },
           {
            "bin_start": 0.5,
            "bin_end": 0.6000000000000001,
            "count": 0
           },
           {
            "bin_start": 0.6000000000000001,
            "bin_end": 0.7000000000000001,
            "count": 0
           },
           {
            "bin_start": 0.7000000000000001,
            "bin_end": 0.8,
            "count": 0
           },
           {
            "bin_start": 0.8,
            "bin_end": 0.9,
            "count": 0
           },
           {
            "bin_start": 0.9,
            "bin_end": 1,
            "count": 0
           }
          ]
         }
        },
        {
         "name": "_deepnote_index_column",
         "dtype": "int64"
        }
       ],
       "rows": [
        {
         "Nama Wilayah": "KABUPATEN BOGOR",
         "indeks_pendidikan": 51.55,
         "Tahun": 2010,
         "persentase_tingkat_pengangguran_terbuka": "nan",
         "kepadatan_penduduk": "nan",
         "Jumlah Miskin": 477.2,
         "Persen Miskin": "nan",
         "IKM": "nan",
         "disaster_count": "nan",
         "luas": "nan",
         "konfirmasi_aktif": "nan",
         "_deepnote_index_column": 0
        },
        {
         "Nama Wilayah": "KABUPATEN SUKABUMI",
         "indeks_pendidikan": 47.39,
         "Tahun": 2010,
         "persentase_tingkat_pengangguran_terbuka": "nan",
         "kepadatan_penduduk": "nan",
         "Jumlah Miskin": 249.6,
         "Persen Miskin": "nan",
         "IKM": "nan",
         "disaster_count": "nan",
         "luas": "nan",
         "konfirmasi_aktif": "nan",
         "_deepnote_index_column": 1
        },
        {
         "Nama Wilayah": "KABUPATEN CIANJUR",
         "indeks_pendidikan": 47.3,
         "Tahun": 2010,
         "persentase_tingkat_pengangguran_terbuka": "nan",
         "kepadatan_penduduk": "nan",
         "Jumlah Miskin": 311,
         "Persen Miskin": "nan",
         "IKM": "nan",
         "disaster_count": "nan",
         "luas": "nan",
         "konfirmasi_aktif": "nan",
         "_deepnote_index_column": 2
        },
        {
         "Nama Wilayah": "KABUPATEN BANDUNG",
         "indeks_pendidikan": 56.65,
         "Tahun": 2010,
         "persentase_tingkat_pengangguran_terbuka": "nan",
         "kepadatan_penduduk": "nan",
         "Jumlah Miskin": 296.3,
         "Persen Miskin": "nan",
         "IKM": "nan",
         "disaster_count": "nan",
         "luas": "nan",
         "konfirmasi_aktif": "nan",
         "_deepnote_index_column": 3
        },
        {
         "Nama Wilayah": "KABUPATEN GARUT",
         "indeks_pendidikan": 51.03,
         "Tahun": 2010,
         "persentase_tingkat_pengangguran_terbuka": "nan",
         "kepadatan_penduduk": "nan",
         "Jumlah Miskin": 335.6,
         "Persen Miskin": "nan",
         "IKM": "nan",
         "disaster_count": "nan",
         "luas": "nan",
         "konfirmasi_aktif": "nan",
         "_deepnote_index_column": 4
        }
       ]
      },
      "text/plain": "         Nama Wilayah  indeks_pendidikan  Tahun  \\\n0     KABUPATEN BOGOR              51.55   2010   \n1  KABUPATEN SUKABUMI              47.39   2010   \n2   KABUPATEN CIANJUR              47.30   2010   \n3   KABUPATEN BANDUNG              56.65   2010   \n4     KABUPATEN GARUT              51.03   2010   \n\n   persentase_tingkat_pengangguran_terbuka  kepadatan_penduduk  Jumlah Miskin  \\\n0                                      NaN                 NaN          477.2   \n1                                      NaN                 NaN          249.6   \n2                                      NaN                 NaN          311.0   \n3                                      NaN                 NaN          296.3   \n4                                      NaN                 NaN          335.6   \n\n   Persen Miskin  IKM  disaster_count  luas  konfirmasi_aktif  \n0            NaN  NaN             NaN   NaN               NaN  \n1            NaN  NaN             NaN   NaN               NaN  \n2            NaN  NaN             NaN   NaN               NaN  \n3            NaN  NaN             NaN   NaN               NaN  \n4            NaN  NaN             NaN   NaN               NaN  ",
      "text/html": "<div>\n<style scoped>\n    .dataframe tbody tr th:only-of-type {\n        vertical-align: middle;\n    }\n\n    .dataframe tbody tr th {\n        vertical-align: top;\n    }\n\n    .dataframe thead th {\n        text-align: right;\n    }\n</style>\n<table border=\"1\" class=\"dataframe\">\n  <thead>\n    <tr style=\"text-align: right;\">\n      <th></th>\n      <th>Nama Wilayah</th>\n      <th>indeks_pendidikan</th>\n      <th>Tahun</th>\n      <th>persentase_tingkat_pengangguran_terbuka</th>\n      <th>kepadatan_penduduk</th>\n      <th>Jumlah Miskin</th>\n      <th>Persen Miskin</th>\n      <th>IKM</th>\n      <th>disaster_count</th>\n      <th>luas</th>\n      <th>konfirmasi_aktif</th>\n    </tr>\n  </thead>\n  <tbody>\n    <tr>\n      <th>0</th>\n      <td>KABUPATEN BOGOR</td>\n      <td>51.55</td>\n      <td>2010</td>\n      <td>NaN</td>\n      <td>NaN</td>\n      <td>477.2</td>\n      <td>NaN</td>\n      <td>NaN</td>\n      <td>NaN</td>\n      <td>NaN</td>\n      <td>NaN</td>\n    </tr>\n    <tr>\n      <th>1</th>\n      <td>KABUPATEN SUKABUMI</td>\n      <td>47.39</td>\n      <td>2010</td>\n      <td>NaN</td>\n      <td>NaN</td>\n      <td>249.6</td>\n      <td>NaN</td>\n      <td>NaN</td>\n      <td>NaN</td>\n      <td>NaN</td>\n      <td>NaN</td>\n    </tr>\n    <tr>\n      <th>2</th>\n      <td>KABUPATEN CIANJUR</td>\n      <td>47.30</td>\n      <td>2010</td>\n      <td>NaN</td>\n      <td>NaN</td>\n      <td>311.0</td>\n      <td>NaN</td>\n      <td>NaN</td>\n      <td>NaN</td>\n      <td>NaN</td>\n      <td>NaN</td>\n    </tr>\n    <tr>\n      <th>3</th>\n      <td>KABUPATEN BANDUNG</td>\n      <td>56.65</td>\n      <td>2010</td>\n      <td>NaN</td>\n      <td>NaN</td>\n      <td>296.3</td>\n      <td>NaN</td>\n      <td>NaN</td>\n      <td>NaN</td>\n      <td>NaN</td>\n      <td>NaN</td>\n    </tr>\n    <tr>\n      <th>4</th>\n      <td>KABUPATEN GARUT</td>\n      <td>51.03</td>\n      <td>2010</td>\n      <td>NaN</td>\n      <td>NaN</td>\n      <td>335.6</td>\n      <td>NaN</td>\n      <td>NaN</td>\n      <td>NaN</td>\n      <td>NaN</td>\n      <td>NaN</td>\n    </tr>\n  </tbody>\n</table>\n</div>"
     },
     "metadata": {}
    }
   ],
   "execution_count": null
  },
  {
   "cell_type": "code",
   "source": "dataset_reglin = merged_[merged_['Tahun'] >= 2020].dropna().reset_index(drop=True).rename(columns ={\n    'Jumlah Miskin': 'jumlah_miskin',\n    'Persen Miskin': 'persen_miskin'})\ndataset_reglin.head()",
   "metadata": {
    "cell_id": "4fd38f28dbd349a9a7a00936f8f23fbe",
    "tags": [],
    "deepnote_to_be_reexecuted": false,
    "source_hash": "1910e5bb",
    "execution_start": 1661038183415,
    "execution_millis": 410,
    "deepnote_cell_type": "code",
    "deepnote_cell_height": 460.796875
   },
   "outputs": [
    {
     "output_type": "execute_result",
     "execution_count": 59,
     "data": {
      "application/vnd.deepnote.dataframe.v3+json": {
       "column_count": 11,
       "row_count": 5,
       "columns": [
        {
         "name": "Nama Wilayah",
         "dtype": "object",
         "stats": {
          "unique_count": 5,
          "nan_count": 0,
          "categories": [
           {
            "name": "KABUPATEN BOGOR",
            "count": 1
           },
           {
            "name": "KABUPATEN SUKABUMI",
            "count": 1
           },
           {
            "name": "3 others",
            "count": 3
           }
          ]
         }
        },
        {
         "name": "indeks_pendidikan",
         "dtype": "float64",
         "stats": {
          "unique_count": 5,
          "nan_count": 0,
          "min": "57.24",
          "max": "65.12",
          "histogram": [
           {
            "bin_start": 57.24,
            "bin_end": 58.028000000000006,
            "count": 2
           },
           {
            "bin_start": 58.028000000000006,
            "bin_end": 58.816,
            "count": 1
           },
           {
            "bin_start": 58.816,
            "bin_end": 59.604,
            "count": 0
           },
           {
            "bin_start": 59.604,
            "bin_end": 60.392,
            "count": 0
           },
           {
            "bin_start": 60.392,
            "bin_end": 61.18000000000001,
            "count": 0
           },
           {
            "bin_start": 61.18000000000001,
            "bin_end": 61.968,
            "count": 0
           },
           {
            "bin_start": 61.968,
            "bin_end": 62.756,
            "count": 1
           },
           {
            "bin_start": 62.756,
            "bin_end": 63.544000000000004,
            "count": 0
           },
           {
            "bin_start": 63.544000000000004,
            "bin_end": 64.33200000000001,
            "count": 0
           },
           {
            "bin_start": 64.33200000000001,
            "bin_end": 65.12,
            "count": 1
           }
          ]
         }
        },
        {
         "name": "Tahun",
         "dtype": "int64",
         "stats": {
          "unique_count": 1,
          "nan_count": 0,
          "min": "2020",
          "max": "2020",
          "histogram": [
           {
            "bin_start": 2019.5,
            "bin_end": 2019.6,
            "count": 0
           },
           {
            "bin_start": 2019.6,
            "bin_end": 2019.7,
            "count": 0
           },
           {
            "bin_start": 2019.7,
            "bin_end": 2019.8,
            "count": 0
           },
           {
            "bin_start": 2019.8,
            "bin_end": 2019.9,
            "count": 0
           },
           {
            "bin_start": 2019.9,
            "bin_end": 2020,
            "count": 0
           },
           {
            "bin_start": 2020,
            "bin_end": 2020.1,
            "count": 5
           },
           {
            "bin_start": 2020.1,
            "bin_end": 2020.2,
            "count": 0
           },
           {
            "bin_start": 2020.2,
            "bin_end": 2020.3,
            "count": 0
           },
           {
            "bin_start": 2020.3,
            "bin_end": 2020.4,
            "count": 0
           },
           {
            "bin_start": 2020.4,
            "bin_end": 2020.5,
            "count": 0
           }
          ]
         }
        },
        {
         "name": "persentase_tingkat_pengangguran_terbuka",
         "dtype": "float64",
         "stats": {
          "unique_count": 5,
          "nan_count": 0,
          "min": "8.58",
          "max": "14.29",
          "histogram": [
           {
            "bin_start": 8.58,
            "bin_end": 9.151,
            "count": 2
           },
           {
            "bin_start": 9.151,
            "bin_end": 9.722,
            "count": 1
           },
           {
            "bin_start": 9.722,
            "bin_end": 10.293,
            "count": 0
           },
           {
            "bin_start": 10.293,
            "bin_end": 10.864,
            "count": 0
           },
           {
            "bin_start": 10.864,
            "bin_end": 11.434999999999999,
            "count": 1
           },
           {
            "bin_start": 11.434999999999999,
            "bin_end": 12.006,
            "count": 0
           },
           {
            "bin_start": 12.006,
            "bin_end": 12.577,
            "count": 0
           },
           {
            "bin_start": 12.577,
            "bin_end": 13.148,
            "count": 0
           },
           {
            "bin_start": 13.148,
            "bin_end": 13.719,
            "count": 0
           },
           {
            "bin_start": 13.719,
            "bin_end": 14.29,
            "count": 1
           }
          ]
         }
        },
        {
         "name": "kepadatan_penduduk",
         "dtype": "float64",
         "stats": {
          "unique_count": 5,
          "nan_count": 0,
          "min": "617.0",
          "max": "2027.0",
          "histogram": [
           {
            "bin_start": 617,
            "bin_end": 758,
            "count": 2
           },
           {
            "bin_start": 758,
            "bin_end": 899,
            "count": 1
           },
           {
            "bin_start": 899,
            "bin_end": 1040,
            "count": 0
           },
           {
            "bin_start": 1040,
            "bin_end": 1181,
            "count": 0
           },
           {
            "bin_start": 1181,
            "bin_end": 1322,
            "count": 0
           },
           {
            "bin_start": 1322,
            "bin_end": 1463,
            "count": 0
           },
           {
            "bin_start": 1463,
            "bin_end": 1604,
            "count": 0
           },
           {
            "bin_start": 1604,
            "bin_end": 1745,
            "count": 0
           },
           {
            "bin_start": 1745,
            "bin_end": 1886,
            "count": 0
           },
           {
            "bin_start": 1886,
            "bin_end": 2027,
            "count": 2
           }
          ]
         }
        },
        {
         "name": "jumlah_miskin",
         "dtype": "float64",
         "stats": {
          "unique_count": 5,
          "nan_count": 0,
          "min": "175.1",
          "max": "465.67",
          "histogram": [
           {
            "bin_start": 175.1,
            "bin_end": 204.157,
            "count": 1
           },
           {
            "bin_start": 204.157,
            "bin_end": 233.214,
            "count": 0
           },
           {
            "bin_start": 233.214,
            "bin_end": 262.271,
            "count": 1
           },
           {
            "bin_start": 262.271,
            "bin_end": 291.32800000000003,
            "count": 2
           },
           {
            "bin_start": 291.32800000000003,
            "bin_end": 320.385,
            "count": 0
           },
           {
            "bin_start": 320.385,
            "bin_end": 349.442,
            "count": 0
           },
           {
            "bin_start": 349.442,
            "bin_end": 378.499,
            "count": 0
           },
           {
            "bin_start": 378.499,
            "bin_end": 407.55600000000004,
            "count": 0
           },
           {
            "bin_start": 407.55600000000004,
            "bin_end": 436.61300000000006,
            "count": 0
           },
           {
            "bin_start": 436.61300000000006,
            "bin_end": 465.67,
            "count": 1
           }
          ]
         }
        },
        {
         "name": "persen_miskin",
         "dtype": "float64",
         "stats": {
          "unique_count": 5,
          "nan_count": 0,
          "min": "6.91",
          "max": "10.36",
          "histogram": [
           {
            "bin_start": 6.91,
            "bin_end": 7.255,
            "count": 2
           },
           {
            "bin_start": 7.255,
            "bin_end": 7.6,
            "count": 0
           },
           {
            "bin_start": 7.6,
            "bin_end": 7.945,
            "count": 1
           },
           {
            "bin_start": 7.945,
            "bin_end": 8.29,
            "count": 0
           },
           {
            "bin_start": 8.29,
            "bin_end": 8.635,
            "count": 0
           },
           {
            "bin_start": 8.635,
            "bin_end": 8.98,
            "count": 0
           },
           {
            "bin_start": 8.98,
            "bin_end": 9.325,
            "count": 0
           },
           {
            "bin_start": 9.325,
            "bin_end": 9.67,
            "count": 0
           },
           {
            "bin_start": 9.67,
            "bin_end": 10.014999999999999,
            "count": 1
           },
           {
            "bin_start": 10.014999999999999,
            "bin_end": 10.36,
            "count": 1
           }
          ]
         }
        },
        {
         "name": "IKM",
         "dtype": "float64",
         "stats": {
          "unique_count": 5,
          "nan_count": 0,
          "min": "0.8",
          "max": "1.38",
          "histogram": [
           {
            "bin_start": 0.8,
            "bin_end": 0.858,
            "count": 2
           },
           {
            "bin_start": 0.858,
            "bin_end": 0.916,
            "count": 0
           },
           {
            "bin_start": 0.916,
            "bin_end": 0.974,
            "count": 2
           },
           {
            "bin_start": 0.974,
            "bin_end": 1.032,
            "count": 0
           },
           {
            "bin_start": 1.032,
            "bin_end": 1.0899999999999999,
            "count": 0
           },
           {
            "bin_start": 1.0899999999999999,
            "bin_end": 1.148,
            "count": 0
           },
           {
            "bin_start": 1.148,
            "bin_end": 1.206,
            "count": 0
           },
           {
            "bin_start": 1.206,
            "bin_end": 1.2639999999999998,
            "count": 0
           },
           {
            "bin_start": 1.2639999999999998,
            "bin_end": 1.3219999999999998,
            "count": 0
           },
           {
            "bin_start": 1.3219999999999998,
            "bin_end": 1.38,
            "count": 1
           }
          ]
         }
        },
        {
         "name": "disaster_count",
         "dtype": "float64",
         "stats": {
          "unique_count": 5,
          "nan_count": 0,
          "min": "1.0",
          "max": "59.0",
          "histogram": [
           {
            "bin_start": 1,
            "bin_end": 6.8,
            "count": 3
           },
           {
            "bin_start": 6.8,
            "bin_end": 12.6,
            "count": 0
           },
           {
            "bin_start": 12.6,
            "bin_end": 18.4,
            "count": 0
           },
           {
            "bin_start": 18.4,
            "bin_end": 24.2,
            "count": 1
           },
           {
            "bin_start": 24.2,
            "bin_end": 30,
            "count": 0
           },
           {
            "bin_start": 30,
            "bin_end": 35.8,
            "count": 0
           },
           {
            "bin_start": 35.8,
            "bin_end": 41.6,
            "count": 0
           },
           {
            "bin_start": 41.6,
            "bin_end": 47.4,
            "count": 0
           },
           {
            "bin_start": 47.4,
            "bin_end": 53.199999999999996,
            "count": 0
           },
           {
            "bin_start": 53.199999999999996,
            "bin_end": 59,
            "count": 1
           }
          ]
         }
        },
        {
         "name": "luas",
         "dtype": "float64",
         "stats": {
          "unique_count": 5,
          "nan_count": 0,
          "min": "1767.96",
          "max": "4145.7",
          "histogram": [
           {
            "bin_start": 1767.96,
            "bin_end": 2005.734,
            "count": 1
           },
           {
            "bin_start": 2005.734,
            "bin_end": 2243.508,
            "count": 0
           },
           {
            "bin_start": 2243.508,
            "bin_end": 2481.282,
            "count": 0
           },
           {
            "bin_start": 2481.282,
            "bin_end": 2719.056,
            "count": 1
           },
           {
            "bin_start": 2719.056,
            "bin_end": 2956.83,
            "count": 0
           },
           {
            "bin_start": 2956.83,
            "bin_end": 3194.604,
            "count": 1
           },
           {
            "bin_start": 3194.604,
            "bin_end": 3432.3779999999997,
            "count": 0
           },
           {
            "bin_start": 3432.3779999999997,
            "bin_end": 3670.152,
            "count": 0
           },
           {
            "bin_start": 3670.152,
            "bin_end": 3907.926,
            "count": 1
           },
           {
            "bin_start": 3907.926,
            "bin_end": 4145.7,
            "count": 1
           }
          ]
         }
        },
        {
         "name": "konfirmasi_aktif",
         "dtype": "float64",
         "stats": {
          "unique_count": 5,
          "nan_count": 0,
          "min": "14.552287581699346",
          "max": "282.27450980392155",
          "histogram": [
           {
            "bin_start": 14.552287581699346,
            "bin_end": 41.324509803921565,
            "count": 1
           },
           {
            "bin_start": 41.324509803921565,
            "bin_end": 68.09673202614378,
            "count": 0
           },
           {
            "bin_start": 68.09673202614378,
            "bin_end": 94.86895424836601,
            "count": 0
           },
           {
            "bin_start": 94.86895424836601,
            "bin_end": 121.64117647058822,
            "count": 2
           },
           {
            "bin_start": 121.64117647058822,
            "bin_end": 148.41339869281043,
            "count": 0
           },
           {
            "bin_start": 148.41339869281043,
            "bin_end": 175.18562091503267,
            "count": 0
           },
           {
            "bin_start": 175.18562091503267,
            "bin_end": 201.95784313725488,
            "count": 1
           },
           {
            "bin_start": 201.95784313725488,
            "bin_end": 228.7300653594771,
            "count": 0
           },
           {
            "bin_start": 228.7300653594771,
            "bin_end": 255.5022875816993,
            "count": 0
           },
           {
            "bin_start": 255.5022875816993,
            "bin_end": 282.27450980392155,
            "count": 1
           }
          ]
         }
        },
        {
         "name": "_deepnote_index_column",
         "dtype": "int64"
        }
       ],
       "rows": [
        {
         "Nama Wilayah": "KABUPATEN BOGOR",
         "indeks_pendidikan": 62.33,
         "Tahun": 2020,
         "persentase_tingkat_pengangguran_terbuka": 14.29,
         "kepadatan_penduduk": 1893,
         "jumlah_miskin": 465.67,
         "persen_miskin": 7.69,
         "IKM": 0.83,
         "disaster_count": 24,
         "luas": 2710.62,
         "konfirmasi_aktif": 282.27450980392155,
         "_deepnote_index_column": 0
        },
        {
         "Nama Wilayah": "KABUPATEN SUKABUMI",
         "indeks_pendidikan": 57.54,
         "Tahun": 2020,
         "persentase_tingkat_pengangguran_terbuka": 9.6,
         "kepadatan_penduduk": 634,
         "jumlah_miskin": 175.1,
         "persen_miskin": 7.09,
         "IKM": 0.8,
         "disaster_count": 5,
         "luas": 4145.7,
         "konfirmasi_aktif": 101.58496732026144,
         "_deepnote_index_column": 1
        },
        {
         "Nama Wilayah": "KABUPATEN CIANJUR",
         "indeks_pendidikan": 57.24,
         "Tahun": 2020,
         "persentase_tingkat_pengangguran_terbuka": 11.05,
         "kepadatan_penduduk": 617,
         "jumlah_miskin": 234.47,
         "persen_miskin": 10.36,
         "IKM": 1.38,
         "disaster_count": 1,
         "luas": 3840.16,
         "konfirmasi_aktif": 14.552287581699346,
         "_deepnote_index_column": 2
        },
        {
         "Nama Wilayah": "KABUPATEN BANDUNG",
         "indeks_pendidikan": 65.12,
         "Tahun": 2020,
         "persentase_tingkat_pengangguran_terbuka": 8.58,
         "kepadatan_penduduk": 2027,
         "jumlah_miskin": 263.6,
         "persen_miskin": 6.91,
         "IKM": 0.92,
         "disaster_count": 59,
         "luas": 1767.96,
         "konfirmasi_aktif": 189.11111111111111,
         "_deepnote_index_column": 3
        },
        {
         "Nama Wilayah": "KABUPATEN GARUT",
         "indeks_pendidikan": 58.15,
         "Tahun": 2020,
         "persentase_tingkat_pengangguran_terbuka": 8.96,
         "kepadatan_penduduk": 818,
         "jumlah_miskin": 262.78,
         "persen_miskin": 9.98,
         "IKM": 0.97,
         "disaster_count": 4,
         "luas": 3074.07,
         "konfirmasi_aktif": 109.14379084967321,
         "_deepnote_index_column": 4
        }
       ]
      },
      "text/plain": "         Nama Wilayah  indeks_pendidikan  Tahun  \\\n0     KABUPATEN BOGOR              62.33   2020   \n1  KABUPATEN SUKABUMI              57.54   2020   \n2   KABUPATEN CIANJUR              57.24   2020   \n3   KABUPATEN BANDUNG              65.12   2020   \n4     KABUPATEN GARUT              58.15   2020   \n\n   persentase_tingkat_pengangguran_terbuka  kepadatan_penduduk  jumlah_miskin  \\\n0                                    14.29              1893.0         465.67   \n1                                     9.60               634.0         175.10   \n2                                    11.05               617.0         234.47   \n3                                     8.58              2027.0         263.60   \n4                                     8.96               818.0         262.78   \n\n   persen_miskin   IKM  disaster_count     luas  konfirmasi_aktif  \n0           7.69  0.83            24.0  2710.62        282.274510  \n1           7.09  0.80             5.0  4145.70        101.584967  \n2          10.36  1.38             1.0  3840.16         14.552288  \n3           6.91  0.92            59.0  1767.96        189.111111  \n4           9.98  0.97             4.0  3074.07        109.143791  ",
      "text/html": "<div>\n<style scoped>\n    .dataframe tbody tr th:only-of-type {\n        vertical-align: middle;\n    }\n\n    .dataframe tbody tr th {\n        vertical-align: top;\n    }\n\n    .dataframe thead th {\n        text-align: right;\n    }\n</style>\n<table border=\"1\" class=\"dataframe\">\n  <thead>\n    <tr style=\"text-align: right;\">\n      <th></th>\n      <th>Nama Wilayah</th>\n      <th>indeks_pendidikan</th>\n      <th>Tahun</th>\n      <th>persentase_tingkat_pengangguran_terbuka</th>\n      <th>kepadatan_penduduk</th>\n      <th>jumlah_miskin</th>\n      <th>persen_miskin</th>\n      <th>IKM</th>\n      <th>disaster_count</th>\n      <th>luas</th>\n      <th>konfirmasi_aktif</th>\n    </tr>\n  </thead>\n  <tbody>\n    <tr>\n      <th>0</th>\n      <td>KABUPATEN BOGOR</td>\n      <td>62.33</td>\n      <td>2020</td>\n      <td>14.29</td>\n      <td>1893.0</td>\n      <td>465.67</td>\n      <td>7.69</td>\n      <td>0.83</td>\n      <td>24.0</td>\n      <td>2710.62</td>\n      <td>282.274510</td>\n    </tr>\n    <tr>\n      <th>1</th>\n      <td>KABUPATEN SUKABUMI</td>\n      <td>57.54</td>\n      <td>2020</td>\n      <td>9.60</td>\n      <td>634.0</td>\n      <td>175.10</td>\n      <td>7.09</td>\n      <td>0.80</td>\n      <td>5.0</td>\n      <td>4145.70</td>\n      <td>101.584967</td>\n    </tr>\n    <tr>\n      <th>2</th>\n      <td>KABUPATEN CIANJUR</td>\n      <td>57.24</td>\n      <td>2020</td>\n      <td>11.05</td>\n      <td>617.0</td>\n      <td>234.47</td>\n      <td>10.36</td>\n      <td>1.38</td>\n      <td>1.0</td>\n      <td>3840.16</td>\n      <td>14.552288</td>\n    </tr>\n    <tr>\n      <th>3</th>\n      <td>KABUPATEN BANDUNG</td>\n      <td>65.12</td>\n      <td>2020</td>\n      <td>8.58</td>\n      <td>2027.0</td>\n      <td>263.60</td>\n      <td>6.91</td>\n      <td>0.92</td>\n      <td>59.0</td>\n      <td>1767.96</td>\n      <td>189.111111</td>\n    </tr>\n    <tr>\n      <th>4</th>\n      <td>KABUPATEN GARUT</td>\n      <td>58.15</td>\n      <td>2020</td>\n      <td>8.96</td>\n      <td>818.0</td>\n      <td>262.78</td>\n      <td>9.98</td>\n      <td>0.97</td>\n      <td>4.0</td>\n      <td>3074.07</td>\n      <td>109.143791</td>\n    </tr>\n  </tbody>\n</table>\n</div>"
     },
     "metadata": {}
    }
   ],
   "execution_count": null
  },
  {
   "cell_type": "markdown",
   "source": "### Visualization",
   "metadata": {
    "cell_id": "e3accbfd628f432bb1bd8e7e37a31d5c",
    "tags": [],
    "deepnote_cell_type": "markdown",
    "deepnote_cell_height": 62
   }
  },
  {
   "cell_type": "code",
   "source": "sorted_nama_kab = ip_jabar2021.loc[ip_jabar2021['tahun'] == 2020].sort_values(by=\"indeks_pendidikan\", ascending=False).nama_kabupaten_kota\nip20 = pd.merge(sorted_nama_kab, ip_jabar2021.loc[ip_jabar2021['tahun'] == 2020], on=\"nama_kabupaten_kota\", how=\"inner\").indeks_pendidikan\nip21 = pd.merge(sorted_nama_kab, ip_jabar2021.loc[ip_jabar2021['tahun'] == 2021], on=\"nama_kabupaten_kota\", how=\"inner\").indeks_pendidikan\n\nX_axis = np.arange(len(ip_jabar2021.nama_kabupaten_kota.unique()))\nfig = plt.figure() \nfig.set_size_inches(10,8)\nplt.bar(X_axis - 0.2, ip20, 0.4, label=\"2020\")\nplt.bar(X_axis + 0.2, ip21, 0.4, label=\"2021\")\n\nplt.xticks(X_axis, sorted_nama_kab, rotation=\"vertical\")\nplt.xlabel(\"Kabupaten dan Kota\")\nplt.ylabel(\"Rata-rata Indeks Pendidikan\")\nplt.title(\"Indeks Pendidikan pada Tiap Kabupaten/Kota\")\nplt.ylim(ip_jabar2021.indeks_pendidikan.min() * 0.9, ip_jabar2021.indeks_pendidikan.max() * 1.1)\nplt.legend()\nplt.show()",
   "metadata": {
    "cell_id": "63ae4fc1944a4c059764ec2b16f035cd",
    "tags": [],
    "deepnote_to_be_reexecuted": false,
    "source_hash": "fa594c6a",
    "execution_start": 1661038183522,
    "execution_millis": 1007,
    "deepnote_cell_type": "code",
    "deepnote_cell_height": 380,
    "deepnote_output_heights": [
     610
    ]
   },
   "outputs": [
    {
     "data": {
      "text/plain": "<Figure size 720x576 with 1 Axes>",
      "image/png": "[encoded data removed]"
     },
     "metadata": {
      "needs_background": "light",
      "image/png": {
       "width": 606,
       "height": 635
      }
     },
     "output_type": "display_data"
    }
   ],
   "execution_count": null
  },
  {
   "cell_type": "code",
   "source": "kemiskinan_jabar_2020_2021 = kemiskinan_jabar_2020_2021.drop(kemiskinan_jabar_2020_2021.loc[kemiskinan_jabar_2020_2021['Nama Wilayah'] == \"JAWA BARAT\"].index).reset_index(drop=True)\nsorted_nama_kab = kemiskinan_jabar_2020_2021.loc[kemiskinan_jabar_2020_2021['Tahun'] == 2020].sort_values(by=\"Persen Miskin\", ascending=False)[\"Nama Wilayah\"]\n\nkemiskinan20 = pd.merge(sorted_nama_kab, kemiskinan_jabar_2020_2021.loc[kemiskinan_jabar_2020_2021['Tahun'] == 2020], on=\"Nama Wilayah\", how=\"inner\")['Persen Miskin']\nkemiskinan21 = pd.merge(sorted_nama_kab, kemiskinan_jabar_2020_2021.loc[kemiskinan_jabar_2020_2021['Tahun'] == 2021], on=\"Nama Wilayah\", how=\"inner\")['Persen Miskin']\n\nX_axis = np.arange(len(kemiskinan_jabar_2020_2021['Nama Wilayah'].unique()))\nfig = plt.figure() \nfig.set_size_inches(10,8)\nplt.bar(X_axis - 0.2, kemiskinan20, 0.4, label=\"2020\")\nplt.bar(X_axis + 0.2, kemiskinan21, 0.4, label=\"2021\")\n\nplt.xticks(X_axis, sorted_nama_kab, rotation=\"vertical\")\nplt.xlabel(\"Kabupaten dan Kota\")\nplt.ylabel(\"Rata-rata Persen Miskin\")\nplt.title(\"Persen Miskin pada Tiap Kabupaten/Kota\")\nplt.ylim(kemiskinan_jabar_2020_2021['Persen Miskin'].min() * 0.9, kemiskinan_jabar_2020_2021['Persen Miskin'].max() * 1.1)\nplt.legend()\nplt.show()",
   "metadata": {
    "cell_id": "8b9ebe00e302497c9df63c5e90ef6566",
    "tags": [],
    "deepnote_to_be_reexecuted": false,
    "source_hash": "69ee260b",
    "execution_start": 1661038184525,
    "execution_millis": 771,
    "deepnote_cell_type": "code",
    "deepnote_cell_height": 416,
    "deepnote_output_heights": [
     573
    ]
   },
   "outputs": [
    {
     "data": {
      "text/plain": "<Figure size 720x576 with 1 Axes>",
      "image/png": "[encoded data removed]"
     },
     "metadata": {
      "needs_background": "light",
      "image/png": {
       "width": 606,
       "height": 572
      }
     },
     "output_type": "display_data"
    }
   ],
   "execution_count": null
  },
  {
   "cell_type": "code",
   "source": "kepadatan_jabar = kepadatan_jabar.drop(kepadatan_jabar.loc[kepadatan_jabar['nama_kabupaten_kota'] == \"JAWA BARAT\"].index).reset_index(drop=True)\nsorted_nama_kab = kepadatan_jabar.loc[kepadatan_jabar['tahun'] == 2020].sort_values(by=\"kepadatan_penduduk\", ascending=False).nama_kabupaten_kota\n\npadat20 = pd.merge(sorted_nama_kab, kepadatan_jabar.loc[kepadatan_jabar['tahun'] == 2020], on=\"nama_kabupaten_kota\", how=\"inner\")['kepadatan_penduduk']\npadat21 = pd.merge(sorted_nama_kab, kepadatan_jabar.loc[kepadatan_jabar['tahun'] == 2021], on=\"nama_kabupaten_kota\", how=\"inner\")['kepadatan_penduduk']\n\nX_axis = np.arange(len(kepadatan_jabar['nama_kabupaten_kota'].unique()))\nfig = plt.figure() \nfig.set_size_inches(10,8)\nplt.bar(X_axis - 0.2, padat20, 0.4, label=\"2020\")\nplt.bar(X_axis + 0.2, padat21, 0.4, label=\"2021\")\n\nplt.xticks(X_axis, sorted_nama_kab, rotation=\"vertical\")\nplt.xlabel(\"Kabupaten dan Kota\")\nplt.ylabel(\"Rata-rata Kepadatan Penduduk\")\nplt.title(\"Kepadatan Penduduk pada Tiap Kabupaten/Kota\")\nplt.ylim(kepadatan_jabar['kepadatan_penduduk'].min() * 0.9, kepadatan_jabar['kepadatan_penduduk'].max() * 1.1)\nplt.legend()\nplt.show()",
   "metadata": {
    "cell_id": "e2a3bda024ed4d9fa80f680c182a0421",
    "tags": [],
    "deepnote_to_be_reexecuted": false,
    "source_hash": "23eedf4a",
    "execution_start": 1661038185302,
    "execution_millis": 1467,
    "deepnote_cell_type": "code",
    "deepnote_cell_height": 416,
    "deepnote_output_heights": [
     610
    ]
   },
   "outputs": [
    {
     "data": {
      "text/plain": "<Figure size 720x576 with 1 Axes>",
      "image/png": "[encoded data removed]"
     },
     "metadata": {
      "needs_background": "light",
      "image/png": {
       "width": 624,
       "height": 635
      }
     },
     "output_type": "display_data"
    }
   ],
   "execution_count": null
  },
  {
   "cell_type": "code",
   "source": "sorted_nama_kab = pengangguran_final.loc[pengangguran_final['tahun'] == 2020].sort_values(by=\"persentase_tingkat_pengangguran_terbuka\", ascending=False).nama_kabupaten_kota\nguran20 = pd.merge(sorted_nama_kab, pengangguran_final.loc[pengangguran_final['tahun'] == 2020], on=\"nama_kabupaten_kota\", how=\"inner\")['persentase_tingkat_pengangguran_terbuka']\nguran21 = pd.merge(sorted_nama_kab, pengangguran_final.loc[pengangguran_final['tahun'] == 2020], on=\"nama_kabupaten_kota\", how=\"inner\")['persentase_tingkat_pengangguran_terbuka']\n\nX_axis = np.arange(guran20.size)\nfig = plt.figure() \nfig.set_size_inches(10,8)\nplt.bar(X_axis - 0.2, guran20, 0.4, label=\"2020\")\nplt.bar(X_axis + 0.2, guran21, 0.4, label=\"2021\")\n\nplt.xticks(X_axis, sorted_nama_kab, rotation=\"vertical\")\nplt.xlabel(\"Kabupaten dan Kota\")\nplt.ylabel(\"Rata-rata Persen Tingkat Pengangguran Terbuka\")\nplt.title(\"Persen Tingkat Pengangguran Terbuka pada Tiap Kabupaten/Kota\")\nplt.ylim(pengangguran_final['persentase_tingkat_pengangguran_terbuka'].min() * 0.9, pengangguran_final['persentase_tingkat_pengangguran_terbuka'].max() * 1.1)\nplt.legend()\nplt.show()",
   "metadata": {
    "cell_id": "c12dbe00711a4382b6d740e72b7ce145",
    "tags": [],
    "deepnote_to_be_reexecuted": false,
    "source_hash": "35b3dac4",
    "execution_start": 1661038186435,
    "execution_millis": 906,
    "deepnote_cell_type": "code",
    "deepnote_cell_height": 380,
    "deepnote_output_heights": [
     610
    ]
   },
   "outputs": [
    {
     "data": {
      "text/plain": "<Figure size 720x576 with 1 Axes>",
      "image/png": "[encoded data removed]"
     },
     "metadata": {
      "needs_background": "light",
      "image/png": {
       "width": 606,
       "height": 635
      }
     },
     "output_type": "display_data"
    }
   ],
   "execution_count": null
  },
  {
   "cell_type": "code",
   "source": "luas_jabar = luas_jabar.drop(luas_jabar.loc[luas_jabar['Nama Wilayah'] == \"JAWA BARAT\"].index).reset_index(drop=True)\nsorted_nama_kab = luas_jabar.loc[luas_jabar.Tahun == 2020].sort_values(by=\"luas\", ascending=False)['Nama Wilayah']\nval = pd.merge(sorted_nama_kab, luas_jabar.loc[luas_jabar.Tahun == 2020], on=\"Nama Wilayah\", how=\"inner\")\nval.plot.bar(x=\"Nama Wilayah\", y=\"luas\")\n\nplt.xlabel(\"Kabupaten dan Kota\")\nplt.ylabel(\"Luas daerah (KM persegi)\")\nplt.title(\"Luas daerah pada tiap Kabupaten/Kota\")\nplt.show()",
   "metadata": {
    "cell_id": "74908fff48974c3d9b46cf33e789137c",
    "tags": [],
    "deepnote_to_be_reexecuted": false,
    "source_hash": "ef783e42",
    "execution_start": 1661038187344,
    "execution_millis": 816,
    "deepnote_cell_type": "code",
    "deepnote_cell_height": 236,
    "deepnote_output_heights": [
     418
    ]
   },
   "outputs": [
    {
     "data": {
      "text/plain": "<Figure size 432x288 with 1 Axes>",
      "image/png": "[encoded data removed]"
     },
     "metadata": {
      "needs_background": "light",
      "image/png": {
       "width": 395,
       "height": 417
      }
     },
     "output_type": "display_data"
    }
   ],
   "execution_count": null
  },
  {
   "cell_type": "markdown",
   "source": "## Modeling",
   "metadata": {
    "is_collapsed": false,
    "cell_id": "6e87aa5d6cd44a169b330405e1eeaeaa",
    "tags": [],
    "formattedRanges": [],
    "deepnote_cell_type": "text-cell-h2"
   }
  },
  {
   "cell_type": "code",
   "source": "predictor = \"indeks_pendidikan +  persentase_tingkat_pengangguran_terbuka + kepadatan_penduduk\"\npredictor = predictor + \" + disaster_count + luas + konfirmasi_aktif\"\ny, X = dmatrices(\n    'persen_miskin ~ ' + predictor,\n     data=dataset_reglin, \n     return_type='dataframe'\n    )\nX = sm.add_constant(X)\nsm.OLS(y, X).fit().summary()",
   "metadata": {
    "cell_id": "de0f17885da84fb89f5164742b46188c",
    "tags": [],
    "deepnote_to_be_reexecuted": false,
    "source_hash": "cda9fa4b",
    "execution_start": 1661038188162,
    "execution_millis": 72,
    "deepnote_cell_type": "code",
    "deepnote_cell_height": 236
   },
   "outputs": [
    {
     "output_type": "execute_result",
     "execution_count": 65,
     "data": {
      "text/plain": "<class 'statsmodels.iolib.summary.Summary'>\n\"\"\"\n                            OLS Regression Results                            \n==============================================================================\nDep. Variable:          persen_miskin   R-squared:                       0.640\nModel:                            OLS   Adj. R-squared:                  0.594\nMethod:                 Least Squares   F-statistic:                     13.92\nDate:                Sat, 20 Aug 2022   Prob (F-statistic):           5.03e-09\nTime:                        23:29:48   Log-Likelihood:                -104.85\nNo. Observations:                  54   AIC:                             223.7\nDf Residuals:                      47   BIC:                             237.6\nDf Model:                           6                                         \nCovariance Type:            nonrobust                                         \n===========================================================================================================\n                                              coef    std err          t      P>|t|      [0.025      0.975]\n-----------------------------------------------------------------------------------------------------------\nIntercept                                  32.7074      6.504      5.029      0.000      19.623      45.792\nindeks_pendidikan                          -0.3528      0.100     -3.515      0.001      -0.555      -0.151\npersentase_tingkat_pengangguran_terbuka     0.0353      0.126      0.280      0.780      -0.218       0.288\nkepadatan_penduduk                      -6.659e-05      0.000     -0.459      0.649      -0.000       0.000\ndisaster_count                             -0.0125      0.006     -2.180      0.034      -0.024      -0.001\nluas                                       -0.0009      0.000     -2.691      0.010      -0.001      -0.000\nkonfirmasi_aktif                           -0.0002      0.000     -0.827      0.412      -0.001       0.000\n==============================================================================\nOmnibus:                        5.406   Durbin-Watson:                   2.175\nProb(Omnibus):                  0.067   Jarque-Bera (JB):                4.345\nSkew:                           0.580   Prob(JB):                        0.114\nKurtosis:                       3.764   Cond. No.                     1.57e+05\n==============================================================================\n\nNotes:\n[1] Standard Errors assume that the covariance matrix of the errors is correctly specified.\n[2] The condition number is large, 1.57e+05. This might indicate that there are\nstrong multicollinearity or other numerical problems.\n\"\"\"",
      "text/html": "<table class=\"simpletable\">\n<caption>OLS Regression Results</caption>\n<tr>\n  <th>Dep. Variable:</th>      <td>persen_miskin</td>  <th>  R-squared:         </th> <td>   0.640</td>\n</tr>\n<tr>\n  <th>Model:</th>                   <td>OLS</td>       <th>  Adj. R-squared:    </th> <td>   0.594</td>\n</tr>\n<tr>\n  <th>Method:</th>             <td>Least Squares</td>  <th>  F-statistic:       </th> <td>   13.92</td>\n</tr>\n<tr>\n  <th>Date:</th>             <td>Sat, 20 Aug 2022</td> <th>  Prob (F-statistic):</th> <td>5.03e-09</td>\n</tr>\n<tr>\n  <th>Time:</th>                 <td>23:29:48</td>     <th>  Log-Likelihood:    </th> <td> -104.85</td>\n</tr>\n<tr>\n  <th>No. Observations:</th>      <td>    54</td>      <th>  AIC:               </th> <td>   223.7</td>\n</tr>\n<tr>\n  <th>Df Residuals:</th>          <td>    47</td>      <th>  BIC:               </th> <td>   237.6</td>\n</tr>\n<tr>\n  <th>Df Model:</th>              <td>     6</td>      <th>                     </th>     <td> </td>   \n</tr>\n<tr>\n  <th>Covariance Type:</th>      <td>nonrobust</td>    <th>                     </th>     <td> </td>   \n</tr>\n</table>\n<table class=\"simpletable\">\n<tr>\n                     <td></td>                        <th>coef</th>     <th>std err</th>      <th>t</th>      <th>P>|t|</th>  <th>[0.025</th>    <th>0.975]</th>  \n</tr>\n<tr>\n  <th>Intercept</th>                               <td>   32.7074</td> <td>    6.504</td> <td>    5.029</td> <td> 0.000</td> <td>   19.623</td> <td>   45.792</td>\n</tr>\n<tr>\n  <th>indeks_pendidikan</th>                       <td>   -0.3528</td> <td>    0.100</td> <td>   -3.515</td> <td> 0.001</td> <td>   -0.555</td> <td>   -0.151</td>\n</tr>\n<tr>\n  <th>persentase_tingkat_pengangguran_terbuka</th> <td>    0.0353</td> <td>    0.126</td> <td>    0.280</td> <td> 0.780</td> <td>   -0.218</td> <td>    0.288</td>\n</tr>\n<tr>\n  <th>kepadatan_penduduk</th>                      <td>-6.659e-05</td> <td>    0.000</td> <td>   -0.459</td> <td> 0.649</td> <td>   -0.000</td> <td>    0.000</td>\n</tr>\n<tr>\n  <th>disaster_count</th>                          <td>   -0.0125</td> <td>    0.006</td> <td>   -2.180</td> <td> 0.034</td> <td>   -0.024</td> <td>   -0.001</td>\n</tr>\n<tr>\n  <th>luas</th>                                    <td>   -0.0009</td> <td>    0.000</td> <td>   -2.691</td> <td> 0.010</td> <td>   -0.001</td> <td>   -0.000</td>\n</tr>\n<tr>\n  <th>konfirmasi_aktif</th>                        <td>   -0.0002</td> <td>    0.000</td> <td>   -0.827</td> <td> 0.412</td> <td>   -0.001</td> <td>    0.000</td>\n</tr>\n</table>\n<table class=\"simpletable\">\n<tr>\n  <th>Omnibus:</th>       <td> 5.406</td> <th>  Durbin-Watson:     </th> <td>   2.175</td>\n</tr>\n<tr>\n  <th>Prob(Omnibus):</th> <td> 0.067</td> <th>  Jarque-Bera (JB):  </th> <td>   4.345</td>\n</tr>\n<tr>\n  <th>Skew:</th>          <td> 0.580</td> <th>  Prob(JB):          </th> <td>   0.114</td>\n</tr>\n<tr>\n  <th>Kurtosis:</th>      <td> 3.764</td> <th>  Cond. No.          </th> <td>1.57e+05</td>\n</tr>\n</table><br/><br/>Notes:<br/>[1] Standard Errors assume that the covariance matrix of the errors is correctly specified.<br/>[2] The condition number is large, 1.57e+05. This might indicate that there are<br/>strong multicollinearity or other numerical problems."
     },
     "metadata": {}
    }
   ],
   "execution_count": null
  },
  {
   "cell_type": "code",
   "source": "predictor = \"indeks_pendidikan + disaster_count + luas\"\ny, X = dmatrices(\n    'persen_miskin ~ ' + predictor,\n     data=dataset_reglin, \n     return_type='dataframe'\n    )\nX = sm.add_constant(X)\nsm.OLS(y, X).fit().summary()",
   "metadata": {
    "cell_id": "e145dc7e282e4cef8a09a22ed743aba3",
    "tags": [],
    "deepnote_to_be_reexecuted": false,
    "source_hash": "1f01d00f",
    "execution_start": 1661038188238,
    "execution_millis": 79,
    "deepnote_cell_type": "code",
    "deepnote_cell_height": 218
   },
   "outputs": [
    {
     "output_type": "execute_result",
     "execution_count": 66,
     "data": {
      "text/plain": "<class 'statsmodels.iolib.summary.Summary'>\n\"\"\"\n                            OLS Regression Results                            \n==============================================================================\nDep. Variable:          persen_miskin   R-squared:                       0.633\nModel:                            OLS   Adj. R-squared:                  0.611\nMethod:                 Least Squares   F-statistic:                     28.78\nDate:                Sat, 20 Aug 2022   Prob (F-statistic):           5.92e-11\nTime:                        23:29:48   Log-Likelihood:                -105.35\nNo. Observations:                  54   AIC:                             218.7\nDf Residuals:                      50   BIC:                             226.7\nDf Model:                           3                                         \nCovariance Type:            nonrobust                                         \n=====================================================================================\n                        coef    std err          t      P>|t|      [0.025      0.975]\n-------------------------------------------------------------------------------------\nIntercept            36.3329      3.633     10.001      0.000      29.036      43.630\nindeks_pendidikan    -0.4096      0.052     -7.869      0.000      -0.514      -0.305\ndisaster_count       -0.0115      0.005     -2.251      0.029      -0.022      -0.001\nluas                 -0.0009      0.000     -2.992      0.004      -0.001      -0.000\n==============================================================================\nOmnibus:                        7.554   Durbin-Watson:                   2.237\nProb(Omnibus):                  0.023   Jarque-Bera (JB):                6.710\nSkew:                           0.717   Prob(JB):                       0.0349\nKurtosis:                       3.962   Cond. No.                     2.63e+04\n==============================================================================\n\nNotes:\n[1] Standard Errors assume that the covariance matrix of the errors is correctly specified.\n[2] The condition number is large, 2.63e+04. This might indicate that there are\nstrong multicollinearity or other numerical problems.\n\"\"\"",
      "text/html": "<table class=\"simpletable\">\n<caption>OLS Regression Results</caption>\n<tr>\n  <th>Dep. Variable:</th>      <td>persen_miskin</td>  <th>  R-squared:         </th> <td>   0.633</td>\n</tr>\n<tr>\n  <th>Model:</th>                   <td>OLS</td>       <th>  Adj. R-squared:    </th> <td>   0.611</td>\n</tr>\n<tr>\n  <th>Method:</th>             <td>Least Squares</td>  <th>  F-statistic:       </th> <td>   28.78</td>\n</tr>\n<tr>\n  <th>Date:</th>             <td>Sat, 20 Aug 2022</td> <th>  Prob (F-statistic):</th> <td>5.92e-11</td>\n</tr>\n<tr>\n  <th>Time:</th>                 <td>23:29:48</td>     <th>  Log-Likelihood:    </th> <td> -105.35</td>\n</tr>\n<tr>\n  <th>No. Observations:</th>      <td>    54</td>      <th>  AIC:               </th> <td>   218.7</td>\n</tr>\n<tr>\n  <th>Df Residuals:</th>          <td>    50</td>      <th>  BIC:               </th> <td>   226.7</td>\n</tr>\n<tr>\n  <th>Df Model:</th>              <td>     3</td>      <th>                     </th>     <td> </td>   \n</tr>\n<tr>\n  <th>Covariance Type:</th>      <td>nonrobust</td>    <th>                     </th>     <td> </td>   \n</tr>\n</table>\n<table class=\"simpletable\">\n<tr>\n          <td></td>             <th>coef</th>     <th>std err</th>      <th>t</th>      <th>P>|t|</th>  <th>[0.025</th>    <th>0.975]</th>  \n</tr>\n<tr>\n  <th>Intercept</th>         <td>   36.3329</td> <td>    3.633</td> <td>   10.001</td> <td> 0.000</td> <td>   29.036</td> <td>   43.630</td>\n</tr>\n<tr>\n  <th>indeks_pendidikan</th> <td>   -0.4096</td> <td>    0.052</td> <td>   -7.869</td> <td> 0.000</td> <td>   -0.514</td> <td>   -0.305</td>\n</tr>\n<tr>\n  <th>disaster_count</th>    <td>   -0.0115</td> <td>    0.005</td> <td>   -2.251</td> <td> 0.029</td> <td>   -0.022</td> <td>   -0.001</td>\n</tr>\n<tr>\n  <th>luas</th>              <td>   -0.0009</td> <td>    0.000</td> <td>   -2.992</td> <td> 0.004</td> <td>   -0.001</td> <td>   -0.000</td>\n</tr>\n</table>\n<table class=\"simpletable\">\n<tr>\n  <th>Omnibus:</th>       <td> 7.554</td> <th>  Durbin-Watson:     </th> <td>   2.237</td>\n</tr>\n<tr>\n  <th>Prob(Omnibus):</th> <td> 0.023</td> <th>  Jarque-Bera (JB):  </th> <td>   6.710</td>\n</tr>\n<tr>\n  <th>Skew:</th>          <td> 0.717</td> <th>  Prob(JB):          </th> <td>  0.0349</td>\n</tr>\n<tr>\n  <th>Kurtosis:</th>      <td> 3.962</td> <th>  Cond. No.          </th> <td>2.63e+04</td>\n</tr>\n</table><br/><br/>Notes:<br/>[1] Standard Errors assume that the covariance matrix of the errors is correctly specified.<br/>[2] The condition number is large, 2.63e+04. This might indicate that there are<br/>strong multicollinearity or other numerical problems."
     },
     "metadata": {}
    }
   ],
   "execution_count": null
  },
  {
   "cell_type": "markdown",
   "source": "<a style='text-decoration:none;line-height:16px;display:flex;color:#5B5B62;padding:10px;justify-content:end;' href='https://deepnote.com?utm_source=created-in-deepnote-cell&projectId=2f59f799-430e-4287-8131-e51ce43b55e7' target=\"_blank\">\n<img alt='Created in deepnote.com' style='display:inline;max-height:16px;margin:0px;margin-right:7.5px;' src='data:image/svg+xml;base64,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' > </img>\nCreated in <span style='font-weight:600;margin-left:4px;'>Deepnote</span></a>",
   "metadata": {
    "tags": [],
    "created_in_deepnote_cell": true,
    "deepnote_cell_type": "markdown"
   }
  }
 ],
 "nbformat": 4,
 "nbformat_minor": 2,
 "metadata": {
  "orig_nbformat": 2,
  "deepnote": {},
  "deepnote_notebook_id": "5224cbf5-c40a-4a57-b87d-65a497b7c4b6",
  "deepnote_execution_queue": []
 }
}